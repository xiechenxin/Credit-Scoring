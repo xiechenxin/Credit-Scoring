{
 "cells": [
  {
   "cell_type": "markdown",
   "metadata": {},
   "source": [
    "# Credit Scoring Individual Assignment"
   ]
  },
  {
   "cell_type": "markdown",
   "metadata": {},
   "source": [
    "### Chenxin Xie"
   ]
  },
  {
   "cell_type": "markdown",
   "metadata": {},
   "source": [
    "This project amis to develop an application credit scorecard for a financial institution which extends loans to subprime customers (pay-day loans).\n",
    "We will first look into the data and pre-process the data, then perform different models and evalute each model's performance, and finally choose the best one to be our final scorecard."
   ]
  },
  {
   "cell_type": "code",
   "execution_count": 204,
   "metadata": {},
   "outputs": [
    {
     "name": "stderr",
     "output_type": "stream",
     "text": [
      "Warning message:\n",
      "\"package 'naivebayes' was built under R version 3.6.3\"naivebayes 0.9.7 loaded\n",
      "\n",
      "Attaching package: 'naivebayes'\n",
      "\n",
      "The following object is masked from 'package:data.table':\n",
      "\n",
      "    tables\n",
      "\n"
     ]
    }
   ],
   "source": [
    "# Load library\n",
    "library(xlsx)\n",
    "library(tidyverse)\n",
    "library(ggplot2)\n",
    "library(ggpubr)\n",
    "theme_set(theme_pubr())\n",
    "library(caret)\n",
    "library(plyr) \n",
    "library(Information)\n",
    "library(MASS)\n",
    "library(knitr)\n",
    "library(scorecard)\n",
    "library(ggplot2) \n",
    "library(gtools)\n",
    "library(mlr)\n",
    "library(woeBinning)\n",
    "library(data.table)\n",
    "library(dataPreparation)\n",
    "library(logistf)\n",
    "library(pROC)\n",
    "library(randomForest)\n",
    "library(ROCR)\n",
    "library(rpart)\n",
    "library(rpart.plot)\n",
    "library(stringr)\n",
    "library(naivebayes)"
   ]
  },
  {
   "cell_type": "code",
   "execution_count": 203,
   "metadata": {},
   "outputs": [],
   "source": [
    "#install.packages(\"naivebayes\")"
   ]
  },
  {
   "cell_type": "markdown",
   "metadata": {},
   "source": [
    "### 1. Data Exploration and Cleaning"
   ]
  },
  {
   "cell_type": "markdown",
   "metadata": {},
   "source": [
    "#### Read in data"
   ]
  },
  {
   "cell_type": "code",
   "execution_count": 2,
   "metadata": {},
   "outputs": [],
   "source": [
    "setwd(\"C:/Users/cxie/Desktop/Credit scoring/\")"
   ]
  },
  {
   "cell_type": "code",
   "execution_count": 3,
   "metadata": {},
   "outputs": [
    {
     "data": {
      "text/html": [
       "<table>\n",
       "<thead><tr><th scope=col>ID</th><th scope=col>V1</th><th scope=col>V2</th><th scope=col>V3</th><th scope=col>V4</th><th scope=col>V5</th><th scope=col>V6</th><th scope=col>V7</th><th scope=col>V8</th><th scope=col>Has_FICO</th><th scope=col>Business_channel</th><th scope=col>Days_late</th><th scope=col>FICO_Score</th><th scope=col>Loan_amount</th><th scope=col>Monthly_income</th><th scope=col>Age</th><th scope=col>Gearing_coefficient</th><th scope=col>Max_gearing_ratio</th><th scope=col>Default_45</th></tr></thead>\n",
       "<tbody>\n",
       "\t<tr><td>250263     </td><td>1          </td><td>1          </td><td>11         </td><td>5          </td><td>6          </td><td>7          </td><td>1          </td><td>2          </td><td>0          </td><td>1          </td><td>  0        </td><td>        NA </td><td> 1.4385177 </td><td>-0.25908469</td><td> 1.7810399 </td><td> 0.8602691 </td><td> 0.5139798 </td><td>0          </td></tr>\n",
       "\t<tr><td>250290     </td><td>1          </td><td>2          </td><td> 6         </td><td>4          </td><td>5          </td><td>1          </td><td>1          </td><td>2          </td><td>1          </td><td>1          </td><td>  0        </td><td> 1.4981826 </td><td> 0.2048114 </td><td> 0.38331185</td><td> 1.1071627 </td><td>-0.7182492 </td><td> 1.7965902 </td><td>0          </td></tr>\n",
       "\t<tr><td>250249     </td><td>2          </td><td>3          </td><td>11         </td><td>5          </td><td>7          </td><td>7          </td><td>1          </td><td>2          </td><td>1          </td><td>1          </td><td>  0        </td><td>-0.2417306 </td><td>-0.8526511 </td><td>-0.73242952</td><td> 1.4066637 </td><td> 1.1229297 </td><td>-0.7686307 </td><td>0          </td></tr>\n",
       "\t<tr><td>249516     </td><td>3          </td><td>3          </td><td>10         </td><td>4          </td><td>2          </td><td>4          </td><td>1          </td><td>2          </td><td>0          </td><td>1          </td><td>168        </td><td>        NA </td><td>-0.6764074 </td><td>-0.05734964</td><td> 0.9574122 </td><td>-1.7024817 </td><td> 0.5139798 </td><td>1          </td></tr>\n",
       "\t<tr><td>249827     </td><td>1          </td><td>3          </td><td> 5         </td><td>2          </td><td>4          </td><td>4          </td><td>1          </td><td>3          </td><td>0          </td><td>1          </td><td>  0        </td><td>        NA </td><td>-0.4120417 </td><td>-0.57464791</td><td>-0.3903424 </td><td> 0.9100767 </td><td>-0.7686307 </td><td>0          </td></tr>\n",
       "\t<tr><td>250329     </td><td>1          </td><td>3          </td><td>11         </td><td>2          </td><td>5          </td><td>4          </td><td>3          </td><td>4          </td><td>0          </td><td>2          </td><td>  0        </td><td>        NA </td><td> 0.5572989 </td><td>-0.21062320</td><td>-0.3903424 </td><td>-0.3844956 </td><td> 0.5139798 </td><td>0          </td></tr>\n",
       "</tbody>\n",
       "</table>\n"
      ],
      "text/latex": [
       "\\begin{tabular}{r|lllllllllllllllllll}\n",
       " ID & V1 & V2 & V3 & V4 & V5 & V6 & V7 & V8 & Has\\_FICO & Business\\_channel & Days\\_late & FICO\\_Score & Loan\\_amount & Monthly\\_income & Age & Gearing\\_coefficient & Max\\_gearing\\_ratio & Default\\_45\\\\\n",
       "\\hline\n",
       "\t 250263      & 1           & 1           & 11          & 5           & 6           & 7           & 1           & 2           & 0           & 1           &   0         &         NA  &  1.4385177  & -0.25908469 &  1.7810399  &  0.8602691  &  0.5139798  & 0          \\\\\n",
       "\t 250290      & 1           & 2           &  6          & 4           & 5           & 1           & 1           & 2           & 1           & 1           &   0         &  1.4981826  &  0.2048114  &  0.38331185 &  1.1071627  & -0.7182492  &  1.7965902  & 0          \\\\\n",
       "\t 250249      & 2           & 3           & 11          & 5           & 7           & 7           & 1           & 2           & 1           & 1           &   0         & -0.2417306  & -0.8526511  & -0.73242952 &  1.4066637  &  1.1229297  & -0.7686307  & 0          \\\\\n",
       "\t 249516      & 3           & 3           & 10          & 4           & 2           & 4           & 1           & 2           & 0           & 1           & 168         &         NA  & -0.6764074  & -0.05734964 &  0.9574122  & -1.7024817  &  0.5139798  & 1          \\\\\n",
       "\t 249827      & 1           & 3           &  5          & 2           & 4           & 4           & 1           & 3           & 0           & 1           &   0         &         NA  & -0.4120417  & -0.57464791 & -0.3903424  &  0.9100767  & -0.7686307  & 0          \\\\\n",
       "\t 250329      & 1           & 3           & 11          & 2           & 5           & 4           & 3           & 4           & 0           & 2           &   0         &         NA  &  0.5572989  & -0.21062320 & -0.3903424  & -0.3844956  &  0.5139798  & 0          \\\\\n",
       "\\end{tabular}\n"
      ],
      "text/markdown": [
       "\n",
       "| ID | V1 | V2 | V3 | V4 | V5 | V6 | V7 | V8 | Has_FICO | Business_channel | Days_late | FICO_Score | Loan_amount | Monthly_income | Age | Gearing_coefficient | Max_gearing_ratio | Default_45 |\n",
       "|---|---|---|---|---|---|---|---|---|---|---|---|---|---|---|---|---|---|---|\n",
       "| 250263      | 1           | 1           | 11          | 5           | 6           | 7           | 1           | 2           | 0           | 1           |   0         |         NA  |  1.4385177  | -0.25908469 |  1.7810399  |  0.8602691  |  0.5139798  | 0           |\n",
       "| 250290      | 1           | 2           |  6          | 4           | 5           | 1           | 1           | 2           | 1           | 1           |   0         |  1.4981826  |  0.2048114  |  0.38331185 |  1.1071627  | -0.7182492  |  1.7965902  | 0           |\n",
       "| 250249      | 2           | 3           | 11          | 5           | 7           | 7           | 1           | 2           | 1           | 1           |   0         | -0.2417306  | -0.8526511  | -0.73242952 |  1.4066637  |  1.1229297  | -0.7686307  | 0           |\n",
       "| 249516      | 3           | 3           | 10          | 4           | 2           | 4           | 1           | 2           | 0           | 1           | 168         |         NA  | -0.6764074  | -0.05734964 |  0.9574122  | -1.7024817  |  0.5139798  | 1           |\n",
       "| 249827      | 1           | 3           |  5          | 2           | 4           | 4           | 1           | 3           | 0           | 1           |   0         |         NA  | -0.4120417  | -0.57464791 | -0.3903424  |  0.9100767  | -0.7686307  | 0           |\n",
       "| 250329      | 1           | 3           | 11          | 2           | 5           | 4           | 3           | 4           | 0           | 2           |   0         |         NA  |  0.5572989  | -0.21062320 | -0.3903424  | -0.3844956  |  0.5139798  | 0           |\n",
       "\n"
      ],
      "text/plain": [
       "  ID     V1 V2 V3 V4 V5 V6 V7 V8 Has_FICO Business_channel Days_late FICO_Score\n",
       "1 250263 1  1  11 5  6  7  1  2  0        1                  0               NA\n",
       "2 250290 1  2   6 4  5  1  1  2  1        1                  0        1.4981826\n",
       "3 250249 2  3  11 5  7  7  1  2  1        1                  0       -0.2417306\n",
       "4 249516 3  3  10 4  2  4  1  2  0        1                168               NA\n",
       "5 249827 1  3   5 2  4  4  1  3  0        1                  0               NA\n",
       "6 250329 1  3  11 2  5  4  3  4  0        2                  0               NA\n",
       "  Loan_amount Monthly_income Age        Gearing_coefficient Max_gearing_ratio\n",
       "1  1.4385177  -0.25908469     1.7810399  0.8602691           0.5139798       \n",
       "2  0.2048114   0.38331185     1.1071627 -0.7182492           1.7965902       \n",
       "3 -0.8526511  -0.73242952     1.4066637  1.1229297          -0.7686307       \n",
       "4 -0.6764074  -0.05734964     0.9574122 -1.7024817           0.5139798       \n",
       "5 -0.4120417  -0.57464791    -0.3903424  0.9100767          -0.7686307       \n",
       "6  0.5572989  -0.21062320    -0.3903424 -0.3844956           0.5139798       \n",
       "  Default_45\n",
       "1 0         \n",
       "2 0         \n",
       "3 0         \n",
       "4 1         \n",
       "5 0         \n",
       "6 0         "
      ]
     },
     "metadata": {},
     "output_type": "display_data"
    }
   ],
   "source": [
    "accept = read.xlsx (\"ACCEPTS.xlsx\", sheetName = \"Dataset\", header = TRUE)\n",
    "head(accept)"
   ]
  },
  {
   "cell_type": "markdown",
   "metadata": {},
   "source": [
    "The independent variable is \"Default_45\", 0 means no defalut and 1 means default."
   ]
  },
  {
   "cell_type": "code",
   "execution_count": 4,
   "metadata": {},
   "outputs": [
    {
     "data": {
      "text/html": [
       "<ol class=list-inline>\n",
       "\t<li>10000</li>\n",
       "\t<li>19</li>\n",
       "</ol>\n"
      ],
      "text/latex": [
       "\\begin{enumerate*}\n",
       "\\item 10000\n",
       "\\item 19\n",
       "\\end{enumerate*}\n"
      ],
      "text/markdown": [
       "1. 10000\n",
       "2. 19\n",
       "\n",
       "\n"
      ],
      "text/plain": [
       "[1] 10000    19"
      ]
     },
     "metadata": {},
     "output_type": "display_data"
    }
   ],
   "source": [
    "dim(accept)"
   ]
  },
  {
   "cell_type": "code",
   "execution_count": 5,
   "metadata": {},
   "outputs": [
    {
     "data": {
      "text/html": [
       "<table>\n",
       "<thead><tr><th scope=col>ID</th><th scope=col>V1</th><th scope=col>V2</th><th scope=col>V3</th><th scope=col>V4</th><th scope=col>V5</th><th scope=col>V6</th><th scope=col>V7</th><th scope=col>V8</th><th scope=col>Has_FICO</th><th scope=col>Business_channel</th><th scope=col>FICO_Score</th><th scope=col>Loan_amount</th><th scope=col>Monthly_income</th><th scope=col>Age</th><th scope=col>Gearing_coefficient</th><th scope=col>Max_gearing_ratio</th></tr></thead>\n",
       "<tbody>\n",
       "\t<tr><td>305932     </td><td>3          </td><td>3          </td><td>14         </td><td>2          </td><td>1          </td><td>5          </td><td>1          </td><td>1          </td><td>1          </td><td>1          </td><td>-0.03045546</td><td>-0.3239198 </td><td>-0.6054491 </td><td>-1.06421961</td><td> 1.02821012</td><td>-0.7686307 </td></tr>\n",
       "\t<tr><td>305764     </td><td>1          </td><td>4          </td><td> 7         </td><td>1          </td><td>6          </td><td>4          </td><td>1          </td><td>2          </td><td>1          </td><td>1          </td><td> 0.71522164</td><td> 5.6683677 </td><td> 1.2995722 </td><td> 0.80766165</td><td> 1.08177814</td><td> 1.7965902 </td></tr>\n",
       "\t<tr><td>305971     </td><td>1          </td><td>4          </td><td>10         </td><td>4          </td><td>5          </td><td>4          </td><td>1          </td><td>4          </td><td>1          </td><td>3          </td><td> 0.76493345</td><td>-0.7507822 </td><td> 0.4340274 </td><td>-0.39034236</td><td>-0.96941579</td><td> 1.7965902 </td></tr>\n",
       "\t<tr><td>305664     </td><td>1          </td><td>5          </td><td>14         </td><td>2          </td><td>2          </td><td>5          </td><td>3          </td><td>3          </td><td>1          </td><td>1          </td><td>-1.34781834</td><td>-0.8526511 </td><td>-0.4901220 </td><td>-0.98934436</td><td> 1.04630263</td><td>-0.7686307 </td></tr>\n",
       "\t<tr><td>305639     </td><td>1          </td><td>4          </td><td>15         </td><td>1          </td><td>5          </td><td>4          </td><td>1          </td><td>3          </td><td>1          </td><td>2          </td><td> 1.63489006</td><td> 3.2009552 </td><td> 0.5613797 </td><td> 0.58303590</td><td> 0.08846388</td><td> 1.7965902 </td></tr>\n",
       "\t<tr><td>305854     </td><td>3          </td><td>3          </td><td>10         </td><td>1          </td><td>4          </td><td>5          </td><td>3          </td><td>1          </td><td>1          </td><td>1          </td><td> 0.97620862</td><td> 0.2929333 </td><td>-0.5059002 </td><td> 0.05890915</td><td> 1.02182453</td><td>-0.7686307 </td></tr>\n",
       "</tbody>\n",
       "</table>\n"
      ],
      "text/latex": [
       "\\begin{tabular}{r|lllllllllllllllll}\n",
       " ID & V1 & V2 & V3 & V4 & V5 & V6 & V7 & V8 & Has\\_FICO & Business\\_channel & FICO\\_Score & Loan\\_amount & Monthly\\_income & Age & Gearing\\_coefficient & Max\\_gearing\\_ratio\\\\\n",
       "\\hline\n",
       "\t 305932      & 3           & 3           & 14          & 2           & 1           & 5           & 1           & 1           & 1           & 1           & -0.03045546 & -0.3239198  & -0.6054491  & -1.06421961 &  1.02821012 & -0.7686307 \\\\\n",
       "\t 305764      & 1           & 4           &  7          & 1           & 6           & 4           & 1           & 2           & 1           & 1           &  0.71522164 &  5.6683677  &  1.2995722  &  0.80766165 &  1.08177814 &  1.7965902 \\\\\n",
       "\t 305971      & 1           & 4           & 10          & 4           & 5           & 4           & 1           & 4           & 1           & 3           &  0.76493345 & -0.7507822  &  0.4340274  & -0.39034236 & -0.96941579 &  1.7965902 \\\\\n",
       "\t 305664      & 1           & 5           & 14          & 2           & 2           & 5           & 3           & 3           & 1           & 1           & -1.34781834 & -0.8526511  & -0.4901220  & -0.98934436 &  1.04630263 & -0.7686307 \\\\\n",
       "\t 305639      & 1           & 4           & 15          & 1           & 5           & 4           & 1           & 3           & 1           & 2           &  1.63489006 &  3.2009552  &  0.5613797  &  0.58303590 &  0.08846388 &  1.7965902 \\\\\n",
       "\t 305854      & 3           & 3           & 10          & 1           & 4           & 5           & 3           & 1           & 1           & 1           &  0.97620862 &  0.2929333  & -0.5059002  &  0.05890915 &  1.02182453 & -0.7686307 \\\\\n",
       "\\end{tabular}\n"
      ],
      "text/markdown": [
       "\n",
       "| ID | V1 | V2 | V3 | V4 | V5 | V6 | V7 | V8 | Has_FICO | Business_channel | FICO_Score | Loan_amount | Monthly_income | Age | Gearing_coefficient | Max_gearing_ratio |\n",
       "|---|---|---|---|---|---|---|---|---|---|---|---|---|---|---|---|---|\n",
       "| 305932      | 3           | 3           | 14          | 2           | 1           | 5           | 1           | 1           | 1           | 1           | -0.03045546 | -0.3239198  | -0.6054491  | -1.06421961 |  1.02821012 | -0.7686307  |\n",
       "| 305764      | 1           | 4           |  7          | 1           | 6           | 4           | 1           | 2           | 1           | 1           |  0.71522164 |  5.6683677  |  1.2995722  |  0.80766165 |  1.08177814 |  1.7965902  |\n",
       "| 305971      | 1           | 4           | 10          | 4           | 5           | 4           | 1           | 4           | 1           | 3           |  0.76493345 | -0.7507822  |  0.4340274  | -0.39034236 | -0.96941579 |  1.7965902  |\n",
       "| 305664      | 1           | 5           | 14          | 2           | 2           | 5           | 3           | 3           | 1           | 1           | -1.34781834 | -0.8526511  | -0.4901220  | -0.98934436 |  1.04630263 | -0.7686307  |\n",
       "| 305639      | 1           | 4           | 15          | 1           | 5           | 4           | 1           | 3           | 1           | 2           |  1.63489006 |  3.2009552  |  0.5613797  |  0.58303590 |  0.08846388 |  1.7965902  |\n",
       "| 305854      | 3           | 3           | 10          | 1           | 4           | 5           | 3           | 1           | 1           | 1           |  0.97620862 |  0.2929333  | -0.5059002  |  0.05890915 |  1.02182453 | -0.7686307  |\n",
       "\n"
      ],
      "text/plain": [
       "  ID     V1 V2 V3 V4 V5 V6 V7 V8 Has_FICO Business_channel FICO_Score \n",
       "1 305932 3  3  14 2  1  5  1  1  1        1                -0.03045546\n",
       "2 305764 1  4   7 1  6  4  1  2  1        1                 0.71522164\n",
       "3 305971 1  4  10 4  5  4  1  4  1        3                 0.76493345\n",
       "4 305664 1  5  14 2  2  5  3  3  1        1                -1.34781834\n",
       "5 305639 1  4  15 1  5  4  1  3  1        2                 1.63489006\n",
       "6 305854 3  3  10 1  4  5  3  1  1        1                 0.97620862\n",
       "  Loan_amount Monthly_income Age         Gearing_coefficient Max_gearing_ratio\n",
       "1 -0.3239198  -0.6054491     -1.06421961  1.02821012         -0.7686307       \n",
       "2  5.6683677   1.2995722      0.80766165  1.08177814          1.7965902       \n",
       "3 -0.7507822   0.4340274     -0.39034236 -0.96941579          1.7965902       \n",
       "4 -0.8526511  -0.4901220     -0.98934436  1.04630263         -0.7686307       \n",
       "5  3.2009552   0.5613797      0.58303590  0.08846388          1.7965902       \n",
       "6  0.2929333  -0.5059002      0.05890915  1.02182453         -0.7686307       "
      ]
     },
     "metadata": {},
     "output_type": "display_data"
    }
   ],
   "source": [
    "reject = read.xlsx (\"REJECTS.xlsx\", sheetName = \"Dataset\", header = TRUE)\n",
    "head(reject)"
   ]
  },
  {
   "cell_type": "code",
   "execution_count": 6,
   "metadata": {},
   "outputs": [
    {
     "data": {
      "text/html": [
       "<ol class=list-inline>\n",
       "\t<li>5000</li>\n",
       "\t<li>17</li>\n",
       "</ol>\n"
      ],
      "text/latex": [
       "\\begin{enumerate*}\n",
       "\\item 5000\n",
       "\\item 17\n",
       "\\end{enumerate*}\n"
      ],
      "text/markdown": [
       "1. 5000\n",
       "2. 17\n",
       "\n",
       "\n"
      ],
      "text/plain": [
       "[1] 5000   17"
      ]
     },
     "metadata": {},
     "output_type": "display_data"
    }
   ],
   "source": [
    "dim(reject)"
   ]
  },
  {
   "cell_type": "markdown",
   "metadata": {},
   "source": [
    "#### Acceptance rate"
   ]
  },
  {
   "cell_type": "code",
   "execution_count": 12,
   "metadata": {},
   "outputs": [
    {
     "data": {
      "text/html": [
       "0.67"
      ],
      "text/latex": [
       "0.67"
      ],
      "text/markdown": [
       "0.67"
      ],
      "text/plain": [
       "[1] 0.67"
      ]
     },
     "metadata": {},
     "output_type": "display_data"
    }
   ],
   "source": [
    "acceptance_rate <- round(dim(accept)[1]/(dim(accept)[1]+dim(reject)[1]), 2)\n",
    "acceptance_rate"
   ]
  },
  {
   "cell_type": "markdown",
   "metadata": {},
   "source": [
    "In this project, the acceptance rate is 67%, which also indicates the reject rate is 23%."
   ]
  },
  {
   "cell_type": "code",
   "execution_count": 5,
   "metadata": {},
   "outputs": [
    {
     "name": "stdout",
     "output_type": "stream",
     "text": [
      "'data.frame':\t10000 obs. of  19 variables:\n",
      " $ ID                 : num  250263 250290 250249 249516 249827 ...\n",
      " $ V1                 : num  1 1 2 3 1 1 2 1 2 3 ...\n",
      " $ V2                 : num  1 2 3 3 3 3 4 3 5 3 ...\n",
      " $ V3                 : num  11 6 11 10 5 11 11 12 11 14 ...\n",
      " $ V4                 : num  5 4 5 4 2 2 5 3 5 1 ...\n",
      " $ V5                 : num  6 5 7 2 4 5 7 3 1 4 ...\n",
      " $ V6                 : num  7 1 7 4 4 4 7 5 7 4 ...\n",
      " $ V7                 : num  1 1 1 1 1 3 3 1 1 3 ...\n",
      " $ V8                 : Factor w/ 5 levels \">4\",\"1\",\"2\",\"3\",..: 3 3 3 3 4 5 2 4 2 2 ...\n",
      " $ Has_FICO           : num  0 1 1 0 0 0 1 0 0 0 ...\n",
      " $ Business_channel   : num  1 1 1 1 1 2 1 2 1 1 ...\n",
      " $ Days_late          : num  0 0 0 168 0 0 0 0 336 0 ...\n",
      " $ FICO_Score         : num  NA 1.498 -0.242 NA NA ...\n",
      " $ Loan_amount        : num  1.439 0.205 -0.853 -0.676 -0.412 ...\n",
      " $ Monthly_income     : num  -0.2591 0.3833 -0.7324 -0.0573 -0.5746 ...\n",
      " $ Age                : num  1.781 1.107 1.407 0.957 -0.39 ...\n",
      " $ Gearing_coefficient: num  0.86 -0.718 1.123 -1.702 0.91 ...\n",
      " $ Max_gearing_ratio  : num  0.514 1.797 -0.769 0.514 -0.769 ...\n",
      " $ Default_45         : num  0 0 0 1 0 0 0 0 1 0 ...\n"
     ]
    }
   ],
   "source": [
    "str(accept)"
   ]
  },
  {
   "cell_type": "markdown",
   "metadata": {},
   "source": [
    "From the summary of the data, we can that some variables are on different scales.   \n",
    "Variables 'FICO_Score', 'Loan_amount', 'Monthly_income', 'Age', 'Gearing_coefficient' and 'Max_gearing_ratio' have been normalized.   \n",
    "The target variable is the \"Default_45\", 1 means default and 0 means no default.   \n",
    "We will have a look at the distribution of defalut(1) and no default(0)"
   ]
  },
  {
   "cell_type": "code",
   "execution_count": 7,
   "metadata": {},
   "outputs": [],
   "source": [
    "# convert target variable \n",
    "# accept$Default_45<-as.factor(ifelse(accept$Default_45 == 1, \"Default\", \"NoDefalut\"))"
   ]
  },
  {
   "cell_type": "markdown",
   "metadata": {},
   "source": [
    "We will have a look at the distribution of Defalut and NoDdefault."
   ]
  },
  {
   "cell_type": "code",
   "execution_count": 8,
   "metadata": {},
   "outputs": [
    {
     "data": {
      "image/png": "[encoded data removed]",
      "text/plain": [
       "plot without title"
      ]
     },
     "metadata": {},
     "output_type": "display_data"
    }
   ],
   "source": [
    "ggplot(accept, aes(Default_45)) +\n",
    "  geom_bar(fill = \"#0073C2FF\")"
   ]
  },
  {
   "cell_type": "markdown",
   "metadata": {},
   "source": [
    "#### Bad rate"
   ]
  },
  {
   "cell_type": "code",
   "execution_count": 39,
   "metadata": {},
   "outputs": [
    {
     "data": {
      "text/plain": [
       "\n",
       "     0      1 \n",
       "0.7636 0.2364 "
      ]
     },
     "metadata": {},
     "output_type": "display_data"
    }
   ],
   "source": [
    "# check by percentage\n",
    "table(accept$Default_45) / nrow(accept)"
   ]
  },
  {
   "cell_type": "markdown",
   "metadata": {},
   "source": [
    "We can see that there are about 76% of the customers did not default and about 24% of the customers defaulted.    \n",
    "So the Bad rate of this project is 23.64%."
   ]
  },
  {
   "cell_type": "markdown",
   "metadata": {},
   "source": [
    "#### Check missing values"
   ]
  },
  {
   "cell_type": "code",
   "execution_count": 34,
   "metadata": {},
   "outputs": [
    {
     "data": {
      "text/html": [
       "<dl class=dl-horizontal>\n",
       "\t<dt>ID</dt>\n",
       "\t\t<dd>0</dd>\n",
       "\t<dt>V1</dt>\n",
       "\t\t<dd>0</dd>\n",
       "\t<dt>V2</dt>\n",
       "\t\t<dd>0</dd>\n",
       "\t<dt>V3</dt>\n",
       "\t\t<dd>0</dd>\n",
       "\t<dt>V4</dt>\n",
       "\t\t<dd>0</dd>\n",
       "\t<dt>V5</dt>\n",
       "\t\t<dd>0</dd>\n",
       "\t<dt>V6</dt>\n",
       "\t\t<dd>0</dd>\n",
       "\t<dt>V7</dt>\n",
       "\t\t<dd>0</dd>\n",
       "\t<dt>V8</dt>\n",
       "\t\t<dd>0</dd>\n",
       "\t<dt>Has_FICO</dt>\n",
       "\t\t<dd>0</dd>\n",
       "\t<dt>Business_channel</dt>\n",
       "\t\t<dd>0</dd>\n",
       "\t<dt>Days_late</dt>\n",
       "\t\t<dd>0</dd>\n",
       "\t<dt>FICO_Score</dt>\n",
       "\t\t<dd>0.45</dd>\n",
       "\t<dt>Loan_amount</dt>\n",
       "\t\t<dd>0</dd>\n",
       "\t<dt>Monthly_income</dt>\n",
       "\t\t<dd>0</dd>\n",
       "\t<dt>Age</dt>\n",
       "\t\t<dd>0</dd>\n",
       "\t<dt>Gearing_coefficient</dt>\n",
       "\t\t<dd>0</dd>\n",
       "\t<dt>Max_gearing_ratio</dt>\n",
       "\t\t<dd>0</dd>\n",
       "\t<dt>Default_45</dt>\n",
       "\t\t<dd>0</dd>\n",
       "</dl>\n"
      ],
      "text/latex": [
       "\\begin{description*}\n",
       "\\item[ID] 0\n",
       "\\item[V1] 0\n",
       "\\item[V2] 0\n",
       "\\item[V3] 0\n",
       "\\item[V4] 0\n",
       "\\item[V5] 0\n",
       "\\item[V6] 0\n",
       "\\item[V7] 0\n",
       "\\item[V8] 0\n",
       "\\item[Has\\textbackslash{}\\_FICO] 0\n",
       "\\item[Business\\textbackslash{}\\_channel] 0\n",
       "\\item[Days\\textbackslash{}\\_late] 0\n",
       "\\item[FICO\\textbackslash{}\\_Score] 0.45\n",
       "\\item[Loan\\textbackslash{}\\_amount] 0\n",
       "\\item[Monthly\\textbackslash{}\\_income] 0\n",
       "\\item[Age] 0\n",
       "\\item[Gearing\\textbackslash{}\\_coefficient] 0\n",
       "\\item[Max\\textbackslash{}\\_gearing\\textbackslash{}\\_ratio] 0\n",
       "\\item[Default\\textbackslash{}\\_45] 0\n",
       "\\end{description*}\n"
      ],
      "text/markdown": [
       "ID\n",
       ":   0V1\n",
       ":   0V2\n",
       ":   0V3\n",
       ":   0V4\n",
       ":   0V5\n",
       ":   0V6\n",
       ":   0V7\n",
       ":   0V8\n",
       ":   0Has_FICO\n",
       ":   0Business_channel\n",
       ":   0Days_late\n",
       ":   0FICO_Score\n",
       ":   0.45Loan_amount\n",
       ":   0Monthly_income\n",
       ":   0Age\n",
       ":   0Gearing_coefficient\n",
       ":   0Max_gearing_ratio\n",
       ":   0Default_45\n",
       ":   0\n",
       "\n"
      ],
      "text/plain": [
       "                 ID                  V1                  V2                  V3 \n",
       "               0.00                0.00                0.00                0.00 \n",
       "                 V4                  V5                  V6                  V7 \n",
       "               0.00                0.00                0.00                0.00 \n",
       "                 V8            Has_FICO    Business_channel           Days_late \n",
       "               0.00                0.00                0.00                0.00 \n",
       "         FICO_Score         Loan_amount      Monthly_income                 Age \n",
       "               0.45                0.00                0.00                0.00 \n",
       "Gearing_coefficient   Max_gearing_ratio          Default_45 \n",
       "               0.00                0.00                0.00 "
      ]
     },
     "metadata": {},
     "output_type": "display_data"
    }
   ],
   "source": [
    "na_rate <- function(x) {x %>% is.na() %>% sum() / length(x)}\n",
    "sapply(accept, na_rate) %>% round(2)"
   ]
  },
  {
   "cell_type": "markdown",
   "metadata": {},
   "source": [
    "There are about 45% missing values in variable \"FICO_Score\" in the accept dataset."
   ]
  },
  {
   "cell_type": "code",
   "execution_count": 35,
   "metadata": {},
   "outputs": [
    {
     "data": {
      "text/plain": [
       "   Min. 1st Qu.  Median    Mean 3rd Qu.    Max.    NA's \n",
       " -6.033  -0.876  -0.192  -0.083   0.690   2.468    4472 "
      ]
     },
     "metadata": {},
     "output_type": "display_data"
    }
   ],
   "source": [
    "summary(accept$FICO_Score)"
   ]
  },
  {
   "cell_type": "markdown",
   "metadata": {},
   "source": [
    "We can see that the values of FICO_Score are in the range from -6.033 to 2.468, therefore, we can not replace the missing values with 0. A better way is to replace by mean."
   ]
  },
  {
   "cell_type": "code",
   "execution_count": 13,
   "metadata": {},
   "outputs": [
    {
     "data": {
      "text/plain": [
       "    Min.  1st Qu.   Median     Mean  3rd Qu.     Max. \n",
       "-6.03316 -0.32873 -0.08326 -0.08326 -0.00560  2.46756 "
      ]
     },
     "metadata": {},
     "output_type": "display_data"
    }
   ],
   "source": [
    "# replace missing value with mean\n",
    "accept[is.na(accept[ , \"FICO_Score\"]) , \"FICO_Score\"] <- mean(accept[ , \"FICO_Score\"], na.rm = TRUE)\n",
    "summary(accept$FICO_Score)"
   ]
  },
  {
   "cell_type": "code",
   "execution_count": 11,
   "metadata": {},
   "outputs": [
    {
     "data": {
      "text/plain": [
       "       V1              V2              V3               V4       \n",
       " Min.   :1.000   Min.   :1.000   Min.   : 1.000   Min.   :1.000  \n",
       " 1st Qu.:1.000   1st Qu.:3.000   1st Qu.: 7.000   1st Qu.:2.000  \n",
       " Median :1.000   Median :3.000   Median :10.000   Median :4.000  \n",
       " Mean   :1.879   Mean   :3.495   Mean   : 9.041   Mean   :3.316  \n",
       " 3rd Qu.:3.000   3rd Qu.:5.000   3rd Qu.:11.000   3rd Qu.:4.000  \n",
       " Max.   :5.000   Max.   :6.000   Max.   :16.000   Max.   :6.000  \n",
       "       V5              V6              V7         V8          Has_FICO     \n",
       " Min.   :1.000   Min.   :1.000   Min.   :1.000   >4: 182   Min.   :0.0000  \n",
       " 1st Qu.:2.000   1st Qu.:4.000   1st Qu.:1.000   1 :3703   1st Qu.:0.0000  \n",
       " Median :4.000   Median :5.000   Median :1.000   2 :3787   Median :1.0000  \n",
       " Mean   :3.977   Mean   :4.868   Mean   :1.757   3 :1486   Mean   :0.5528  \n",
       " 3rd Qu.:6.000   3rd Qu.:5.000   3rd Qu.:3.000   4 : 842   3rd Qu.:1.0000  \n",
       " Max.   :7.000   Max.   :7.000   Max.   :3.000             Max.   :1.0000  \n",
       " Business_channel   Days_late        FICO_Score        Loan_amount      \n",
       " Min.   :1.000    Min.   :  0.00   Min.   :-6.03316   Min.   :-1.11702  \n",
       " 1st Qu.:1.000    1st Qu.:  0.00   1st Qu.:-0.32873   1st Qu.:-0.64116  \n",
       " Median :1.000    Median :  0.00   Median :-0.08326   Median :-0.32392  \n",
       " Mean   :1.403    Mean   : 56.46   Mean   :-0.08326   Mean   : 0.03416  \n",
       " 3rd Qu.:2.000    3rd Qu.: 15.00   3rd Qu.:-0.00560   3rd Qu.: 0.38105  \n",
       " Max.   :3.000    Max.   :623.00   Max.   : 2.46756   Max.   : 5.84461  \n",
       " Monthly_income          Age            Gearing_coefficient Max_gearing_ratio \n",
       " Min.   :-0.98488   Min.   :-1.588346   Min.   :-2.8596     Min.   :-0.76863  \n",
       " 1st Qu.:-0.53633   1st Qu.:-0.914469   1st Qu.:-0.6145     1st Qu.:-0.76863  \n",
       " Median :-0.35939   Median :-0.165717   Median : 0.4141     Median :-0.76863  \n",
       " Mean   :-0.11933   Mean   :-0.003148   Mean   : 0.1005     Mean   : 0.01966  \n",
       " 3rd Qu.: 0.05648   3rd Qu.: 0.882537   3rd Qu.: 0.9651     3rd Qu.: 0.51398  \n",
       " Max.   :43.84200   Max.   : 2.005666   Max.   : 9.3873     Max.   : 1.79659  \n",
       "   Default_45    \n",
       " Min.   :0.0000  \n",
       " 1st Qu.:0.0000  \n",
       " Median :0.0000  \n",
       " Mean   :0.2364  \n",
       " 3rd Qu.:0.0000  \n",
       " Max.   :1.0000  "
      ]
     },
     "metadata": {},
     "output_type": "display_data"
    }
   ],
   "source": [
    "summary(accept[,-1])"
   ]
  },
  {
   "cell_type": "markdown",
   "metadata": {},
   "source": [
    "We can see that variable \"Days_late\" has outliners.    \n",
    "\"V8\" is categorical.     \n",
    "\"Has_FICO\" is a binary variable.    \n",
    "\"Business_channel\" is catgorical variable.    \n",
    "We will first deal with the outliners first."
   ]
  },
  {
   "cell_type": "markdown",
   "metadata": {},
   "source": [
    "#### Transform Days_late"
   ]
  },
  {
   "cell_type": "code",
   "execution_count": 128,
   "metadata": {},
   "outputs": [
    {
     "data": {
      "image/png": "[encoded data removed]",
      "text/plain": [
       "plot without title"
      ]
     },
     "metadata": {},
     "output_type": "display_data"
    }
   ],
   "source": [
    "boxplot(accept$Days_late)"
   ]
  },
  {
   "cell_type": "code",
   "execution_count": 14,
   "metadata": {},
   "outputs": [],
   "source": [
    "# scale 'Day_late'\n",
    "accept$Days_late <- scale(accept$Days_late)"
   ]
  },
  {
   "cell_type": "code",
   "execution_count": 6,
   "metadata": {},
   "outputs": [
    {
     "data": {
      "text/plain": [
       "       V1         \n",
       " Min.   :-0.4817  \n",
       " 1st Qu.:-0.4817  \n",
       " Median :-0.4817  \n",
       " Mean   : 0.0000  \n",
       " 3rd Qu.:-0.3537  \n",
       " Max.   : 4.8333  "
      ]
     },
     "metadata": {},
     "output_type": "display_data"
    }
   ],
   "source": [
    "summary(accept$Days_late)"
   ]
  },
  {
   "cell_type": "markdown",
   "metadata": {},
   "source": [
    "### 2. Data Transformation — Weight of Evidence Method"
   ]
  },
  {
   "cell_type": "markdown",
   "metadata": {},
   "source": [
    "From the data description, FICO_Score, Loan_amount, Monthly_income, Age, Gearing_coefficient and Max_gearing_ratio have been normalized, we will particularly transform V8, Has_FICO and Business_channel with WoE."
   ]
  },
  {
   "cell_type": "markdown",
   "metadata": {},
   "source": [
    "#### Transformation of V8"
   ]
  },
  {
   "cell_type": "code",
   "execution_count": 15,
   "metadata": {},
   "outputs": [
    {
     "name": "stderr",
     "output_type": "stream",
     "text": [
      "Warning message in setDT(dataSet):\n",
      "\"Some columns are a multi-column type (such as a matrix column): [12]. setDT will retain these columns as-is but subsequent operations like grouping and joining may fail. Please consider as.data.table() instead which will create a new column for each embedded column.\""
     ]
    },
    {
     "data": {
      "text/html": [
       "<table>\n",
       "<thead><tr><th scope=col>V8..4</th><th scope=col>V8.1</th><th scope=col>V8.2</th><th scope=col>V8.3</th><th scope=col>V8.4</th></tr></thead>\n",
       "<tbody>\n",
       "\t<tr><td>FALSE</td><td>FALSE</td><td> TRUE</td><td>FALSE</td><td>FALSE</td></tr>\n",
       "\t<tr><td>FALSE</td><td>FALSE</td><td> TRUE</td><td>FALSE</td><td>FALSE</td></tr>\n",
       "\t<tr><td>FALSE</td><td>FALSE</td><td> TRUE</td><td>FALSE</td><td>FALSE</td></tr>\n",
       "\t<tr><td>FALSE</td><td>FALSE</td><td> TRUE</td><td>FALSE</td><td>FALSE</td></tr>\n",
       "\t<tr><td>FALSE</td><td>FALSE</td><td>FALSE</td><td> TRUE</td><td>FALSE</td></tr>\n",
       "\t<tr><td>FALSE</td><td>FALSE</td><td>FALSE</td><td>FALSE</td><td> TRUE</td></tr>\n",
       "</tbody>\n",
       "</table>\n"
      ],
      "text/latex": [
       "\\begin{tabular}{r|lllll}\n",
       " V8..4 & V8.1 & V8.2 & V8.3 & V8.4\\\\\n",
       "\\hline\n",
       "\t FALSE & FALSE &  TRUE & FALSE & FALSE\\\\\n",
       "\t FALSE & FALSE &  TRUE & FALSE & FALSE\\\\\n",
       "\t FALSE & FALSE &  TRUE & FALSE & FALSE\\\\\n",
       "\t FALSE & FALSE &  TRUE & FALSE & FALSE\\\\\n",
       "\t FALSE & FALSE & FALSE &  TRUE & FALSE\\\\\n",
       "\t FALSE & FALSE & FALSE & FALSE &  TRUE\\\\\n",
       "\\end{tabular}\n"
      ],
      "text/markdown": [
       "\n",
       "| V8..4 | V8.1 | V8.2 | V8.3 | V8.4 |\n",
       "|---|---|---|---|---|\n",
       "| FALSE | FALSE |  TRUE | FALSE | FALSE |\n",
       "| FALSE | FALSE |  TRUE | FALSE | FALSE |\n",
       "| FALSE | FALSE |  TRUE | FALSE | FALSE |\n",
       "| FALSE | FALSE |  TRUE | FALSE | FALSE |\n",
       "| FALSE | FALSE | FALSE |  TRUE | FALSE |\n",
       "| FALSE | FALSE | FALSE | FALSE |  TRUE |\n",
       "\n"
      ],
      "text/plain": [
       "  V8..4 V8.1  V8.2  V8.3  V8.4 \n",
       "1 FALSE FALSE  TRUE FALSE FALSE\n",
       "2 FALSE FALSE  TRUE FALSE FALSE\n",
       "3 FALSE FALSE  TRUE FALSE FALSE\n",
       "4 FALSE FALSE  TRUE FALSE FALSE\n",
       "5 FALSE FALSE FALSE  TRUE FALSE\n",
       "6 FALSE FALSE FALSE FALSE  TRUE"
      ]
     },
     "metadata": {},
     "output_type": "display_data"
    }
   ],
   "source": [
    "# Build the dummy encoding\n",
    "encoding <- build_encoding(dataSet=accept, cols=\"V8\", verbose=F)\n",
    "# Transform the categorical variable\n",
    "D_V8 <- one_hot_encoder(dataSet=accept, encoding=encoding, type='logical', drop=F, verbose=F)\n",
    "D_V8 <- D_V8[, 20:24]\n",
    "head(D_V8)"
   ]
  },
  {
   "cell_type": "code",
   "execution_count": 16,
   "metadata": {},
   "outputs": [
    {
     "data": {
      "text/html": [
       "<table>\n",
       "<thead><tr><th></th><th scope=col>V8</th><th scope=col>V8_incidence</th></tr></thead>\n",
       "<tbody>\n",
       "\t<tr><th scope=row>&gt;4</th><td>&gt;4    </td><td>0.2692308</td></tr>\n",
       "\t<tr><th scope=row>1</th><td>1        </td><td>0.3038077</td></tr>\n",
       "\t<tr><th scope=row>2</th><td>2        </td><td>0.1866913</td></tr>\n",
       "\t<tr><th scope=row>3</th><td>3        </td><td>0.1985195</td></tr>\n",
       "\t<tr><th scope=row>4</th><td>4        </td><td>0.2232779</td></tr>\n",
       "</tbody>\n",
       "</table>\n"
      ],
      "text/latex": [
       "\\begin{tabular}{r|ll}\n",
       "  & V8 & V8\\_incidence\\\\\n",
       "\\hline\n",
       "\t>4 & >4        & 0.2692308\\\\\n",
       "\t1 & 1         & 0.3038077\\\\\n",
       "\t2 & 2         & 0.1866913\\\\\n",
       "\t3 & 3         & 0.1985195\\\\\n",
       "\t4 & 4         & 0.2232779\\\\\n",
       "\\end{tabular}\n"
      ],
      "text/markdown": [
       "\n",
       "| <!--/--> | V8 | V8_incidence |\n",
       "|---|---|---|\n",
       "| >4 | >4        | 0.2692308 |\n",
       "| 1 | 1         | 0.3038077 |\n",
       "| 2 | 2         | 0.1866913 |\n",
       "| 3 | 3         | 0.1985195 |\n",
       "| 4 | 4         | 0.2232779 |\n",
       "\n"
      ],
      "text/plain": [
       "   V8 V8_incidence\n",
       ">4 >4 0.2692308   \n",
       "1  1  0.3038077   \n",
       "2  2  0.1866913   \n",
       "3  3  0.1985195   \n",
       "4  4  0.2232779   "
      ]
     },
     "metadata": {},
     "output_type": "display_data"
    }
   ],
   "source": [
    "# Find the incidence rates of V8\n",
    "tbV8 <- table(accept$V8, accept$Default_45)\n",
    "incidence_map_V8 <- data.frame('v1'=rownames(tbV8), 'v2'=tbV8[, '1'] / (tbV8[, '0'] + tbV8[, '1']))\n",
    "colnames(incidence_map_V8) <- c('V8', 'V8_incidence')\n",
    "incidence_map_V8"
   ]
  },
  {
   "cell_type": "code",
   "execution_count": 17,
   "metadata": {},
   "outputs": [
    {
     "name": "stderr",
     "output_type": "stream",
     "text": [
      "Warning message in setDT(ans, key = key):\n",
      "\"Some columns are a multi-column type (such as a matrix column): [12]. setDT will retain these columns as-is but subsequent operations like grouping and joining may fail. Please consider as.data.table() instead which will create a new column for each embedded column.\""
     ]
    },
    {
     "data": {
      "text/html": [
       "<table>\n",
       "<thead><tr><th scope=col>V8</th><th scope=col>V8_incidence</th></tr></thead>\n",
       "<tbody>\n",
       "\t<tr><td>2        </td><td>0.1866913</td></tr>\n",
       "\t<tr><td>2        </td><td>0.1866913</td></tr>\n",
       "\t<tr><td>2        </td><td>0.1866913</td></tr>\n",
       "\t<tr><td>2        </td><td>0.1866913</td></tr>\n",
       "\t<tr><td>3        </td><td>0.1985195</td></tr>\n",
       "\t<tr><td>4        </td><td>0.2232779</td></tr>\n",
       "</tbody>\n",
       "</table>\n"
      ],
      "text/latex": [
       "\\begin{tabular}{r|ll}\n",
       " V8 & V8\\_incidence\\\\\n",
       "\\hline\n",
       "\t 2         & 0.1866913\\\\\n",
       "\t 2         & 0.1866913\\\\\n",
       "\t 2         & 0.1866913\\\\\n",
       "\t 2         & 0.1866913\\\\\n",
       "\t 3         & 0.1985195\\\\\n",
       "\t 4         & 0.2232779\\\\\n",
       "\\end{tabular}\n"
      ],
      "text/markdown": [
       "\n",
       "| V8 | V8_incidence |\n",
       "|---|---|\n",
       "| 2         | 0.1866913 |\n",
       "| 2         | 0.1866913 |\n",
       "| 2         | 0.1866913 |\n",
       "| 2         | 0.1866913 |\n",
       "| 3         | 0.1985195 |\n",
       "| 4         | 0.2232779 |\n",
       "\n"
      ],
      "text/plain": [
       "  V8 V8_incidence\n",
       "1 2  0.1866913   \n",
       "2 2  0.1866913   \n",
       "3 2  0.1866913   \n",
       "4 2  0.1866913   \n",
       "5 3  0.1985195   \n",
       "6 4  0.2232779   "
      ]
     },
     "metadata": {},
     "output_type": "display_data"
    }
   ],
   "source": [
    "# Convert the V8 categories with incidences\n",
    "D_V8 <- plyr::join(x=accept, y=incidence_map_V8, by='V8', type=\"left\", match=\"all\")\n",
    "head(D_V8[, c('V8', 'V8_incidence')])"
   ]
  },
  {
   "cell_type": "code",
   "execution_count": 18,
   "metadata": {},
   "outputs": [
    {
     "data": {
      "text/html": [
       "<table>\n",
       "<thead><tr><th></th><th scope=col>V8</th><th scope=col>V8_woe</th></tr></thead>\n",
       "<tbody>\n",
       "\t<tr><th scope=row>&gt;4</th><td>&gt;4     </td><td>-0.9985288</td></tr>\n",
       "\t<tr><th scope=row>1</th><td>1         </td><td>-0.8292309</td></tr>\n",
       "\t<tr><th scope=row>2</th><td>2         </td><td>-1.4716542</td></tr>\n",
       "\t<tr><th scope=row>3</th><td>3         </td><td>-1.3955732</td></tr>\n",
       "\t<tr><th scope=row>4</th><td>4         </td><td>-1.2466654</td></tr>\n",
       "</tbody>\n",
       "</table>\n"
      ],
      "text/latex": [
       "\\begin{tabular}{r|ll}\n",
       "  & V8 & V8\\_woe\\\\\n",
       "\\hline\n",
       "\t>4 & >4         & -0.9985288\\\\\n",
       "\t1 & 1          & -0.8292309\\\\\n",
       "\t2 & 2          & -1.4716542\\\\\n",
       "\t3 & 3          & -1.3955732\\\\\n",
       "\t4 & 4          & -1.2466654\\\\\n",
       "\\end{tabular}\n"
      ],
      "text/markdown": [
       "\n",
       "| <!--/--> | V8 | V8_woe |\n",
       "|---|---|---|\n",
       "| >4 | >4         | -0.9985288 |\n",
       "| 1 | 1          | -0.8292309 |\n",
       "| 2 | 2          | -1.4716542 |\n",
       "| 3 | 3          | -1.3955732 |\n",
       "| 4 | 4          | -1.2466654 |\n",
       "\n"
      ],
      "text/plain": [
       "   V8 V8_woe    \n",
       ">4 >4 -0.9985288\n",
       "1  1  -0.8292309\n",
       "2  2  -1.4716542\n",
       "3  3  -1.3955732\n",
       "4  4  -1.2466654"
      ]
     },
     "metadata": {},
     "output_type": "display_data"
    }
   ],
   "source": [
    "# Find the WOE of V8\n",
    "tbV8 <- table(accept$V8, accept$Default_45)\n",
    "woe_map_V8 <- data.frame('v1'=rownames(tbV8), 'v2'=log(tbV8[, '1'] / tbV8[, '0']))\n",
    "colnames(woe_map_V8) <- c('V8', 'V8_woe')\n",
    "woe_map_V8"
   ]
  },
  {
   "cell_type": "code",
   "execution_count": 19,
   "metadata": {},
   "outputs": [
    {
     "name": "stderr",
     "output_type": "stream",
     "text": [
      "Warning message in setDT(ans, key = key):\n",
      "\"Some columns are a multi-column type (such as a matrix column): [12]. setDT will retain these columns as-is but subsequent operations like grouping and joining may fail. Please consider as.data.table() instead which will create a new column for each embedded column.\""
     ]
    },
    {
     "data": {
      "text/html": [
       "<table>\n",
       "<thead><tr><th scope=col>V8</th><th scope=col>V8_woe</th></tr></thead>\n",
       "<tbody>\n",
       "\t<tr><td>2        </td><td>-1.471654</td></tr>\n",
       "\t<tr><td>2        </td><td>-1.471654</td></tr>\n",
       "\t<tr><td>2        </td><td>-1.471654</td></tr>\n",
       "\t<tr><td>2        </td><td>-1.471654</td></tr>\n",
       "\t<tr><td>3        </td><td>-1.395573</td></tr>\n",
       "\t<tr><td>4        </td><td>-1.246665</td></tr>\n",
       "</tbody>\n",
       "</table>\n"
      ],
      "text/latex": [
       "\\begin{tabular}{r|ll}\n",
       " V8 & V8\\_woe\\\\\n",
       "\\hline\n",
       "\t 2         & -1.471654\\\\\n",
       "\t 2         & -1.471654\\\\\n",
       "\t 2         & -1.471654\\\\\n",
       "\t 2         & -1.471654\\\\\n",
       "\t 3         & -1.395573\\\\\n",
       "\t 4         & -1.246665\\\\\n",
       "\\end{tabular}\n"
      ],
      "text/markdown": [
       "\n",
       "| V8 | V8_woe |\n",
       "|---|---|\n",
       "| 2         | -1.471654 |\n",
       "| 2         | -1.471654 |\n",
       "| 2         | -1.471654 |\n",
       "| 2         | -1.471654 |\n",
       "| 3         | -1.395573 |\n",
       "| 4         | -1.246665 |\n",
       "\n"
      ],
      "text/plain": [
       "  V8 V8_woe   \n",
       "1 2  -1.471654\n",
       "2 2  -1.471654\n",
       "3 2  -1.471654\n",
       "4 2  -1.471654\n",
       "5 3  -1.395573\n",
       "6 4  -1.246665"
      ]
     },
     "metadata": {},
     "output_type": "display_data"
    }
   ],
   "source": [
    "# Convert the V8 categories with WOE\n",
    "D_V8 <- plyr::join(x=accept, y=woe_map_V8, by='V8', type=\"left\", match=\"all\")\n",
    "head(D_V8[, c('V8', 'V8_woe')])"
   ]
  },
  {
   "cell_type": "markdown",
   "metadata": {},
   "source": [
    "Here we have transformed categorical variable 'V8' with woe."
   ]
  },
  {
   "cell_type": "markdown",
   "metadata": {},
   "source": [
    "#### Transformation of Has_FICO"
   ]
  },
  {
   "cell_type": "code",
   "execution_count": 20,
   "metadata": {},
   "outputs": [
    {
     "data": {
      "text/html": [
       "<table>\n",
       "<thead><tr><th scope=col>Has.FICO.0</th><th scope=col>Has.FICO.1</th></tr></thead>\n",
       "<tbody>\n",
       "\t<tr><td> TRUE</td><td>FALSE</td></tr>\n",
       "\t<tr><td>FALSE</td><td> TRUE</td></tr>\n",
       "\t<tr><td>FALSE</td><td> TRUE</td></tr>\n",
       "\t<tr><td> TRUE</td><td>FALSE</td></tr>\n",
       "\t<tr><td> TRUE</td><td>FALSE</td></tr>\n",
       "\t<tr><td> TRUE</td><td>FALSE</td></tr>\n",
       "</tbody>\n",
       "</table>\n"
      ],
      "text/latex": [
       "\\begin{tabular}{r|ll}\n",
       " Has.FICO.0 & Has.FICO.1\\\\\n",
       "\\hline\n",
       "\t  TRUE & FALSE\\\\\n",
       "\t FALSE &  TRUE\\\\\n",
       "\t FALSE &  TRUE\\\\\n",
       "\t  TRUE & FALSE\\\\\n",
       "\t  TRUE & FALSE\\\\\n",
       "\t  TRUE & FALSE\\\\\n",
       "\\end{tabular}\n"
      ],
      "text/markdown": [
       "\n",
       "| Has.FICO.0 | Has.FICO.1 |\n",
       "|---|---|\n",
       "|  TRUE | FALSE |\n",
       "| FALSE |  TRUE |\n",
       "| FALSE |  TRUE |\n",
       "|  TRUE | FALSE |\n",
       "|  TRUE | FALSE |\n",
       "|  TRUE | FALSE |\n",
       "\n"
      ],
      "text/plain": [
       "  Has.FICO.0 Has.FICO.1\n",
       "1  TRUE      FALSE     \n",
       "2 FALSE       TRUE     \n",
       "3 FALSE       TRUE     \n",
       "4  TRUE      FALSE     \n",
       "5  TRUE      FALSE     \n",
       "6  TRUE      FALSE     "
      ]
     },
     "metadata": {},
     "output_type": "display_data"
    }
   ],
   "source": [
    "# convert to factor\n",
    "accept$Has_FICO <- as.factor(accept$Has_FICO)\n",
    "# Build the dummy encoding\n",
    "encoding <- build_encoding(dataSet=accept, cols=\"Has_FICO\", verbose=F)\n",
    "# Transform the categorical variable\n",
    "D_HF <- one_hot_encoder(dataSet=accept, encoding=encoding, type='logical', drop=F, verbose=F)\n",
    "D_HF <- D_HF[, 20:21]\n",
    "head(D_HF)"
   ]
  },
  {
   "cell_type": "code",
   "execution_count": 21,
   "metadata": {},
   "outputs": [
    {
     "data": {
      "text/html": [
       "<table>\n",
       "<thead><tr><th></th><th scope=col>Has_FICO</th><th scope=col>Has_FICO_incidence</th></tr></thead>\n",
       "<tbody>\n",
       "\t<tr><th scope=row>0</th><td>0        </td><td>0.2576029</td></tr>\n",
       "\t<tr><th scope=row>1</th><td>1        </td><td>0.2192475</td></tr>\n",
       "</tbody>\n",
       "</table>\n"
      ],
      "text/latex": [
       "\\begin{tabular}{r|ll}\n",
       "  & Has\\_FICO & Has\\_FICO\\_incidence\\\\\n",
       "\\hline\n",
       "\t0 & 0         & 0.2576029\\\\\n",
       "\t1 & 1         & 0.2192475\\\\\n",
       "\\end{tabular}\n"
      ],
      "text/markdown": [
       "\n",
       "| <!--/--> | Has_FICO | Has_FICO_incidence |\n",
       "|---|---|---|\n",
       "| 0 | 0         | 0.2576029 |\n",
       "| 1 | 1         | 0.2192475 |\n",
       "\n"
      ],
      "text/plain": [
       "  Has_FICO Has_FICO_incidence\n",
       "0 0        0.2576029         \n",
       "1 1        0.2192475         "
      ]
     },
     "metadata": {},
     "output_type": "display_data"
    }
   ],
   "source": [
    "# Find the incidence rates of Has_FICO\n",
    "tbHF <- table(accept$Has_FICO, accept$Default_45)\n",
    "incidence_map_HF <- data.frame('v1'=rownames(tbHF), 'v2'=tbHF[, '1'] / (tbHF[, '0'] + tbHF[, '1']))\n",
    "colnames(incidence_map_HF) <- c('Has_FICO', 'Has_FICO_incidence')\n",
    "incidence_map_HF"
   ]
  },
  {
   "cell_type": "code",
   "execution_count": 22,
   "metadata": {},
   "outputs": [
    {
     "name": "stderr",
     "output_type": "stream",
     "text": [
      "Warning message in setDT(ans, key = key):\n",
      "\"Some columns are a multi-column type (such as a matrix column): [12]. setDT will retain these columns as-is but subsequent operations like grouping and joining may fail. Please consider as.data.table() instead which will create a new column for each embedded column.\""
     ]
    },
    {
     "data": {
      "text/html": [
       "<table>\n",
       "<thead><tr><th scope=col>Has_FICO</th><th scope=col>Has_FICO_incidence</th></tr></thead>\n",
       "<tbody>\n",
       "\t<tr><td>0        </td><td>0.2576029</td></tr>\n",
       "\t<tr><td>1        </td><td>0.2192475</td></tr>\n",
       "\t<tr><td>1        </td><td>0.2192475</td></tr>\n",
       "\t<tr><td>0        </td><td>0.2576029</td></tr>\n",
       "\t<tr><td>0        </td><td>0.2576029</td></tr>\n",
       "\t<tr><td>0        </td><td>0.2576029</td></tr>\n",
       "</tbody>\n",
       "</table>\n"
      ],
      "text/latex": [
       "\\begin{tabular}{r|ll}\n",
       " Has\\_FICO & Has\\_FICO\\_incidence\\\\\n",
       "\\hline\n",
       "\t 0         & 0.2576029\\\\\n",
       "\t 1         & 0.2192475\\\\\n",
       "\t 1         & 0.2192475\\\\\n",
       "\t 0         & 0.2576029\\\\\n",
       "\t 0         & 0.2576029\\\\\n",
       "\t 0         & 0.2576029\\\\\n",
       "\\end{tabular}\n"
      ],
      "text/markdown": [
       "\n",
       "| Has_FICO | Has_FICO_incidence |\n",
       "|---|---|\n",
       "| 0         | 0.2576029 |\n",
       "| 1         | 0.2192475 |\n",
       "| 1         | 0.2192475 |\n",
       "| 0         | 0.2576029 |\n",
       "| 0         | 0.2576029 |\n",
       "| 0         | 0.2576029 |\n",
       "\n"
      ],
      "text/plain": [
       "  Has_FICO Has_FICO_incidence\n",
       "1 0        0.2576029         \n",
       "2 1        0.2192475         \n",
       "3 1        0.2192475         \n",
       "4 0        0.2576029         \n",
       "5 0        0.2576029         \n",
       "6 0        0.2576029         "
      ]
     },
     "metadata": {},
     "output_type": "display_data"
    }
   ],
   "source": [
    "# Convert the Has_FICO categories with incidences\n",
    "D_HF <- plyr::join(x=accept, y=incidence_map_HF, by='Has_FICO', type=\"left\", match=\"all\")\n",
    "head(D_HF[, c('Has_FICO', 'Has_FICO_incidence')])"
   ]
  },
  {
   "cell_type": "code",
   "execution_count": 23,
   "metadata": {},
   "outputs": [
    {
     "data": {
      "text/html": [
       "<table>\n",
       "<thead><tr><th></th><th scope=col>Has_FICO</th><th scope=col>Has_FICO_woe</th></tr></thead>\n",
       "<tbody>\n",
       "\t<tr><th scope=row>0</th><td>0        </td><td>-1.058465</td></tr>\n",
       "\t<tr><th scope=row>1</th><td>1        </td><td>-1.270057</td></tr>\n",
       "</tbody>\n",
       "</table>\n"
      ],
      "text/latex": [
       "\\begin{tabular}{r|ll}\n",
       "  & Has\\_FICO & Has\\_FICO\\_woe\\\\\n",
       "\\hline\n",
       "\t0 & 0         & -1.058465\\\\\n",
       "\t1 & 1         & -1.270057\\\\\n",
       "\\end{tabular}\n"
      ],
      "text/markdown": [
       "\n",
       "| <!--/--> | Has_FICO | Has_FICO_woe |\n",
       "|---|---|---|\n",
       "| 0 | 0         | -1.058465 |\n",
       "| 1 | 1         | -1.270057 |\n",
       "\n"
      ],
      "text/plain": [
       "  Has_FICO Has_FICO_woe\n",
       "0 0        -1.058465   \n",
       "1 1        -1.270057   "
      ]
     },
     "metadata": {},
     "output_type": "display_data"
    }
   ],
   "source": [
    "# Find the WOE of Has_FICO\n",
    "tbHF <- table(accept$Has_FICO, accept$Default_45)\n",
    "woe_map_HF <- data.frame('v1'=rownames(tbHF), 'v2'=log(tbHF[, '1'] / tbHF[, '0']))\n",
    "colnames(woe_map_HF) <- c('Has_FICO', 'Has_FICO_woe')\n",
    "woe_map_HF"
   ]
  },
  {
   "cell_type": "code",
   "execution_count": 24,
   "metadata": {},
   "outputs": [
    {
     "name": "stderr",
     "output_type": "stream",
     "text": [
      "Warning message in setDT(ans, key = key):\n",
      "\"Some columns are a multi-column type (such as a matrix column): [12]. setDT will retain these columns as-is but subsequent operations like grouping and joining may fail. Please consider as.data.table() instead which will create a new column for each embedded column.\""
     ]
    },
    {
     "data": {
      "text/html": [
       "<table>\n",
       "<thead><tr><th scope=col>Has_FICO</th><th scope=col>Has_FICO_woe</th></tr></thead>\n",
       "<tbody>\n",
       "\t<tr><td>0        </td><td>-1.058465</td></tr>\n",
       "\t<tr><td>1        </td><td>-1.270057</td></tr>\n",
       "\t<tr><td>1        </td><td>-1.270057</td></tr>\n",
       "\t<tr><td>0        </td><td>-1.058465</td></tr>\n",
       "\t<tr><td>0        </td><td>-1.058465</td></tr>\n",
       "\t<tr><td>0        </td><td>-1.058465</td></tr>\n",
       "</tbody>\n",
       "</table>\n"
      ],
      "text/latex": [
       "\\begin{tabular}{r|ll}\n",
       " Has\\_FICO & Has\\_FICO\\_woe\\\\\n",
       "\\hline\n",
       "\t 0         & -1.058465\\\\\n",
       "\t 1         & -1.270057\\\\\n",
       "\t 1         & -1.270057\\\\\n",
       "\t 0         & -1.058465\\\\\n",
       "\t 0         & -1.058465\\\\\n",
       "\t 0         & -1.058465\\\\\n",
       "\\end{tabular}\n"
      ],
      "text/markdown": [
       "\n",
       "| Has_FICO | Has_FICO_woe |\n",
       "|---|---|\n",
       "| 0         | -1.058465 |\n",
       "| 1         | -1.270057 |\n",
       "| 1         | -1.270057 |\n",
       "| 0         | -1.058465 |\n",
       "| 0         | -1.058465 |\n",
       "| 0         | -1.058465 |\n",
       "\n"
      ],
      "text/plain": [
       "  Has_FICO Has_FICO_woe\n",
       "1 0        -1.058465   \n",
       "2 1        -1.270057   \n",
       "3 1        -1.270057   \n",
       "4 0        -1.058465   \n",
       "5 0        -1.058465   \n",
       "6 0        -1.058465   "
      ]
     },
     "metadata": {},
     "output_type": "display_data"
    }
   ],
   "source": [
    "# Convert the Has_FICO categories with WOE\n",
    "D_HF <- plyr::join(x=accept, y=woe_map_HF, by='Has_FICO', type=\"left\", match=\"all\")\n",
    "head(D_HF[, c('Has_FICO', 'Has_FICO_woe')])"
   ]
  },
  {
   "cell_type": "markdown",
   "metadata": {},
   "source": [
    "#### Transformation of  Business_channel"
   ]
  },
  {
   "cell_type": "code",
   "execution_count": 25,
   "metadata": {},
   "outputs": [
    {
     "data": {
      "text/html": [
       "<table>\n",
       "<thead><tr><th scope=col>Business.channel.1</th><th scope=col>Business.channel.2</th><th scope=col>Business.channel.3</th></tr></thead>\n",
       "<tbody>\n",
       "\t<tr><td> TRUE</td><td>FALSE</td><td>FALSE</td></tr>\n",
       "\t<tr><td> TRUE</td><td>FALSE</td><td>FALSE</td></tr>\n",
       "\t<tr><td> TRUE</td><td>FALSE</td><td>FALSE</td></tr>\n",
       "\t<tr><td> TRUE</td><td>FALSE</td><td>FALSE</td></tr>\n",
       "\t<tr><td> TRUE</td><td>FALSE</td><td>FALSE</td></tr>\n",
       "\t<tr><td>FALSE</td><td> TRUE</td><td>FALSE</td></tr>\n",
       "</tbody>\n",
       "</table>\n"
      ],
      "text/latex": [
       "\\begin{tabular}{r|lll}\n",
       " Business.channel.1 & Business.channel.2 & Business.channel.3\\\\\n",
       "\\hline\n",
       "\t  TRUE & FALSE & FALSE\\\\\n",
       "\t  TRUE & FALSE & FALSE\\\\\n",
       "\t  TRUE & FALSE & FALSE\\\\\n",
       "\t  TRUE & FALSE & FALSE\\\\\n",
       "\t  TRUE & FALSE & FALSE\\\\\n",
       "\t FALSE &  TRUE & FALSE\\\\\n",
       "\\end{tabular}\n"
      ],
      "text/markdown": [
       "\n",
       "| Business.channel.1 | Business.channel.2 | Business.channel.3 |\n",
       "|---|---|---|\n",
       "|  TRUE | FALSE | FALSE |\n",
       "|  TRUE | FALSE | FALSE |\n",
       "|  TRUE | FALSE | FALSE |\n",
       "|  TRUE | FALSE | FALSE |\n",
       "|  TRUE | FALSE | FALSE |\n",
       "| FALSE |  TRUE | FALSE |\n",
       "\n"
      ],
      "text/plain": [
       "  Business.channel.1 Business.channel.2 Business.channel.3\n",
       "1  TRUE              FALSE              FALSE             \n",
       "2  TRUE              FALSE              FALSE             \n",
       "3  TRUE              FALSE              FALSE             \n",
       "4  TRUE              FALSE              FALSE             \n",
       "5  TRUE              FALSE              FALSE             \n",
       "6 FALSE               TRUE              FALSE             "
      ]
     },
     "metadata": {},
     "output_type": "display_data"
    }
   ],
   "source": [
    "# convert to factor\n",
    "accept$Business_channel <- as.factor(accept$Business_channel)\n",
    "# Build the dummy encoding\n",
    "encoding <- build_encoding(dataSet=accept, cols=\"Business_channel\", verbose=F)\n",
    "# Transform the categorical variable\n",
    "D_BC <- one_hot_encoder(dataSet=accept, encoding=encoding, type='logical', drop=F, verbose=F)\n",
    "D_BC <- accept[, 22:24]\n",
    "head(D_BC)"
   ]
  },
  {
   "cell_type": "code",
   "execution_count": 26,
   "metadata": {},
   "outputs": [
    {
     "data": {
      "text/html": [
       "<table>\n",
       "<thead><tr><th scope=col>Business_channel</th><th scope=col>Business_channel_incidence</th></tr></thead>\n",
       "<tbody>\n",
       "\t<tr><td>1         </td><td>0.20601852</td></tr>\n",
       "\t<tr><td>2         </td><td>0.39972015</td></tr>\n",
       "\t<tr><td>3         </td><td>0.08792373</td></tr>\n",
       "</tbody>\n",
       "</table>\n"
      ],
      "text/latex": [
       "\\begin{tabular}{r|ll}\n",
       " Business\\_channel & Business\\_channel\\_incidence\\\\\n",
       "\\hline\n",
       "\t 1          & 0.20601852\\\\\n",
       "\t 2          & 0.39972015\\\\\n",
       "\t 3          & 0.08792373\\\\\n",
       "\\end{tabular}\n"
      ],
      "text/markdown": [
       "\n",
       "| Business_channel | Business_channel_incidence |\n",
       "|---|---|\n",
       "| 1          | 0.20601852 |\n",
       "| 2          | 0.39972015 |\n",
       "| 3          | 0.08792373 |\n",
       "\n"
      ],
      "text/plain": [
       "  Business_channel Business_channel_incidence\n",
       "1 1                0.20601852                \n",
       "2 2                0.39972015                \n",
       "3 3                0.08792373                "
      ]
     },
     "metadata": {},
     "output_type": "display_data"
    }
   ],
   "source": [
    "# Find the incidence rates of Business_channel\n",
    "tbBC <- table(accept$Business_channel, accept$Default_45)\n",
    "incidence_map_BC <- data.frame('v1'=rownames(tbBC), 'v2'=tbBC[, '1'] / (tbBC[, '0'] + tbBC[, '1']))\n",
    "colnames(incidence_map_BC) <- c('Business_channel', 'Business_channel_incidence')\n",
    "incidence_map_BC"
   ]
  },
  {
   "cell_type": "code",
   "execution_count": 27,
   "metadata": {},
   "outputs": [
    {
     "name": "stderr",
     "output_type": "stream",
     "text": [
      "Warning message in setDT(ans, key = key):\n",
      "\"Some columns are a multi-column type (such as a matrix column): [12]. setDT will retain these columns as-is but subsequent operations like grouping and joining may fail. Please consider as.data.table() instead which will create a new column for each embedded column.\""
     ]
    },
    {
     "data": {
      "text/html": [
       "<table>\n",
       "<thead><tr><th scope=col>Business_channel</th><th scope=col>Business_channel_incidence</th></tr></thead>\n",
       "<tbody>\n",
       "\t<tr><td>1        </td><td>0.2060185</td></tr>\n",
       "\t<tr><td>1        </td><td>0.2060185</td></tr>\n",
       "\t<tr><td>1        </td><td>0.2060185</td></tr>\n",
       "\t<tr><td>1        </td><td>0.2060185</td></tr>\n",
       "\t<tr><td>1        </td><td>0.2060185</td></tr>\n",
       "\t<tr><td>2        </td><td>0.3997201</td></tr>\n",
       "</tbody>\n",
       "</table>\n"
      ],
      "text/latex": [
       "\\begin{tabular}{r|ll}\n",
       " Business\\_channel & Business\\_channel\\_incidence\\\\\n",
       "\\hline\n",
       "\t 1         & 0.2060185\\\\\n",
       "\t 1         & 0.2060185\\\\\n",
       "\t 1         & 0.2060185\\\\\n",
       "\t 1         & 0.2060185\\\\\n",
       "\t 1         & 0.2060185\\\\\n",
       "\t 2         & 0.3997201\\\\\n",
       "\\end{tabular}\n"
      ],
      "text/markdown": [
       "\n",
       "| Business_channel | Business_channel_incidence |\n",
       "|---|---|\n",
       "| 1         | 0.2060185 |\n",
       "| 1         | 0.2060185 |\n",
       "| 1         | 0.2060185 |\n",
       "| 1         | 0.2060185 |\n",
       "| 1         | 0.2060185 |\n",
       "| 2         | 0.3997201 |\n",
       "\n"
      ],
      "text/plain": [
       "  Business_channel Business_channel_incidence\n",
       "1 1                0.2060185                 \n",
       "2 1                0.2060185                 \n",
       "3 1                0.2060185                 \n",
       "4 1                0.2060185                 \n",
       "5 1                0.2060185                 \n",
       "6 2                0.3997201                 "
      ]
     },
     "metadata": {},
     "output_type": "display_data"
    }
   ],
   "source": [
    "# Convert the Business_channel categories with incidences\n",
    "D_BC <- plyr::join(x=accept, y=incidence_map_BC, by='Business_channel', type=\"left\", match=\"all\")\n",
    "head(D_BC[, c('Business_channel', 'Business_channel_incidence')])"
   ]
  },
  {
   "cell_type": "code",
   "execution_count": 28,
   "metadata": {},
   "outputs": [
    {
     "data": {
      "text/html": [
       "<table>\n",
       "<thead><tr><th scope=col>Business_channel</th><th scope=col>Business_channel_woe</th></tr></thead>\n",
       "<tbody>\n",
       "\t<tr><td>1         </td><td>-1.3490941</td></tr>\n",
       "\t<tr><td>2         </td><td>-0.4066313</td></tr>\n",
       "\t<tr><td>3         </td><td>-2.3392539</td></tr>\n",
       "</tbody>\n",
       "</table>\n"
      ],
      "text/latex": [
       "\\begin{tabular}{r|ll}\n",
       " Business\\_channel & Business\\_channel\\_woe\\\\\n",
       "\\hline\n",
       "\t 1          & -1.3490941\\\\\n",
       "\t 2          & -0.4066313\\\\\n",
       "\t 3          & -2.3392539\\\\\n",
       "\\end{tabular}\n"
      ],
      "text/markdown": [
       "\n",
       "| Business_channel | Business_channel_woe |\n",
       "|---|---|\n",
       "| 1          | -1.3490941 |\n",
       "| 2          | -0.4066313 |\n",
       "| 3          | -2.3392539 |\n",
       "\n"
      ],
      "text/plain": [
       "  Business_channel Business_channel_woe\n",
       "1 1                -1.3490941          \n",
       "2 2                -0.4066313          \n",
       "3 3                -2.3392539          "
      ]
     },
     "metadata": {},
     "output_type": "display_data"
    }
   ],
   "source": [
    "# Find the WOE of Business_channel\n",
    "tbBC <- table(accept$Business_channel, accept$Default_45)\n",
    "woe_map_BC <- data.frame('v1'=rownames(tbBC), 'v2'=log(tbBC[, '1'] / tbBC[, '0']))\n",
    "colnames(woe_map_BC) <- c('Business_channel', 'Business_channel_woe')\n",
    "woe_map_BC"
   ]
  },
  {
   "cell_type": "code",
   "execution_count": 29,
   "metadata": {},
   "outputs": [
    {
     "name": "stderr",
     "output_type": "stream",
     "text": [
      "Warning message in setDT(ans, key = key):\n",
      "\"Some columns are a multi-column type (such as a matrix column): [12]. setDT will retain these columns as-is but subsequent operations like grouping and joining may fail. Please consider as.data.table() instead which will create a new column for each embedded column.\""
     ]
    },
    {
     "data": {
      "text/html": [
       "<table>\n",
       "<thead><tr><th scope=col>Business_channel</th><th scope=col>Business_channel_woe</th></tr></thead>\n",
       "<tbody>\n",
       "\t<tr><td>1         </td><td>-1.3490941</td></tr>\n",
       "\t<tr><td>1         </td><td>-1.3490941</td></tr>\n",
       "\t<tr><td>1         </td><td>-1.3490941</td></tr>\n",
       "\t<tr><td>1         </td><td>-1.3490941</td></tr>\n",
       "\t<tr><td>1         </td><td>-1.3490941</td></tr>\n",
       "\t<tr><td>2         </td><td>-0.4066313</td></tr>\n",
       "</tbody>\n",
       "</table>\n"
      ],
      "text/latex": [
       "\\begin{tabular}{r|ll}\n",
       " Business\\_channel & Business\\_channel\\_woe\\\\\n",
       "\\hline\n",
       "\t 1          & -1.3490941\\\\\n",
       "\t 1          & -1.3490941\\\\\n",
       "\t 1          & -1.3490941\\\\\n",
       "\t 1          & -1.3490941\\\\\n",
       "\t 1          & -1.3490941\\\\\n",
       "\t 2          & -0.4066313\\\\\n",
       "\\end{tabular}\n"
      ],
      "text/markdown": [
       "\n",
       "| Business_channel | Business_channel_woe |\n",
       "|---|---|\n",
       "| 1          | -1.3490941 |\n",
       "| 1          | -1.3490941 |\n",
       "| 1          | -1.3490941 |\n",
       "| 1          | -1.3490941 |\n",
       "| 1          | -1.3490941 |\n",
       "| 2          | -0.4066313 |\n",
       "\n"
      ],
      "text/plain": [
       "  Business_channel Business_channel_woe\n",
       "1 1                -1.3490941          \n",
       "2 1                -1.3490941          \n",
       "3 1                -1.3490941          \n",
       "4 1                -1.3490941          \n",
       "5 1                -1.3490941          \n",
       "6 2                -0.4066313          "
      ]
     },
     "metadata": {},
     "output_type": "display_data"
    }
   ],
   "source": [
    "# Convert the Business_channel categories with WOE\n",
    "D_BC <- plyr::join(x=accept, y=woe_map_BC, by='Business_channel', type=\"left\", match=\"all\")  # Left join\n",
    "head(D_BC[, c('Business_channel', 'Business_channel_woe')])"
   ]
  },
  {
   "cell_type": "markdown",
   "metadata": {},
   "source": [
    "Now we have transformed the cateforical variables with woe.   \n",
    "Then we will standize the other numerical variables."
   ]
  },
  {
   "cell_type": "markdown",
   "metadata": {},
   "source": [
    "#### Standardize numerical variable which has not been normalized"
   ]
  },
  {
   "cell_type": "code",
   "execution_count": 30,
   "metadata": {},
   "outputs": [
    {
     "data": {
      "text/plain": [
       "       ID               V1                V2                V3         \n",
       " Min.   :249516   Min.   :-0.8044   Min.   :-2.0644   Min.   :-2.1598  \n",
       " 1st Qu.:269470   1st Qu.:-0.8044   1st Qu.:-0.4098   1st Qu.:-0.5483  \n",
       " Median :284845   Median :-0.8044   Median :-0.4098   Median : 0.2575  \n",
       " Mean   :282248   Mean   : 0.0000   Mean   : 0.0000   Mean   : 0.0000  \n",
       " 3rd Qu.:296045   3rd Qu.: 1.0265   3rd Qu.: 1.2447   3rd Qu.: 0.5261  \n",
       " Max.   :305957   Max.   : 2.8573   Max.   : 2.0720   Max.   : 1.8690  \n",
       "       V4                V5                V6                 V7         \n",
       " Min.   :-1.7011   Min.   :-1.4619   Min.   :-2.80581   Min.   :-0.7896  \n",
       " 1st Qu.:-0.9666   1st Qu.:-0.9709   1st Qu.:-0.62981   1st Qu.:-0.7896  \n",
       " Median : 0.5022   Median : 0.0111   Median : 0.09553   Median :-0.7896  \n",
       " Mean   : 0.0000   Mean   : 0.0000   Mean   : 0.00000   Mean   : 0.0000  \n",
       " 3rd Qu.: 0.5022   3rd Qu.: 0.9931   3rd Qu.: 0.09553   3rd Qu.: 1.2960  \n",
       " Max.   : 1.9710   Max.   : 1.4841   Max.   : 1.54619   Max.   : 1.2960  \n",
       "  V8       Has_FICO Business_channel    Days_late.V1       FICO_Score      \n",
       " >4: 182   0:4472   1:6912           Min.   :-0.481666   Min.   :-6.03316  \n",
       " 1 :3703   1:5528   2:2144           1st Qu.:-0.481666   1st Qu.:-0.32873  \n",
       " 2 :3787            3: 944           Median :-0.481666   Median :-0.08326  \n",
       " 3 :1486                             Mean   : 0.000000   Mean   :-0.08326  \n",
       " 4 : 842                             3rd Qu.:-0.353697   3rd Qu.:-0.00560  \n",
       "                                     Max.   : 4.833283   Max.   : 2.46756  \n",
       "  Loan_amount       Monthly_income          Age            Gearing_coefficient\n",
       " Min.   :-1.11702   Min.   :-0.98488   Min.   :-1.588346   Min.   :-2.8596    \n",
       " 1st Qu.:-0.64116   1st Qu.:-0.53633   1st Qu.:-0.914469   1st Qu.:-0.6145    \n",
       " Median :-0.32392   Median :-0.35939   Median :-0.165717   Median : 0.4141    \n",
       " Mean   : 0.03416   Mean   :-0.11933   Mean   :-0.003148   Mean   : 0.1005    \n",
       " 3rd Qu.: 0.38105   3rd Qu.: 0.05648   3rd Qu.: 0.882537   3rd Qu.: 0.9651    \n",
       " Max.   : 5.84461   Max.   :43.84200   Max.   : 2.005666   Max.   : 9.3873    \n",
       " Max_gearing_ratio    Default_45     Has.FICO.0      Has.FICO.1     \n",
       " Min.   :-0.76863   Min.   :0.0000   Mode :logical   Mode :logical  \n",
       " 1st Qu.:-0.76863   1st Qu.:0.0000   FALSE:5528      FALSE:4472     \n",
       " Median :-0.76863   Median :0.0000   TRUE :4472      TRUE :5528     \n",
       " Mean   : 0.01966   Mean   :0.2364                                  \n",
       " 3rd Qu.: 0.51398   3rd Qu.:0.0000                                  \n",
       " Max.   : 1.79659   Max.   :1.0000                                  \n",
       " Business.channel.1 Business.channel.2 Business.channel.3\n",
       " Mode :logical      Mode :logical      Mode :logical     \n",
       " FALSE:3088         FALSE:7856         FALSE:9056        \n",
       " TRUE :6912         TRUE :2144         TRUE :944         \n",
       "                                                         \n",
       "                                                         \n",
       "                                                         "
      ]
     },
     "metadata": {},
     "output_type": "display_data"
    }
   ],
   "source": [
    "accept[, 'V1'] <- scale(accept[, 'V1'], center=T, scale=T) \n",
    "accept[, 'V2'] <- scale(accept[, 'V2'], center=T, scale=T) \n",
    "accept[, 'V3'] <- scale(accept[, 'V3'], center=T, scale=T) \n",
    "accept[, 'V4'] <- scale(accept[, 'V4'], center=T, scale=T) \n",
    "accept[, 'V5'] <- scale(accept[, 'V5'], center=T, scale=T) \n",
    "accept[, 'V6'] <- scale(accept[, 'V6'], center=T, scale=T)\n",
    "accept[, 'V7'] <- scale(accept[, 'V7'], center=T, scale=T) \n",
    "summary(accept)"
   ]
  },
  {
   "cell_type": "markdown",
   "metadata": {},
   "source": [
    "#### Mereg all the transformed vairable with the remaining variables"
   ]
  },
  {
   "cell_type": "code",
   "execution_count": 31,
   "metadata": {},
   "outputs": [
    {
     "name": "stderr",
     "output_type": "stream",
     "text": [
      "Warning message in setDT(ans, key = key):\n",
      "\"Some columns are a multi-column type (such as a matrix column): [12]. setDT will retain these columns as-is but subsequent operations like grouping and joining may fail. Please consider as.data.table() instead which will create a new column for each embedded column.\""
     ]
    }
   ],
   "source": [
    "df <- cbind(accept[, c(\"ID\", \"V1\", \"V2\", \"V3\", \"V4\", \"V5\", \"V6\", \"V7\")], \n",
    "            D_V8[, 'V8_woe'], D_HF[, 'Has_FICO_woe'], D_BC[, 'Business_channel_woe'], \n",
    "            accept[, c(\"Days_late\", \"FICO_Score\", \"Loan_amount\", \"Monthly_income\", \"Age\", \"Gearing_coefficient\", \"Max_gearing_ratio\", \"Default_45\")])"
   ]
  },
  {
   "cell_type": "code",
   "execution_count": 32,
   "metadata": {},
   "outputs": [
    {
     "data": {
      "text/html": [
       "<table>\n",
       "<thead><tr><th scope=col>ID</th><th scope=col>V1</th><th scope=col>V2</th><th scope=col>V3</th><th scope=col>V4</th><th scope=col>V5</th><th scope=col>V6</th><th scope=col>V7</th><th scope=col>V8_woe</th><th scope=col>Has_FICO_woe</th><th scope=col>Business_channel_woe</th><th scope=col>Days_late</th><th scope=col>FICO_Score</th><th scope=col>Loan_amount</th><th scope=col>Monthly_income</th><th scope=col>Age</th><th scope=col>Gearing_coefficient</th><th scope=col>Max_gearing_ratio</th><th scope=col>Default_45</th></tr></thead>\n",
       "<tbody>\n",
       "\t<tr><td>250263     </td><td>-0.8043865 </td><td>-2.0644126 </td><td> 0.5260518 </td><td> 1.2366172 </td><td> 0.99310611</td><td> 1.5461945 </td><td>-0.789633  </td><td>-1.471654  </td><td>-1.058465  </td><td>-1.3490941 </td><td>-0.4816657 </td><td>-0.08325627</td><td> 1.4385177 </td><td>-0.25908469</td><td> 1.7810399 </td><td> 0.8602691 </td><td> 0.5139798 </td><td>0          </td></tr>\n",
       "\t<tr><td>250290     </td><td>-0.8043865 </td><td>-1.2371253 </td><td>-0.8168764 </td><td> 0.5021967 </td><td> 0.50210141</td><td>-2.8058096 </td><td>-0.789633  </td><td>-1.471654  </td><td>-1.270057  </td><td>-1.3490941 </td><td>-0.4816657 </td><td> 1.49818259</td><td> 0.2048114 </td><td> 0.38331185</td><td> 1.1071627 </td><td>-0.7182492 </td><td> 1.7965902 </td><td>0          </td></tr>\n",
       "\t<tr><td>250249     </td><td> 0.1110414 </td><td>-0.4098381 </td><td> 0.5260518 </td><td> 1.2366172 </td><td> 1.48411081</td><td> 1.5461945 </td><td>-0.789633  </td><td>-1.471654  </td><td>-1.270057  </td><td>-1.3490941 </td><td>-0.4816657 </td><td>-0.24173064</td><td>-0.8526511 </td><td>-0.73242952</td><td> 1.4066637 </td><td> 1.1229297 </td><td>-0.7686307 </td><td>0          </td></tr>\n",
       "\t<tr><td>249516     </td><td> 1.0264693 </td><td>-0.4098381 </td><td> 0.2574662 </td><td> 0.5021967 </td><td>-0.97091270</td><td>-0.6298075 </td><td>-0.789633  </td><td>-1.471654  </td><td>-1.058465  </td><td>-1.3490941 </td><td> 0.9515788 </td><td>-0.08325627</td><td>-0.6764074 </td><td>-0.05734964</td><td> 0.9574122 </td><td>-1.7024817 </td><td> 0.5139798 </td><td>1          </td></tr>\n",
       "\t<tr><td>249827     </td><td>-0.8043865 </td><td>-0.4098381 </td><td>-1.0854620 </td><td>-0.9666443 </td><td> 0.01109671</td><td>-0.6298075 </td><td>-0.789633  </td><td>-1.395573  </td><td>-1.058465  </td><td>-1.3490941 </td><td>-0.4816657 </td><td>-0.08325627</td><td>-0.4120417 </td><td>-0.57464791</td><td>-0.3903424 </td><td> 0.9100767 </td><td>-0.7686307 </td><td>0          </td></tr>\n",
       "\t<tr><td>250329     </td><td>-0.8043865 </td><td>-0.4098381 </td><td> 0.5260518 </td><td>-0.9666443 </td><td> 0.50210141</td><td>-0.6298075 </td><td> 1.296033  </td><td>-1.246665  </td><td>-1.058465  </td><td>-0.4066313 </td><td>-0.4816657 </td><td>-0.08325627</td><td> 0.5572989 </td><td>-0.21062320</td><td>-0.3903424 </td><td>-0.3844956 </td><td> 0.5139798 </td><td>0          </td></tr>\n",
       "</tbody>\n",
       "</table>\n"
      ],
      "text/latex": [
       "\\begin{tabular}{r|lllllllllllllllllll}\n",
       " ID & V1 & V2 & V3 & V4 & V5 & V6 & V7 & V8\\_woe & Has\\_FICO\\_woe & Business\\_channel\\_woe & Days\\_late & FICO\\_Score & Loan\\_amount & Monthly\\_income & Age & Gearing\\_coefficient & Max\\_gearing\\_ratio & Default\\_45\\\\\n",
       "\\hline\n",
       "\t 250263      & -0.8043865  & -2.0644126  &  0.5260518  &  1.2366172  &  0.99310611 &  1.5461945  & -0.789633   & -1.471654   & -1.058465   & -1.3490941  & -0.4816657  & -0.08325627 &  1.4385177  & -0.25908469 &  1.7810399  &  0.8602691  &  0.5139798  & 0          \\\\\n",
       "\t 250290      & -0.8043865  & -1.2371253  & -0.8168764  &  0.5021967  &  0.50210141 & -2.8058096  & -0.789633   & -1.471654   & -1.270057   & -1.3490941  & -0.4816657  &  1.49818259 &  0.2048114  &  0.38331185 &  1.1071627  & -0.7182492  &  1.7965902  & 0          \\\\\n",
       "\t 250249      &  0.1110414  & -0.4098381  &  0.5260518  &  1.2366172  &  1.48411081 &  1.5461945  & -0.789633   & -1.471654   & -1.270057   & -1.3490941  & -0.4816657  & -0.24173064 & -0.8526511  & -0.73242952 &  1.4066637  &  1.1229297  & -0.7686307  & 0          \\\\\n",
       "\t 249516      &  1.0264693  & -0.4098381  &  0.2574662  &  0.5021967  & -0.97091270 & -0.6298075  & -0.789633   & -1.471654   & -1.058465   & -1.3490941  &  0.9515788  & -0.08325627 & -0.6764074  & -0.05734964 &  0.9574122  & -1.7024817  &  0.5139798  & 1          \\\\\n",
       "\t 249827      & -0.8043865  & -0.4098381  & -1.0854620  & -0.9666443  &  0.01109671 & -0.6298075  & -0.789633   & -1.395573   & -1.058465   & -1.3490941  & -0.4816657  & -0.08325627 & -0.4120417  & -0.57464791 & -0.3903424  &  0.9100767  & -0.7686307  & 0          \\\\\n",
       "\t 250329      & -0.8043865  & -0.4098381  &  0.5260518  & -0.9666443  &  0.50210141 & -0.6298075  &  1.296033   & -1.246665   & -1.058465   & -0.4066313  & -0.4816657  & -0.08325627 &  0.5572989  & -0.21062320 & -0.3903424  & -0.3844956  &  0.5139798  & 0          \\\\\n",
       "\\end{tabular}\n"
      ],
      "text/markdown": [
       "\n",
       "| ID | V1 | V2 | V3 | V4 | V5 | V6 | V7 | V8_woe | Has_FICO_woe | Business_channel_woe | Days_late | FICO_Score | Loan_amount | Monthly_income | Age | Gearing_coefficient | Max_gearing_ratio | Default_45 |\n",
       "|---|---|---|---|---|---|---|---|---|---|---|---|---|---|---|---|---|---|---|\n",
       "| 250263      | -0.8043865  | -2.0644126  |  0.5260518  |  1.2366172  |  0.99310611 |  1.5461945  | -0.789633   | -1.471654   | -1.058465   | -1.3490941  | -0.4816657  | -0.08325627 |  1.4385177  | -0.25908469 |  1.7810399  |  0.8602691  |  0.5139798  | 0           |\n",
       "| 250290      | -0.8043865  | -1.2371253  | -0.8168764  |  0.5021967  |  0.50210141 | -2.8058096  | -0.789633   | -1.471654   | -1.270057   | -1.3490941  | -0.4816657  |  1.49818259 |  0.2048114  |  0.38331185 |  1.1071627  | -0.7182492  |  1.7965902  | 0           |\n",
       "| 250249      |  0.1110414  | -0.4098381  |  0.5260518  |  1.2366172  |  1.48411081 |  1.5461945  | -0.789633   | -1.471654   | -1.270057   | -1.3490941  | -0.4816657  | -0.24173064 | -0.8526511  | -0.73242952 |  1.4066637  |  1.1229297  | -0.7686307  | 0           |\n",
       "| 249516      |  1.0264693  | -0.4098381  |  0.2574662  |  0.5021967  | -0.97091270 | -0.6298075  | -0.789633   | -1.471654   | -1.058465   | -1.3490941  |  0.9515788  | -0.08325627 | -0.6764074  | -0.05734964 |  0.9574122  | -1.7024817  |  0.5139798  | 1           |\n",
       "| 249827      | -0.8043865  | -0.4098381  | -1.0854620  | -0.9666443  |  0.01109671 | -0.6298075  | -0.789633   | -1.395573   | -1.058465   | -1.3490941  | -0.4816657  | -0.08325627 | -0.4120417  | -0.57464791 | -0.3903424  |  0.9100767  | -0.7686307  | 0           |\n",
       "| 250329      | -0.8043865  | -0.4098381  |  0.5260518  | -0.9666443  |  0.50210141 | -0.6298075  |  1.296033   | -1.246665   | -1.058465   | -0.4066313  | -0.4816657  | -0.08325627 |  0.5572989  | -0.21062320 | -0.3903424  | -0.3844956  |  0.5139798  | 0           |\n",
       "\n"
      ],
      "text/plain": [
       "  ID     V1         V2         V3         V4         V5          V6        \n",
       "1 250263 -0.8043865 -2.0644126  0.5260518  1.2366172  0.99310611  1.5461945\n",
       "2 250290 -0.8043865 -1.2371253 -0.8168764  0.5021967  0.50210141 -2.8058096\n",
       "3 250249  0.1110414 -0.4098381  0.5260518  1.2366172  1.48411081  1.5461945\n",
       "4 249516  1.0264693 -0.4098381  0.2574662  0.5021967 -0.97091270 -0.6298075\n",
       "5 249827 -0.8043865 -0.4098381 -1.0854620 -0.9666443  0.01109671 -0.6298075\n",
       "6 250329 -0.8043865 -0.4098381  0.5260518 -0.9666443  0.50210141 -0.6298075\n",
       "  V7        V8_woe    Has_FICO_woe Business_channel_woe Days_late  FICO_Score \n",
       "1 -0.789633 -1.471654 -1.058465    -1.3490941           -0.4816657 -0.08325627\n",
       "2 -0.789633 -1.471654 -1.270057    -1.3490941           -0.4816657  1.49818259\n",
       "3 -0.789633 -1.471654 -1.270057    -1.3490941           -0.4816657 -0.24173064\n",
       "4 -0.789633 -1.471654 -1.058465    -1.3490941            0.9515788 -0.08325627\n",
       "5 -0.789633 -1.395573 -1.058465    -1.3490941           -0.4816657 -0.08325627\n",
       "6  1.296033 -1.246665 -1.058465    -0.4066313           -0.4816657 -0.08325627\n",
       "  Loan_amount Monthly_income Age        Gearing_coefficient Max_gearing_ratio\n",
       "1  1.4385177  -0.25908469     1.7810399  0.8602691           0.5139798       \n",
       "2  0.2048114   0.38331185     1.1071627 -0.7182492           1.7965902       \n",
       "3 -0.8526511  -0.73242952     1.4066637  1.1229297          -0.7686307       \n",
       "4 -0.6764074  -0.05734964     0.9574122 -1.7024817           0.5139798       \n",
       "5 -0.4120417  -0.57464791    -0.3903424  0.9100767          -0.7686307       \n",
       "6  0.5572989  -0.21062320    -0.3903424 -0.3844956           0.5139798       \n",
       "  Default_45\n",
       "1 0         \n",
       "2 0         \n",
       "3 0         \n",
       "4 1         \n",
       "5 0         \n",
       "6 0         "
      ]
     },
     "metadata": {},
     "output_type": "display_data"
    }
   ],
   "source": [
    "head(df)"
   ]
  },
  {
   "cell_type": "markdown",
   "metadata": {},
   "source": [
    "The final table after data processing is done. We can see that all the variables are either nomalized, standardized or tfansformed with woe.    \n",
    "We can then split the data into train and test and perform feature selection before modeling."
   ]
  },
  {
   "cell_type": "markdown",
   "metadata": {},
   "source": [
    "#### split data into train and test"
   ]
  },
  {
   "cell_type": "code",
   "execution_count": 33,
   "metadata": {},
   "outputs": [],
   "source": [
    "# spiltting and resampling into train (60%) and test (40%)\n",
    "set.seed(123)\n",
    "trainIndex <- createDataPartition(df$Default_45, p = 0.6, list = FALSE, times = 1)\n",
    "train <- df[trainIndex, ]\n",
    "test <- df[-trainIndex, ]"
   ]
  },
  {
   "cell_type": "markdown",
   "metadata": {},
   "source": [
    "#### check distribution of default in train and test"
   ]
  },
  {
   "cell_type": "code",
   "execution_count": 34,
   "metadata": {},
   "outputs": [
    {
     "data": {
      "text/html": [
       "<table>\n",
       "<thead><tr><th scope=col>Default_45</th><th scope=col>count</th><th scope=col>percentage</th></tr></thead>\n",
       "<tbody>\n",
       "\t<tr><td>0   </td><td>4549</td><td>0.76</td></tr>\n",
       "\t<tr><td>1   </td><td>1451</td><td>0.24</td></tr>\n",
       "</tbody>\n",
       "</table>\n"
      ],
      "text/latex": [
       "\\begin{tabular}{r|lll}\n",
       " Default\\_45 & count & percentage\\\\\n",
       "\\hline\n",
       "\t 0    & 4549 & 0.76\\\\\n",
       "\t 1    & 1451 & 0.24\\\\\n",
       "\\end{tabular}\n"
      ],
      "text/markdown": [
       "\n",
       "| Default_45 | count | percentage |\n",
       "|---|---|---|\n",
       "| 0    | 4549 | 0.76 |\n",
       "| 1    | 1451 | 0.24 |\n",
       "\n"
      ],
      "text/plain": [
       "  Default_45 count percentage\n",
       "1 0          4549  0.76      \n",
       "2 1          1451  0.24      "
      ]
     },
     "metadata": {},
     "output_type": "display_data"
    }
   ],
   "source": [
    "# train\n",
    "ddply(train, \"Default_45\", summarise, count = length(Default_45), \n",
    "    percentage = round(length(Default_45)/nrow(train), 2))"
   ]
  },
  {
   "cell_type": "code",
   "execution_count": 35,
   "metadata": {},
   "outputs": [
    {
     "data": {
      "text/html": [
       "<table>\n",
       "<thead><tr><th scope=col>Default_45</th><th scope=col>count</th><th scope=col>percentage</th></tr></thead>\n",
       "<tbody>\n",
       "\t<tr><td>0   </td><td>3087</td><td>0.77</td></tr>\n",
       "\t<tr><td>1   </td><td> 913</td><td>0.23</td></tr>\n",
       "</tbody>\n",
       "</table>\n"
      ],
      "text/latex": [
       "\\begin{tabular}{r|lll}\n",
       " Default\\_45 & count & percentage\\\\\n",
       "\\hline\n",
       "\t 0    & 3087 & 0.77\\\\\n",
       "\t 1    &  913 & 0.23\\\\\n",
       "\\end{tabular}\n"
      ],
      "text/markdown": [
       "\n",
       "| Default_45 | count | percentage |\n",
       "|---|---|---|\n",
       "| 0    | 3087 | 0.77 |\n",
       "| 1    |  913 | 0.23 |\n",
       "\n"
      ],
      "text/plain": [
       "  Default_45 count percentage\n",
       "1 0          3087  0.77      \n",
       "2 1           913  0.23      "
      ]
     },
     "metadata": {},
     "output_type": "display_data"
    }
   ],
   "source": [
    "# test\n",
    "ddply(test, \"Default_45\", summarise, count = length(Default_45), \n",
    "    percentage = round(length(Default_45)/nrow(test), 2))"
   ]
  },
  {
   "cell_type": "markdown",
   "metadata": {},
   "source": [
    "We can see the train and test data have been splited with similar distribution of Default_45."
   ]
  },
  {
   "cell_type": "markdown",
   "metadata": {},
   "source": [
    "### 3. Feature Selection using Information Value"
   ]
  },
  {
   "cell_type": "markdown",
   "metadata": {},
   "source": [
    "We will use Information Value to find out the better prediction power predictors for modeling."
   ]
  },
  {
   "cell_type": "code",
   "execution_count": 37,
   "metadata": {},
   "outputs": [],
   "source": [
    "IV <- create_infotables(data=train[, -1], y=\"Default_45\")"
   ]
  },
  {
   "cell_type": "code",
   "execution_count": 38,
   "metadata": {},
   "outputs": [
    {
     "data": {
      "text/html": [
       "<dl>\n",
       "\t<dt>$V1</dt>\n",
       "\t\t<dd><table>\n",
       "<thead><tr><th scope=col>V1</th><th scope=col>N</th><th scope=col>Percent</th><th scope=col>WOE</th><th scope=col>IV</th></tr></thead>\n",
       "<tbody>\n",
       "\t<tr><td>[-0.8,-0.8]</td><td>3448       </td><td>0.57466667 </td><td>-0.3094677 </td><td>0.05059094 </td></tr>\n",
       "\t<tr><td>[0.11,0.11]</td><td> 301       </td><td>0.05016667 </td><td>-0.2899640 </td><td>0.05448977 </td></tr>\n",
       "\t<tr><td>[1.03,2.86]</td><td>2251       </td><td>0.37516667 </td><td> 0.4267638 </td><td>0.12999419 </td></tr>\n",
       "</tbody>\n",
       "</table>\n",
       "</dd>\n",
       "\t<dt>$V2</dt>\n",
       "\t\t<dd><table>\n",
       "<thead><tr><th scope=col>V2</th><th scope=col>N</th><th scope=col>Percent</th><th scope=col>WOE</th><th scope=col>IV</th></tr></thead>\n",
       "<tbody>\n",
       "\t<tr><td>[-2.06,-1.24]</td><td> 801         </td><td>0.1335000    </td><td>-0.5739456   </td><td>0.03741186   </td></tr>\n",
       "\t<tr><td>[-0.41,-0.41]</td><td>2305         </td><td>0.3841667    </td><td> 0.1251294   </td><td>0.04361932   </td></tr>\n",
       "\t<tr><td>[0.42,0.42]  </td><td>1365         </td><td>0.2275000    </td><td>-0.3281973   </td><td>0.06602496   </td></tr>\n",
       "\t<tr><td>[1.24,2.07]  </td><td>1529         </td><td>0.2548333    </td><td> 0.3056131   </td><td>0.09164880   </td></tr>\n",
       "</tbody>\n",
       "</table>\n",
       "</dd>\n",
       "\t<dt>$V3</dt>\n",
       "\t\t<dd><table>\n",
       "<thead><tr><th scope=col>V3</th><th scope=col>N</th><th scope=col>Percent</th><th scope=col>WOE</th><th scope=col>IV</th></tr></thead>\n",
       "<tbody>\n",
       "\t<tr><td>[-2.16,-2.16]</td><td> 114         </td><td>0.01900000   </td><td>-0.28809167  </td><td>0.001458397  </td></tr>\n",
       "\t<tr><td>[-1.89,-1.35]</td><td>1032         </td><td>0.17200000   </td><td> 0.17907845  </td><td>0.007225502  </td></tr>\n",
       "\t<tr><td>[-1.09,-0.01]</td><td> 449         </td><td>0.07483333   </td><td>-0.48020648  </td><td>0.022321460  </td></tr>\n",
       "\t<tr><td>[0.26,0.26]  </td><td>1596         </td><td>0.26600000   </td><td> 0.35200891  </td><td>0.058169994  </td></tr>\n",
       "\t<tr><td>[0.53,0.53]  </td><td>2009         </td><td>0.33483333   </td><td>-0.30965372  </td><td>0.087681021  </td></tr>\n",
       "\t<tr><td>[0.79,1.6]   </td><td> 800         </td><td>0.13333333   </td><td>-0.01689038  </td><td>0.087718893  </td></tr>\n",
       "</tbody>\n",
       "</table>\n",
       "</dd>\n",
       "\t<dt>$V4</dt>\n",
       "\t\t<dd><table>\n",
       "<thead><tr><th scope=col>V4</th><th scope=col>N</th><th scope=col>Percent</th><th scope=col>WOE</th><th scope=col>IV</th></tr></thead>\n",
       "<tbody>\n",
       "\t<tr><td>[-1.7,-1.7]  </td><td> 819         </td><td>0.13650000   </td><td>-0.1821974   </td><td>0.004316278  </td></tr>\n",
       "\t<tr><td>[-0.97,-0.97]</td><td>1193         </td><td>0.19883333   </td><td> 0.1089357   </td><td>0.006741644  </td></tr>\n",
       "\t<tr><td>[-0.23,-0.23]</td><td> 571         </td><td>0.09516667   </td><td> 0.1376109   </td><td>0.008607125  </td></tr>\n",
       "\t<tr><td>[0.5,0.5]    </td><td>2155         </td><td>0.35916667   </td><td> 0.2964612   </td><td>0.042521678  </td></tr>\n",
       "\t<tr><td>[1.24,1.97]  </td><td>1262         </td><td>0.21033333   </td><td>-0.7447802   </td><td>0.136757390  </td></tr>\n",
       "</tbody>\n",
       "</table>\n",
       "</dd>\n",
       "\t<dt>$V5</dt>\n",
       "\t\t<dd><table>\n",
       "<thead><tr><th scope=col>V5</th><th scope=col>N</th><th scope=col>Percent</th><th scope=col>WOE</th><th scope=col>IV</th></tr></thead>\n",
       "<tbody>\n",
       "\t<tr><td>[-1.46,-1.46]</td><td> 569         </td><td>0.09483333   </td><td> 0.725459007 </td><td>0.05829314   </td></tr>\n",
       "\t<tr><td>[-0.97,-0.97]</td><td>1327         </td><td>0.22116667   </td><td> 0.594271419 </td><td>0.14747286   </td></tr>\n",
       "\t<tr><td>[-0.48,-0.48]</td><td>1018         </td><td>0.16966667   </td><td> 0.009692686 </td><td>0.14748884   </td></tr>\n",
       "\t<tr><td>[0.01,0.01]  </td><td> 850         </td><td>0.14166667   </td><td>-0.200091661 </td><td>0.15286505   </td></tr>\n",
       "\t<tr><td>[0.5,0.99]   </td><td>1019         </td><td>0.16983333   </td><td>-0.567904229 </td><td>0.19954676   </td></tr>\n",
       "\t<tr><td>[1.48,1.48]  </td><td>1217         </td><td>0.20283333   </td><td>-0.752576956 </td><td>0.29211296   </td></tr>\n",
       "</tbody>\n",
       "</table>\n",
       "</dd>\n",
       "\t<dt>$V6</dt>\n",
       "\t\t<dd><table>\n",
       "<thead><tr><th scope=col>V6</th><th scope=col>N</th><th scope=col>Percent</th><th scope=col>WOE</th><th scope=col>IV</th></tr></thead>\n",
       "<tbody>\n",
       "\t<tr><td>[-2.81,-1.36]</td><td> 517         </td><td>0.08616667   </td><td>-0.60031485  </td><td>0.02620837   </td></tr>\n",
       "\t<tr><td>[-0.63,-0.63]</td><td>1908         </td><td>0.31800000   </td><td>-0.05927545  </td><td>0.02730853   </td></tr>\n",
       "\t<tr><td>[0.1,0.82]   </td><td>2326         </td><td>0.38766667   </td><td> 0.45466192  </td><td>0.11637106   </td></tr>\n",
       "\t<tr><td>[1.55,1.55]  </td><td>1249         </td><td>0.20816667   </td><td>-0.81151641  </td><td>0.22484608   </td></tr>\n",
       "</tbody>\n",
       "</table>\n",
       "</dd>\n",
       "\t<dt>$V7</dt>\n",
       "\t\t<dd><table>\n",
       "<thead><tr><th scope=col>V7</th><th scope=col>N</th><th scope=col>Percent</th><th scope=col>WOE</th><th scope=col>IV</th></tr></thead>\n",
       "<tbody>\n",
       "\t<tr><td>[-0.79,0.25]</td><td>3804        </td><td>0.634       </td><td>-0.2367535  </td><td>0.03334349  </td></tr>\n",
       "\t<tr><td>[1.3,1.3]   </td><td>2196        </td><td>0.366       </td><td> 0.3536672  </td><td>0.08315267  </td></tr>\n",
       "</tbody>\n",
       "</table>\n",
       "</dd>\n",
       "\t<dt>$V8_woe</dt>\n",
       "\t\t<dd><table>\n",
       "<thead><tr><th scope=col>V8_woe</th><th scope=col>N</th><th scope=col>Percent</th><th scope=col>WOE</th><th scope=col>IV</th></tr></thead>\n",
       "<tbody>\n",
       "\t<tr><td>[-1.47,-1.47]</td><td>2258         </td><td>0.3763333    </td><td>-0.2959431   </td><td>0.03041472   </td></tr>\n",
       "\t<tr><td>[-1.4,-1.4]  </td><td> 885         </td><td>0.1475000    </td><td>-0.2156269   </td><td>0.03688735   </td></tr>\n",
       "\t<tr><td>[-1.25,-1]   </td><td> 608         </td><td>0.1013333    </td><td> 0.0352509   </td><td>0.03701441   </td></tr>\n",
       "\t<tr><td>[-0.83,-0.83]</td><td>2249         </td><td>0.3748333    </td><td> 0.3191698   </td><td>0.07824648   </td></tr>\n",
       "</tbody>\n",
       "</table>\n",
       "</dd>\n",
       "\t<dt>$Has_FICO_woe</dt>\n",
       "\t\t<dd><table>\n",
       "<thead><tr><th scope=col>Has_FICO_woe</th><th scope=col>N</th><th scope=col>Percent</th><th scope=col>WOE</th><th scope=col>IV</th></tr></thead>\n",
       "<tbody>\n",
       "\t<tr><td>[-1.27,-1.27]</td><td>3327         </td><td>0.5545       </td><td>-0.1194073   </td><td>0.007660857  </td></tr>\n",
       "\t<tr><td>[-1.06,-1.06]</td><td>2673         </td><td>0.4455       </td><td> 0.1390734   </td><td>0.016583442  </td></tr>\n",
       "</tbody>\n",
       "</table>\n",
       "</dd>\n",
       "\t<dt>$Business_channel_woe</dt>\n",
       "\t\t<dd><table>\n",
       "<thead><tr><th scope=col>Business_channel_woe</th><th scope=col>N</th><th scope=col>Percent</th><th scope=col>WOE</th><th scope=col>IV</th></tr></thead>\n",
       "<tbody>\n",
       "\t<tr><td>[-2.34,-2.34]</td><td> 536         </td><td>0.08933333   </td><td>-1.0057800   </td><td>0.06731044   </td></tr>\n",
       "\t<tr><td>[-1.35,-1.35]</td><td>4150         </td><td>0.69166667   </td><td>-0.2064055   </td><td>0.09519298   </td></tr>\n",
       "\t<tr><td>[-0.41,-0.41]</td><td>1314         </td><td>0.21900000   </td><td> 0.7826517   </td><td>0.25329634   </td></tr>\n",
       "</tbody>\n",
       "</table>\n",
       "</dd>\n",
       "\t<dt>$Days_late</dt>\n",
       "\t\t<dd><table>\n",
       "<thead><tr><th scope=col>Days_late</th><th scope=col>N</th><th scope=col>Percent</th><th scope=col>WOE</th><th scope=col>IV</th></tr></thead>\n",
       "<tbody>\n",
       "\t<tr><td>[-0.48,-0.48]</td><td>3844         </td><td>0.6406667    </td><td> 0.0000000   </td><td>0.00000000   </td></tr>\n",
       "\t<tr><td>[-0.35,0.04] </td><td> 818         </td><td>0.1363333    </td><td>-0.6881555   </td><td>0.05305802   </td></tr>\n",
       "\t<tr><td>[0.17,1.61]  </td><td> 690         </td><td>0.1150000    </td><td> 0.0000000   </td><td>0.05305802   </td></tr>\n",
       "\t<tr><td>[1.71,4.83]  </td><td> 648         </td><td>0.1080000    </td><td> 0.0000000   </td><td>0.05305802   </td></tr>\n",
       "</tbody>\n",
       "</table>\n",
       "</dd>\n",
       "\t<dt>$FICO_Score</dt>\n",
       "\t\t<dd><table>\n",
       "<thead><tr><th scope=col>FICO_Score</th><th scope=col>N</th><th scope=col>Percent</th><th scope=col>WOE</th><th scope=col>IV</th></tr></thead>\n",
       "<tbody>\n",
       "\t<tr><td>[-6.03,-1.07]</td><td> 589         </td><td>0.09816667   </td><td> 1.19359926  </td><td>0.1731215    </td></tr>\n",
       "\t<tr><td>[-1.06,-0.61]</td><td> 600         </td><td>0.10000000   </td><td> 0.57451682  </td><td>0.2106706    </td></tr>\n",
       "\t<tr><td>[-0.6,-0.09] </td><td> 561         </td><td>0.09350000   </td><td>-0.29110644  </td><td>0.2179922    </td></tr>\n",
       "\t<tr><td>[-0.08,0.28] </td><td>3046         </td><td>0.50766667   </td><td> 0.06407768  </td><td>0.2201109    </td></tr>\n",
       "\t<tr><td>[0.29,0.99]  </td><td> 599         </td><td>0.09983333   </td><td>-1.80002860  </td><td>0.4080466    </td></tr>\n",
       "\t<tr><td>[1,2.47]     </td><td> 605         </td><td>0.10083333   </td><td>-2.18272409  </td><td>0.6566743    </td></tr>\n",
       "</tbody>\n",
       "</table>\n",
       "</dd>\n",
       "\t<dt>$Loan_amount</dt>\n",
       "\t\t<dd><table>\n",
       "<thead><tr><th scope=col>Loan_amount</th><th scope=col>N</th><th scope=col>Percent</th><th scope=col>WOE</th><th scope=col>IV</th></tr></thead>\n",
       "<tbody>\n",
       "\t<tr><td>[-1.12,-0.85]</td><td> 254         </td><td>0.04233333   </td><td>-1.07219172  </td><td>0.03550159   </td></tr>\n",
       "\t<tr><td>[-0.85,-0.68]</td><td> 744         </td><td>0.12400000   </td><td>-0.14412837  </td><td>0.03798090   </td></tr>\n",
       "\t<tr><td>[-0.68,-0.5] </td><td> 722         </td><td>0.12033333   </td><td>-0.10566209  </td><td>0.03928750   </td></tr>\n",
       "\t<tr><td>[-0.5,-0.33] </td><td> 555         </td><td>0.09250000   </td><td> 0.05601836  </td><td>0.03958195   </td></tr>\n",
       "\t<tr><td>[-0.32,-0.08]</td><td>1322         </td><td>0.22033333   </td><td> 0.07804544  </td><td>0.04095091   </td></tr>\n",
       "\t<tr><td>[-0.06,0.19] </td><td> 472         </td><td>0.07866667   </td><td> 0.04404217  </td><td>0.04110523   </td></tr>\n",
       "\t<tr><td>[0.2,0.54]   </td><td> 636         </td><td>0.10600000   </td><td> 0.15026438  </td><td>0.04359038   </td></tr>\n",
       "\t<tr><td>[0.56,1.14]  </td><td> 693         </td><td>0.11550000   </td><td> 0.13252883  </td><td>0.04568770   </td></tr>\n",
       "\t<tr><td>[1.17,5.84]  </td><td> 602         </td><td>0.10033333   </td><td> 0.03960757  </td><td>0.04584670   </td></tr>\n",
       "</tbody>\n",
       "</table>\n",
       "</dd>\n",
       "\t<dt>$Monthly_income</dt>\n",
       "\t\t<dd><table>\n",
       "<thead><tr><th scope=col>Monthly_income</th><th scope=col>N</th><th scope=col>Percent</th><th scope=col>WOE</th><th scope=col>IV</th></tr></thead>\n",
       "<tbody>\n",
       "\t<tr><td>[-0.98,-0.7] </td><td>599          </td><td>0.09983333   </td><td>-0.34922767  </td><td>0.01106576   </td></tr>\n",
       "\t<tr><td>[-0.7,-0.6]  </td><td>595          </td><td>0.09916667   </td><td>-0.08329726  </td><td>0.01173895   </td></tr>\n",
       "\t<tr><td>[-0.6,-0.51] </td><td>562          </td><td>0.09366667   </td><td> 0.06762817  </td><td>0.01217479   </td></tr>\n",
       "\t<tr><td>[-0.51,-0.46]</td><td>642          </td><td>0.10700000   </td><td>-0.08920183  </td><td>0.01300648   </td></tr>\n",
       "\t<tr><td>[-0.46,-0.36]</td><td>599          </td><td>0.09983333   </td><td> 0.13332886  </td><td>0.01484162   </td></tr>\n",
       "\t<tr><td>[-0.36,-0.21]</td><td>601          </td><td>0.10016667   </td><td> 0.04182241  </td><td>0.01501871   </td></tr>\n",
       "\t<tr><td>[-0.21,-0.05]</td><td>598          </td><td>0.09966667   </td><td> 0.14412562  </td><td>0.01716516   </td></tr>\n",
       "\t<tr><td>[-0.04,0.2]  </td><td>602          </td><td>0.10033333   </td><td> 0.09219151  </td><td>0.01803808   </td></tr>\n",
       "\t<tr><td>[0.2,0.69]   </td><td>601          </td><td>0.10016667   </td><td> 0.22869201  </td><td>0.02357986   </td></tr>\n",
       "\t<tr><td>[0.69,21.27] </td><td>601          </td><td>0.10016667   </td><td>-0.25616617  </td><td>0.02971374   </td></tr>\n",
       "</tbody>\n",
       "</table>\n",
       "</dd>\n",
       "\t<dt>$Age</dt>\n",
       "\t\t<dd><table>\n",
       "<thead><tr><th scope=col>Age</th><th scope=col>N</th><th scope=col>Percent</th><th scope=col>WOE</th><th scope=col>IV</th></tr></thead>\n",
       "<tbody>\n",
       "\t<tr><td>[-1.59,-1.36]</td><td>505          </td><td>0.08416667   </td><td> 0.77008705  </td><td>0.05871323   </td></tr>\n",
       "\t<tr><td>[-1.29,-1.14]</td><td>533          </td><td>0.08883333   </td><td> 0.40984202  </td><td>0.07514373   </td></tr>\n",
       "\t<tr><td>[-1.06,-0.84]</td><td>725          </td><td>0.12083333   </td><td> 0.44536648  </td><td>0.10173003   </td></tr>\n",
       "\t<tr><td>[-0.76,-0.54]</td><td>537          </td><td>0.08950000   </td><td> 0.32094246  </td><td>0.11168870   </td></tr>\n",
       "\t<tr><td>[-0.47,-0.24]</td><td>624          </td><td>0.10400000   </td><td> 0.26309573  </td><td>0.11936466   </td></tr>\n",
       "\t<tr><td>[-0.17,0.13] </td><td>622          </td><td>0.10366667   </td><td>-0.06620151  </td><td>0.11981120   </td></tr>\n",
       "\t<tr><td>[0.21,0.43]  </td><td>531          </td><td>0.08850000   </td><td>-0.46001906  </td><td>0.13629240   </td></tr>\n",
       "\t<tr><td>[0.51,1.03]  </td><td>670          </td><td>0.11166667   </td><td>-0.70778852  </td><td>0.18199101   </td></tr>\n",
       "\t<tr><td>[1.11,1.48]  </td><td>622          </td><td>0.10366667   </td><td>-0.71438731  </td><td>0.22512332   </td></tr>\n",
       "\t<tr><td>[1.56,2.01]  </td><td>631          </td><td>0.10516667   </td><td>-0.83070481  </td><td>0.28220782   </td></tr>\n",
       "</tbody>\n",
       "</table>\n",
       "</dd>\n",
       "\t<dt>$Gearing_coefficient</dt>\n",
       "\t\t<dd><table>\n",
       "<thead><tr><th scope=col>Gearing_coefficient</th><th scope=col>N</th><th scope=col>Percent</th><th scope=col>WOE</th><th scope=col>IV</th></tr></thead>\n",
       "<tbody>\n",
       "\t<tr><td>[-2.81,-1.4] </td><td>599          </td><td>0.09983333   </td><td>-0.10154315  </td><td>0.001002248  </td></tr>\n",
       "\t<tr><td>[-1.4,-0.82] </td><td>600          </td><td>0.10000000   </td><td> 0.03513342  </td><td>0.001126800  </td></tr>\n",
       "\t<tr><td>[-0.82,-0.41]</td><td>600          </td><td>0.10000000   </td><td>-0.07509167  </td><td>0.001679698  </td></tr>\n",
       "\t<tr><td>[-0.41,0.01] </td><td>599          </td><td>0.09983333   </td><td>-0.05409810  </td><td>0.001967777  </td></tr>\n",
       "\t<tr><td>[0.01,0.42]  </td><td>599          </td><td>0.09983333   </td><td>-0.16017338  </td><td>0.004422308  </td></tr>\n",
       "\t<tr><td>[0.42,0.71]  </td><td>602          </td><td>0.10033333   </td><td> 0.03960757  </td><td>0.004581312  </td></tr>\n",
       "\t<tr><td>[0.71,0.9]   </td><td>599          </td><td>0.09983333   </td><td>-0.19023913  </td><td>0.008015364  </td></tr>\n",
       "\t<tr><td>[0.9,1.02]   </td><td>600          </td><td>0.10000000   </td><td> 0.16487864  </td><td>0.010848022  </td></tr>\n",
       "\t<tr><td>[1.02,1.09]  </td><td>600          </td><td>0.10000000   </td><td> 0.11393961  </td><td>0.012184102  </td></tr>\n",
       "\t<tr><td>[1.09,1.4]   </td><td>602          </td><td>0.10033333   </td><td> 0.18530224  </td><td>0.015791497  </td></tr>\n",
       "</tbody>\n",
       "</table>\n",
       "</dd>\n",
       "\t<dt>$Max_gearing_ratio</dt>\n",
       "\t\t<dd><table>\n",
       "<thead><tr><th scope=col>Max_gearing_ratio</th><th scope=col>N</th><th scope=col>Percent</th><th scope=col>WOE</th><th scope=col>IV</th></tr></thead>\n",
       "<tbody>\n",
       "\t<tr><td>[-0.77,-0.77]</td><td>3442         </td><td>0.5736667    </td><td>-0.02133544  </td><td>0.0002596934 </td></tr>\n",
       "\t<tr><td>[0.51,0.51]  </td><td>1367         </td><td>0.2278333    </td><td> 0.11402759  </td><td>0.0033084973 </td></tr>\n",
       "\t<tr><td>[1.8,1.8]    </td><td>1191         </td><td>0.1985000    </td><td>-0.07482960  </td><td>0.0043984276 </td></tr>\n",
       "</tbody>\n",
       "</table>\n",
       "</dd>\n",
       "</dl>\n"
      ],
      "text/latex": [
       "\\begin{description}\n",
       "\\item[\\$V1] \\begin{tabular}{r|lllll}\n",
       " V1 & N & Percent & WOE & IV\\\\\n",
       "\\hline\n",
       "\t {[}-0.8,-0.8{]} & 3448            & 0.57466667      & -0.3094677      & 0.05059094     \\\\\n",
       "\t {[}0.11,0.11{]} &  301            & 0.05016667      & -0.2899640      & 0.05448977     \\\\\n",
       "\t {[}1.03,2.86{]} & 2251            & 0.37516667      &  0.4267638      & 0.12999419     \\\\\n",
       "\\end{tabular}\n",
       "\n",
       "\\item[\\$V2] \\begin{tabular}{r|lllll}\n",
       " V2 & N & Percent & WOE & IV\\\\\n",
       "\\hline\n",
       "\t {[}-2.06,-1.24{]} &  801              & 0.1335000         & -0.5739456        & 0.03741186       \\\\\n",
       "\t {[}-0.41,-0.41{]} & 2305              & 0.3841667         &  0.1251294        & 0.04361932       \\\\\n",
       "\t {[}0.42,0.42{]}   & 1365              & 0.2275000         & -0.3281973        & 0.06602496       \\\\\n",
       "\t {[}1.24,2.07{]}   & 1529              & 0.2548333         &  0.3056131        & 0.09164880       \\\\\n",
       "\\end{tabular}\n",
       "\n",
       "\\item[\\$V3] \\begin{tabular}{r|lllll}\n",
       " V3 & N & Percent & WOE & IV\\\\\n",
       "\\hline\n",
       "\t {[}-2.16,-2.16{]} &  114              & 0.01900000        & -0.28809167       & 0.001458397      \\\\\n",
       "\t {[}-1.89,-1.35{]} & 1032              & 0.17200000        &  0.17907845       & 0.007225502      \\\\\n",
       "\t {[}-1.09,-0.01{]} &  449              & 0.07483333        & -0.48020648       & 0.022321460      \\\\\n",
       "\t {[}0.26,0.26{]}   & 1596              & 0.26600000        &  0.35200891       & 0.058169994      \\\\\n",
       "\t {[}0.53,0.53{]}   & 2009              & 0.33483333        & -0.30965372       & 0.087681021      \\\\\n",
       "\t {[}0.79,1.6{]}    &  800              & 0.13333333        & -0.01689038       & 0.087718893      \\\\\n",
       "\\end{tabular}\n",
       "\n",
       "\\item[\\$V4] \\begin{tabular}{r|lllll}\n",
       " V4 & N & Percent & WOE & IV\\\\\n",
       "\\hline\n",
       "\t {[}-1.7,-1.7{]}   &  819              & 0.13650000        & -0.1821974        & 0.004316278      \\\\\n",
       "\t {[}-0.97,-0.97{]} & 1193              & 0.19883333        &  0.1089357        & 0.006741644      \\\\\n",
       "\t {[}-0.23,-0.23{]} &  571              & 0.09516667        &  0.1376109        & 0.008607125      \\\\\n",
       "\t {[}0.5,0.5{]}     & 2155              & 0.35916667        &  0.2964612        & 0.042521678      \\\\\n",
       "\t {[}1.24,1.97{]}   & 1262              & 0.21033333        & -0.7447802        & 0.136757390      \\\\\n",
       "\\end{tabular}\n",
       "\n",
       "\\item[\\$V5] \\begin{tabular}{r|lllll}\n",
       " V5 & N & Percent & WOE & IV\\\\\n",
       "\\hline\n",
       "\t {[}-1.46,-1.46{]} &  569              & 0.09483333        &  0.725459007      & 0.05829314       \\\\\n",
       "\t {[}-0.97,-0.97{]} & 1327              & 0.22116667        &  0.594271419      & 0.14747286       \\\\\n",
       "\t {[}-0.48,-0.48{]} & 1018              & 0.16966667        &  0.009692686      & 0.14748884       \\\\\n",
       "\t {[}0.01,0.01{]}   &  850              & 0.14166667        & -0.200091661      & 0.15286505       \\\\\n",
       "\t {[}0.5,0.99{]}    & 1019              & 0.16983333        & -0.567904229      & 0.19954676       \\\\\n",
       "\t {[}1.48,1.48{]}   & 1217              & 0.20283333        & -0.752576956      & 0.29211296       \\\\\n",
       "\\end{tabular}\n",
       "\n",
       "\\item[\\$V6] \\begin{tabular}{r|lllll}\n",
       " V6 & N & Percent & WOE & IV\\\\\n",
       "\\hline\n",
       "\t {[}-2.81,-1.36{]} &  517              & 0.08616667        & -0.60031485       & 0.02620837       \\\\\n",
       "\t {[}-0.63,-0.63{]} & 1908              & 0.31800000        & -0.05927545       & 0.02730853       \\\\\n",
       "\t {[}0.1,0.82{]}    & 2326              & 0.38766667        &  0.45466192       & 0.11637106       \\\\\n",
       "\t {[}1.55,1.55{]}   & 1249              & 0.20816667        & -0.81151641       & 0.22484608       \\\\\n",
       "\\end{tabular}\n",
       "\n",
       "\\item[\\$V7] \\begin{tabular}{r|lllll}\n",
       " V7 & N & Percent & WOE & IV\\\\\n",
       "\\hline\n",
       "\t {[}-0.79,0.25{]} & 3804             & 0.634            & -0.2367535       & 0.03334349      \\\\\n",
       "\t {[}1.3,1.3{]}    & 2196             & 0.366            &  0.3536672       & 0.08315267      \\\\\n",
       "\\end{tabular}\n",
       "\n",
       "\\item[\\$V8\\_woe] \\begin{tabular}{r|lllll}\n",
       " V8\\_woe & N & Percent & WOE & IV\\\\\n",
       "\\hline\n",
       "\t {[}-1.47,-1.47{]} & 2258              & 0.3763333         & -0.2959431        & 0.03041472       \\\\\n",
       "\t {[}-1.4,-1.4{]}   &  885              & 0.1475000         & -0.2156269        & 0.03688735       \\\\\n",
       "\t {[}-1.25,-1{]}    &  608              & 0.1013333         &  0.0352509        & 0.03701441       \\\\\n",
       "\t {[}-0.83,-0.83{]} & 2249              & 0.3748333         &  0.3191698        & 0.07824648       \\\\\n",
       "\\end{tabular}\n",
       "\n",
       "\\item[\\$Has\\_FICO\\_woe] \\begin{tabular}{r|lllll}\n",
       " Has\\_FICO\\_woe & N & Percent & WOE & IV\\\\\n",
       "\\hline\n",
       "\t {[}-1.27,-1.27{]} & 3327              & 0.5545            & -0.1194073        & 0.007660857      \\\\\n",
       "\t {[}-1.06,-1.06{]} & 2673              & 0.4455            &  0.1390734        & 0.016583442      \\\\\n",
       "\\end{tabular}\n",
       "\n",
       "\\item[\\$Business\\_channel\\_woe] \\begin{tabular}{r|lllll}\n",
       " Business\\_channel\\_woe & N & Percent & WOE & IV\\\\\n",
       "\\hline\n",
       "\t {[}-2.34,-2.34{]} &  536              & 0.08933333        & -1.0057800        & 0.06731044       \\\\\n",
       "\t {[}-1.35,-1.35{]} & 4150              & 0.69166667        & -0.2064055        & 0.09519298       \\\\\n",
       "\t {[}-0.41,-0.41{]} & 1314              & 0.21900000        &  0.7826517        & 0.25329634       \\\\\n",
       "\\end{tabular}\n",
       "\n",
       "\\item[\\$Days\\_late] \\begin{tabular}{r|lllll}\n",
       " Days\\_late & N & Percent & WOE & IV\\\\\n",
       "\\hline\n",
       "\t {[}-0.48,-0.48{]} & 3844              & 0.6406667         &  0.0000000        & 0.00000000       \\\\\n",
       "\t {[}-0.35,0.04{]}  &  818              & 0.1363333         & -0.6881555        & 0.05305802       \\\\\n",
       "\t {[}0.17,1.61{]}   &  690              & 0.1150000         &  0.0000000        & 0.05305802       \\\\\n",
       "\t {[}1.71,4.83{]}   &  648              & 0.1080000         &  0.0000000        & 0.05305802       \\\\\n",
       "\\end{tabular}\n",
       "\n",
       "\\item[\\$FICO\\_Score] \\begin{tabular}{r|lllll}\n",
       " FICO\\_Score & N & Percent & WOE & IV\\\\\n",
       "\\hline\n",
       "\t {[}-6.03,-1.07{]} &  589              & 0.09816667        &  1.19359926       & 0.1731215        \\\\\n",
       "\t {[}-1.06,-0.61{]} &  600              & 0.10000000        &  0.57451682       & 0.2106706        \\\\\n",
       "\t {[}-0.6,-0.09{]}  &  561              & 0.09350000        & -0.29110644       & 0.2179922        \\\\\n",
       "\t {[}-0.08,0.28{]}  & 3046              & 0.50766667        &  0.06407768       & 0.2201109        \\\\\n",
       "\t {[}0.29,0.99{]}   &  599              & 0.09983333        & -1.80002860       & 0.4080466        \\\\\n",
       "\t {[}1,2.47{]}      &  605              & 0.10083333        & -2.18272409       & 0.6566743        \\\\\n",
       "\\end{tabular}\n",
       "\n",
       "\\item[\\$Loan\\_amount] \\begin{tabular}{r|lllll}\n",
       " Loan\\_amount & N & Percent & WOE & IV\\\\\n",
       "\\hline\n",
       "\t {[}-1.12,-0.85{]} &  254              & 0.04233333        & -1.07219172       & 0.03550159       \\\\\n",
       "\t {[}-0.85,-0.68{]} &  744              & 0.12400000        & -0.14412837       & 0.03798090       \\\\\n",
       "\t {[}-0.68,-0.5{]}  &  722              & 0.12033333        & -0.10566209       & 0.03928750       \\\\\n",
       "\t {[}-0.5,-0.33{]}  &  555              & 0.09250000        &  0.05601836       & 0.03958195       \\\\\n",
       "\t {[}-0.32,-0.08{]} & 1322              & 0.22033333        &  0.07804544       & 0.04095091       \\\\\n",
       "\t {[}-0.06,0.19{]}  &  472              & 0.07866667        &  0.04404217       & 0.04110523       \\\\\n",
       "\t {[}0.2,0.54{]}    &  636              & 0.10600000        &  0.15026438       & 0.04359038       \\\\\n",
       "\t {[}0.56,1.14{]}   &  693              & 0.11550000        &  0.13252883       & 0.04568770       \\\\\n",
       "\t {[}1.17,5.84{]}   &  602              & 0.10033333        &  0.03960757       & 0.04584670       \\\\\n",
       "\\end{tabular}\n",
       "\n",
       "\\item[\\$Monthly\\_income] \\begin{tabular}{r|lllll}\n",
       " Monthly\\_income & N & Percent & WOE & IV\\\\\n",
       "\\hline\n",
       "\t {[}-0.98,-0.7{]}  & 599               & 0.09983333        & -0.34922767       & 0.01106576       \\\\\n",
       "\t {[}-0.7,-0.6{]}   & 595               & 0.09916667        & -0.08329726       & 0.01173895       \\\\\n",
       "\t {[}-0.6,-0.51{]}  & 562               & 0.09366667        &  0.06762817       & 0.01217479       \\\\\n",
       "\t {[}-0.51,-0.46{]} & 642               & 0.10700000        & -0.08920183       & 0.01300648       \\\\\n",
       "\t {[}-0.46,-0.36{]} & 599               & 0.09983333        &  0.13332886       & 0.01484162       \\\\\n",
       "\t {[}-0.36,-0.21{]} & 601               & 0.10016667        &  0.04182241       & 0.01501871       \\\\\n",
       "\t {[}-0.21,-0.05{]} & 598               & 0.09966667        &  0.14412562       & 0.01716516       \\\\\n",
       "\t {[}-0.04,0.2{]}   & 602               & 0.10033333        &  0.09219151       & 0.01803808       \\\\\n",
       "\t {[}0.2,0.69{]}    & 601               & 0.10016667        &  0.22869201       & 0.02357986       \\\\\n",
       "\t {[}0.69,21.27{]}  & 601               & 0.10016667        & -0.25616617       & 0.02971374       \\\\\n",
       "\\end{tabular}\n",
       "\n",
       "\\item[\\$Age] \\begin{tabular}{r|lllll}\n",
       " Age & N & Percent & WOE & IV\\\\\n",
       "\\hline\n",
       "\t {[}-1.59,-1.36{]} & 505               & 0.08416667        &  0.77008705       & 0.05871323       \\\\\n",
       "\t {[}-1.29,-1.14{]} & 533               & 0.08883333        &  0.40984202       & 0.07514373       \\\\\n",
       "\t {[}-1.06,-0.84{]} & 725               & 0.12083333        &  0.44536648       & 0.10173003       \\\\\n",
       "\t {[}-0.76,-0.54{]} & 537               & 0.08950000        &  0.32094246       & 0.11168870       \\\\\n",
       "\t {[}-0.47,-0.24{]} & 624               & 0.10400000        &  0.26309573       & 0.11936466       \\\\\n",
       "\t {[}-0.17,0.13{]}  & 622               & 0.10366667        & -0.06620151       & 0.11981120       \\\\\n",
       "\t {[}0.21,0.43{]}   & 531               & 0.08850000        & -0.46001906       & 0.13629240       \\\\\n",
       "\t {[}0.51,1.03{]}   & 670               & 0.11166667        & -0.70778852       & 0.18199101       \\\\\n",
       "\t {[}1.11,1.48{]}   & 622               & 0.10366667        & -0.71438731       & 0.22512332       \\\\\n",
       "\t {[}1.56,2.01{]}   & 631               & 0.10516667        & -0.83070481       & 0.28220782       \\\\\n",
       "\\end{tabular}\n",
       "\n",
       "\\item[\\$Gearing\\_coefficient] \\begin{tabular}{r|lllll}\n",
       " Gearing\\_coefficient & N & Percent & WOE & IV\\\\\n",
       "\\hline\n",
       "\t {[}-2.81,-1.4{]}  & 599               & 0.09983333        & -0.10154315       & 0.001002248      \\\\\n",
       "\t {[}-1.4,-0.82{]}  & 600               & 0.10000000        &  0.03513342       & 0.001126800      \\\\\n",
       "\t {[}-0.82,-0.41{]} & 600               & 0.10000000        & -0.07509167       & 0.001679698      \\\\\n",
       "\t {[}-0.41,0.01{]}  & 599               & 0.09983333        & -0.05409810       & 0.001967777      \\\\\n",
       "\t {[}0.01,0.42{]}   & 599               & 0.09983333        & -0.16017338       & 0.004422308      \\\\\n",
       "\t {[}0.42,0.71{]}   & 602               & 0.10033333        &  0.03960757       & 0.004581312      \\\\\n",
       "\t {[}0.71,0.9{]}    & 599               & 0.09983333        & -0.19023913       & 0.008015364      \\\\\n",
       "\t {[}0.9,1.02{]}    & 600               & 0.10000000        &  0.16487864       & 0.010848022      \\\\\n",
       "\t {[}1.02,1.09{]}   & 600               & 0.10000000        &  0.11393961       & 0.012184102      \\\\\n",
       "\t {[}1.09,1.4{]}    & 602               & 0.10033333        &  0.18530224       & 0.015791497      \\\\\n",
       "\\end{tabular}\n",
       "\n",
       "\\item[\\$Max\\_gearing\\_ratio] \\begin{tabular}{r|lllll}\n",
       " Max\\_gearing\\_ratio & N & Percent & WOE & IV\\\\\n",
       "\\hline\n",
       "\t {[}-0.77,-0.77{]} & 3442              & 0.5736667         & -0.02133544       & 0.0002596934     \\\\\n",
       "\t {[}0.51,0.51{]}   & 1367              & 0.2278333         &  0.11402759       & 0.0033084973     \\\\\n",
       "\t {[}1.8,1.8{]}     & 1191              & 0.1985000         & -0.07482960       & 0.0043984276     \\\\\n",
       "\\end{tabular}\n",
       "\n",
       "\\end{description}\n"
      ],
      "text/markdown": [
       "$V1\n",
       ":   \n",
       "| V1 | N | Percent | WOE | IV |\n",
       "|---|---|---|---|---|\n",
       "| [-0.8,-0.8] | 3448        | 0.57466667  | -0.3094677  | 0.05059094  |\n",
       "| [0.11,0.11] |  301        | 0.05016667  | -0.2899640  | 0.05448977  |\n",
       "| [1.03,2.86] | 2251        | 0.37516667  |  0.4267638  | 0.12999419  |\n",
       "\n",
       "\n",
       "$V2\n",
       ":   \n",
       "| V2 | N | Percent | WOE | IV |\n",
       "|---|---|---|---|---|\n",
       "| [-2.06,-1.24] |  801          | 0.1335000     | -0.5739456    | 0.03741186    |\n",
       "| [-0.41,-0.41] | 2305          | 0.3841667     |  0.1251294    | 0.04361932    |\n",
       "| [0.42,0.42]   | 1365          | 0.2275000     | -0.3281973    | 0.06602496    |\n",
       "| [1.24,2.07]   | 1529          | 0.2548333     |  0.3056131    | 0.09164880    |\n",
       "\n",
       "\n",
       "$V3\n",
       ":   \n",
       "| V3 | N | Percent | WOE | IV |\n",
       "|---|---|---|---|---|\n",
       "| [-2.16,-2.16] |  114          | 0.01900000    | -0.28809167   | 0.001458397   |\n",
       "| [-1.89,-1.35] | 1032          | 0.17200000    |  0.17907845   | 0.007225502   |\n",
       "| [-1.09,-0.01] |  449          | 0.07483333    | -0.48020648   | 0.022321460   |\n",
       "| [0.26,0.26]   | 1596          | 0.26600000    |  0.35200891   | 0.058169994   |\n",
       "| [0.53,0.53]   | 2009          | 0.33483333    | -0.30965372   | 0.087681021   |\n",
       "| [0.79,1.6]    |  800          | 0.13333333    | -0.01689038   | 0.087718893   |\n",
       "\n",
       "\n",
       "$V4\n",
       ":   \n",
       "| V4 | N | Percent | WOE | IV |\n",
       "|---|---|---|---|---|\n",
       "| [-1.7,-1.7]   |  819          | 0.13650000    | -0.1821974    | 0.004316278   |\n",
       "| [-0.97,-0.97] | 1193          | 0.19883333    |  0.1089357    | 0.006741644   |\n",
       "| [-0.23,-0.23] |  571          | 0.09516667    |  0.1376109    | 0.008607125   |\n",
       "| [0.5,0.5]     | 2155          | 0.35916667    |  0.2964612    | 0.042521678   |\n",
       "| [1.24,1.97]   | 1262          | 0.21033333    | -0.7447802    | 0.136757390   |\n",
       "\n",
       "\n",
       "$V5\n",
       ":   \n",
       "| V5 | N | Percent | WOE | IV |\n",
       "|---|---|---|---|---|\n",
       "| [-1.46,-1.46] |  569          | 0.09483333    |  0.725459007  | 0.05829314    |\n",
       "| [-0.97,-0.97] | 1327          | 0.22116667    |  0.594271419  | 0.14747286    |\n",
       "| [-0.48,-0.48] | 1018          | 0.16966667    |  0.009692686  | 0.14748884    |\n",
       "| [0.01,0.01]   |  850          | 0.14166667    | -0.200091661  | 0.15286505    |\n",
       "| [0.5,0.99]    | 1019          | 0.16983333    | -0.567904229  | 0.19954676    |\n",
       "| [1.48,1.48]   | 1217          | 0.20283333    | -0.752576956  | 0.29211296    |\n",
       "\n",
       "\n",
       "$V6\n",
       ":   \n",
       "| V6 | N | Percent | WOE | IV |\n",
       "|---|---|---|---|---|\n",
       "| [-2.81,-1.36] |  517          | 0.08616667    | -0.60031485   | 0.02620837    |\n",
       "| [-0.63,-0.63] | 1908          | 0.31800000    | -0.05927545   | 0.02730853    |\n",
       "| [0.1,0.82]    | 2326          | 0.38766667    |  0.45466192   | 0.11637106    |\n",
       "| [1.55,1.55]   | 1249          | 0.20816667    | -0.81151641   | 0.22484608    |\n",
       "\n",
       "\n",
       "$V7\n",
       ":   \n",
       "| V7 | N | Percent | WOE | IV |\n",
       "|---|---|---|---|---|\n",
       "| [-0.79,0.25] | 3804         | 0.634        | -0.2367535   | 0.03334349   |\n",
       "| [1.3,1.3]    | 2196         | 0.366        |  0.3536672   | 0.08315267   |\n",
       "\n",
       "\n",
       "$V8_woe\n",
       ":   \n",
       "| V8_woe | N | Percent | WOE | IV |\n",
       "|---|---|---|---|---|\n",
       "| [-1.47,-1.47] | 2258          | 0.3763333     | -0.2959431    | 0.03041472    |\n",
       "| [-1.4,-1.4]   |  885          | 0.1475000     | -0.2156269    | 0.03688735    |\n",
       "| [-1.25,-1]    |  608          | 0.1013333     |  0.0352509    | 0.03701441    |\n",
       "| [-0.83,-0.83] | 2249          | 0.3748333     |  0.3191698    | 0.07824648    |\n",
       "\n",
       "\n",
       "$Has_FICO_woe\n",
       ":   \n",
       "| Has_FICO_woe | N | Percent | WOE | IV |\n",
       "|---|---|---|---|---|\n",
       "| [-1.27,-1.27] | 3327          | 0.5545        | -0.1194073    | 0.007660857   |\n",
       "| [-1.06,-1.06] | 2673          | 0.4455        |  0.1390734    | 0.016583442   |\n",
       "\n",
       "\n",
       "$Business_channel_woe\n",
       ":   \n",
       "| Business_channel_woe | N | Percent | WOE | IV |\n",
       "|---|---|---|---|---|\n",
       "| [-2.34,-2.34] |  536          | 0.08933333    | -1.0057800    | 0.06731044    |\n",
       "| [-1.35,-1.35] | 4150          | 0.69166667    | -0.2064055    | 0.09519298    |\n",
       "| [-0.41,-0.41] | 1314          | 0.21900000    |  0.7826517    | 0.25329634    |\n",
       "\n",
       "\n",
       "$Days_late\n",
       ":   \n",
       "| Days_late | N | Percent | WOE | IV |\n",
       "|---|---|---|---|---|\n",
       "| [-0.48,-0.48] | 3844          | 0.6406667     |  0.0000000    | 0.00000000    |\n",
       "| [-0.35,0.04]  |  818          | 0.1363333     | -0.6881555    | 0.05305802    |\n",
       "| [0.17,1.61]   |  690          | 0.1150000     |  0.0000000    | 0.05305802    |\n",
       "| [1.71,4.83]   |  648          | 0.1080000     |  0.0000000    | 0.05305802    |\n",
       "\n",
       "\n",
       "$FICO_Score\n",
       ":   \n",
       "| FICO_Score | N | Percent | WOE | IV |\n",
       "|---|---|---|---|---|\n",
       "| [-6.03,-1.07] |  589          | 0.09816667    |  1.19359926   | 0.1731215     |\n",
       "| [-1.06,-0.61] |  600          | 0.10000000    |  0.57451682   | 0.2106706     |\n",
       "| [-0.6,-0.09]  |  561          | 0.09350000    | -0.29110644   | 0.2179922     |\n",
       "| [-0.08,0.28]  | 3046          | 0.50766667    |  0.06407768   | 0.2201109     |\n",
       "| [0.29,0.99]   |  599          | 0.09983333    | -1.80002860   | 0.4080466     |\n",
       "| [1,2.47]      |  605          | 0.10083333    | -2.18272409   | 0.6566743     |\n",
       "\n",
       "\n",
       "$Loan_amount\n",
       ":   \n",
       "| Loan_amount | N | Percent | WOE | IV |\n",
       "|---|---|---|---|---|\n",
       "| [-1.12,-0.85] |  254          | 0.04233333    | -1.07219172   | 0.03550159    |\n",
       "| [-0.85,-0.68] |  744          | 0.12400000    | -0.14412837   | 0.03798090    |\n",
       "| [-0.68,-0.5]  |  722          | 0.12033333    | -0.10566209   | 0.03928750    |\n",
       "| [-0.5,-0.33]  |  555          | 0.09250000    |  0.05601836   | 0.03958195    |\n",
       "| [-0.32,-0.08] | 1322          | 0.22033333    |  0.07804544   | 0.04095091    |\n",
       "| [-0.06,0.19]  |  472          | 0.07866667    |  0.04404217   | 0.04110523    |\n",
       "| [0.2,0.54]    |  636          | 0.10600000    |  0.15026438   | 0.04359038    |\n",
       "| [0.56,1.14]   |  693          | 0.11550000    |  0.13252883   | 0.04568770    |\n",
       "| [1.17,5.84]   |  602          | 0.10033333    |  0.03960757   | 0.04584670    |\n",
       "\n",
       "\n",
       "$Monthly_income\n",
       ":   \n",
       "| Monthly_income | N | Percent | WOE | IV |\n",
       "|---|---|---|---|---|\n",
       "| [-0.98,-0.7]  | 599           | 0.09983333    | -0.34922767   | 0.01106576    |\n",
       "| [-0.7,-0.6]   | 595           | 0.09916667    | -0.08329726   | 0.01173895    |\n",
       "| [-0.6,-0.51]  | 562           | 0.09366667    |  0.06762817   | 0.01217479    |\n",
       "| [-0.51,-0.46] | 642           | 0.10700000    | -0.08920183   | 0.01300648    |\n",
       "| [-0.46,-0.36] | 599           | 0.09983333    |  0.13332886   | 0.01484162    |\n",
       "| [-0.36,-0.21] | 601           | 0.10016667    |  0.04182241   | 0.01501871    |\n",
       "| [-0.21,-0.05] | 598           | 0.09966667    |  0.14412562   | 0.01716516    |\n",
       "| [-0.04,0.2]   | 602           | 0.10033333    |  0.09219151   | 0.01803808    |\n",
       "| [0.2,0.69]    | 601           | 0.10016667    |  0.22869201   | 0.02357986    |\n",
       "| [0.69,21.27]  | 601           | 0.10016667    | -0.25616617   | 0.02971374    |\n",
       "\n",
       "\n",
       "$Age\n",
       ":   \n",
       "| Age | N | Percent | WOE | IV |\n",
       "|---|---|---|---|---|\n",
       "| [-1.59,-1.36] | 505           | 0.08416667    |  0.77008705   | 0.05871323    |\n",
       "| [-1.29,-1.14] | 533           | 0.08883333    |  0.40984202   | 0.07514373    |\n",
       "| [-1.06,-0.84] | 725           | 0.12083333    |  0.44536648   | 0.10173003    |\n",
       "| [-0.76,-0.54] | 537           | 0.08950000    |  0.32094246   | 0.11168870    |\n",
       "| [-0.47,-0.24] | 624           | 0.10400000    |  0.26309573   | 0.11936466    |\n",
       "| [-0.17,0.13]  | 622           | 0.10366667    | -0.06620151   | 0.11981120    |\n",
       "| [0.21,0.43]   | 531           | 0.08850000    | -0.46001906   | 0.13629240    |\n",
       "| [0.51,1.03]   | 670           | 0.11166667    | -0.70778852   | 0.18199101    |\n",
       "| [1.11,1.48]   | 622           | 0.10366667    | -0.71438731   | 0.22512332    |\n",
       "| [1.56,2.01]   | 631           | 0.10516667    | -0.83070481   | 0.28220782    |\n",
       "\n",
       "\n",
       "$Gearing_coefficient\n",
       ":   \n",
       "| Gearing_coefficient | N | Percent | WOE | IV |\n",
       "|---|---|---|---|---|\n",
       "| [-2.81,-1.4]  | 599           | 0.09983333    | -0.10154315   | 0.001002248   |\n",
       "| [-1.4,-0.82]  | 600           | 0.10000000    |  0.03513342   | 0.001126800   |\n",
       "| [-0.82,-0.41] | 600           | 0.10000000    | -0.07509167   | 0.001679698   |\n",
       "| [-0.41,0.01]  | 599           | 0.09983333    | -0.05409810   | 0.001967777   |\n",
       "| [0.01,0.42]   | 599           | 0.09983333    | -0.16017338   | 0.004422308   |\n",
       "| [0.42,0.71]   | 602           | 0.10033333    |  0.03960757   | 0.004581312   |\n",
       "| [0.71,0.9]    | 599           | 0.09983333    | -0.19023913   | 0.008015364   |\n",
       "| [0.9,1.02]    | 600           | 0.10000000    |  0.16487864   | 0.010848022   |\n",
       "| [1.02,1.09]   | 600           | 0.10000000    |  0.11393961   | 0.012184102   |\n",
       "| [1.09,1.4]    | 602           | 0.10033333    |  0.18530224   | 0.015791497   |\n",
       "\n",
       "\n",
       "$Max_gearing_ratio\n",
       ":   \n",
       "| Max_gearing_ratio | N | Percent | WOE | IV |\n",
       "|---|---|---|---|---|\n",
       "| [-0.77,-0.77] | 3442          | 0.5736667     | -0.02133544   | 0.0002596934  |\n",
       "| [0.51,0.51]   | 1367          | 0.2278333     |  0.11402759   | 0.0033084973  |\n",
       "| [1.8,1.8]     | 1191          | 0.1985000     | -0.07482960   | 0.0043984276  |\n",
       "\n",
       "\n",
       "\n",
       "\n"
      ],
      "text/plain": [
       "$V1\n",
       "           V1    N    Percent        WOE         IV\n",
       "1 [-0.8,-0.8] 3448 0.57466667 -0.3094677 0.05059094\n",
       "2 [0.11,0.11]  301 0.05016667 -0.2899640 0.05448977\n",
       "3 [1.03,2.86] 2251 0.37516667  0.4267638 0.12999419\n",
       "\n",
       "$V2\n",
       "             V2    N   Percent        WOE         IV\n",
       "1 [-2.06,-1.24]  801 0.1335000 -0.5739456 0.03741186\n",
       "2 [-0.41,-0.41] 2305 0.3841667  0.1251294 0.04361932\n",
       "3   [0.42,0.42] 1365 0.2275000 -0.3281973 0.06602496\n",
       "4   [1.24,2.07] 1529 0.2548333  0.3056131 0.09164880\n",
       "\n",
       "$V3\n",
       "             V3    N    Percent         WOE          IV\n",
       "1 [-2.16,-2.16]  114 0.01900000 -0.28809167 0.001458397\n",
       "2 [-1.89,-1.35] 1032 0.17200000  0.17907845 0.007225502\n",
       "3 [-1.09,-0.01]  449 0.07483333 -0.48020648 0.022321460\n",
       "4   [0.26,0.26] 1596 0.26600000  0.35200891 0.058169994\n",
       "5   [0.53,0.53] 2009 0.33483333 -0.30965372 0.087681021\n",
       "6    [0.79,1.6]  800 0.13333333 -0.01689038 0.087718893\n",
       "\n",
       "$V4\n",
       "             V4    N    Percent        WOE          IV\n",
       "1   [-1.7,-1.7]  819 0.13650000 -0.1821974 0.004316278\n",
       "2 [-0.97,-0.97] 1193 0.19883333  0.1089357 0.006741644\n",
       "3 [-0.23,-0.23]  571 0.09516667  0.1376109 0.008607125\n",
       "4     [0.5,0.5] 2155 0.35916667  0.2964612 0.042521678\n",
       "5   [1.24,1.97] 1262 0.21033333 -0.7447802 0.136757390\n",
       "\n",
       "$V5\n",
       "             V5    N    Percent          WOE         IV\n",
       "1 [-1.46,-1.46]  569 0.09483333  0.725459007 0.05829314\n",
       "2 [-0.97,-0.97] 1327 0.22116667  0.594271419 0.14747286\n",
       "3 [-0.48,-0.48] 1018 0.16966667  0.009692686 0.14748884\n",
       "4   [0.01,0.01]  850 0.14166667 -0.200091661 0.15286505\n",
       "5    [0.5,0.99] 1019 0.16983333 -0.567904229 0.19954676\n",
       "6   [1.48,1.48] 1217 0.20283333 -0.752576956 0.29211296\n",
       "\n",
       "$V6\n",
       "             V6    N    Percent         WOE         IV\n",
       "1 [-2.81,-1.36]  517 0.08616667 -0.60031485 0.02620837\n",
       "2 [-0.63,-0.63] 1908 0.31800000 -0.05927545 0.02730853\n",
       "3    [0.1,0.82] 2326 0.38766667  0.45466192 0.11637106\n",
       "4   [1.55,1.55] 1249 0.20816667 -0.81151641 0.22484608\n",
       "\n",
       "$V7\n",
       "            V7    N Percent        WOE         IV\n",
       "1 [-0.79,0.25] 3804   0.634 -0.2367535 0.03334349\n",
       "2    [1.3,1.3] 2196   0.366  0.3536672 0.08315267\n",
       "\n",
       "$V8_woe\n",
       "         V8_woe    N   Percent        WOE         IV\n",
       "1 [-1.47,-1.47] 2258 0.3763333 -0.2959431 0.03041472\n",
       "2   [-1.4,-1.4]  885 0.1475000 -0.2156269 0.03688735\n",
       "3    [-1.25,-1]  608 0.1013333  0.0352509 0.03701441\n",
       "4 [-0.83,-0.83] 2249 0.3748333  0.3191698 0.07824648\n",
       "\n",
       "$Has_FICO_woe\n",
       "   Has_FICO_woe    N Percent        WOE          IV\n",
       "1 [-1.27,-1.27] 3327  0.5545 -0.1194073 0.007660857\n",
       "2 [-1.06,-1.06] 2673  0.4455  0.1390734 0.016583442\n",
       "\n",
       "$Business_channel_woe\n",
       "  Business_channel_woe    N    Percent        WOE         IV\n",
       "1        [-2.34,-2.34]  536 0.08933333 -1.0057800 0.06731044\n",
       "2        [-1.35,-1.35] 4150 0.69166667 -0.2064055 0.09519298\n",
       "3        [-0.41,-0.41] 1314 0.21900000  0.7826517 0.25329634\n",
       "\n",
       "$Days_late\n",
       "      Days_late    N   Percent        WOE         IV\n",
       "1 [-0.48,-0.48] 3844 0.6406667  0.0000000 0.00000000\n",
       "2  [-0.35,0.04]  818 0.1363333 -0.6881555 0.05305802\n",
       "3   [0.17,1.61]  690 0.1150000  0.0000000 0.05305802\n",
       "4   [1.71,4.83]  648 0.1080000  0.0000000 0.05305802\n",
       "\n",
       "$FICO_Score\n",
       "     FICO_Score    N    Percent         WOE        IV\n",
       "1 [-6.03,-1.07]  589 0.09816667  1.19359926 0.1731215\n",
       "2 [-1.06,-0.61]  600 0.10000000  0.57451682 0.2106706\n",
       "3  [-0.6,-0.09]  561 0.09350000 -0.29110644 0.2179922\n",
       "4  [-0.08,0.28] 3046 0.50766667  0.06407768 0.2201109\n",
       "5   [0.29,0.99]  599 0.09983333 -1.80002860 0.4080466\n",
       "6      [1,2.47]  605 0.10083333 -2.18272409 0.6566743\n",
       "\n",
       "$Loan_amount\n",
       "    Loan_amount    N    Percent         WOE         IV\n",
       "1 [-1.12,-0.85]  254 0.04233333 -1.07219172 0.03550159\n",
       "2 [-0.85,-0.68]  744 0.12400000 -0.14412837 0.03798090\n",
       "3  [-0.68,-0.5]  722 0.12033333 -0.10566209 0.03928750\n",
       "4  [-0.5,-0.33]  555 0.09250000  0.05601836 0.03958195\n",
       "5 [-0.32,-0.08] 1322 0.22033333  0.07804544 0.04095091\n",
       "6  [-0.06,0.19]  472 0.07866667  0.04404217 0.04110523\n",
       "7    [0.2,0.54]  636 0.10600000  0.15026438 0.04359038\n",
       "8   [0.56,1.14]  693 0.11550000  0.13252883 0.04568770\n",
       "9   [1.17,5.84]  602 0.10033333  0.03960757 0.04584670\n",
       "\n",
       "$Monthly_income\n",
       "   Monthly_income   N    Percent         WOE         IV\n",
       "1    [-0.98,-0.7] 599 0.09983333 -0.34922767 0.01106576\n",
       "2     [-0.7,-0.6] 595 0.09916667 -0.08329726 0.01173895\n",
       "3    [-0.6,-0.51] 562 0.09366667  0.06762817 0.01217479\n",
       "4   [-0.51,-0.46] 642 0.10700000 -0.08920183 0.01300648\n",
       "5   [-0.46,-0.36] 599 0.09983333  0.13332886 0.01484162\n",
       "6   [-0.36,-0.21] 601 0.10016667  0.04182241 0.01501871\n",
       "7   [-0.21,-0.05] 598 0.09966667  0.14412562 0.01716516\n",
       "8     [-0.04,0.2] 602 0.10033333  0.09219151 0.01803808\n",
       "9      [0.2,0.69] 601 0.10016667  0.22869201 0.02357986\n",
       "10   [0.69,21.27] 601 0.10016667 -0.25616617 0.02971374\n",
       "\n",
       "$Age\n",
       "             Age   N    Percent         WOE         IV\n",
       "1  [-1.59,-1.36] 505 0.08416667  0.77008705 0.05871323\n",
       "2  [-1.29,-1.14] 533 0.08883333  0.40984202 0.07514373\n",
       "3  [-1.06,-0.84] 725 0.12083333  0.44536648 0.10173003\n",
       "4  [-0.76,-0.54] 537 0.08950000  0.32094246 0.11168870\n",
       "5  [-0.47,-0.24] 624 0.10400000  0.26309573 0.11936466\n",
       "6   [-0.17,0.13] 622 0.10366667 -0.06620151 0.11981120\n",
       "7    [0.21,0.43] 531 0.08850000 -0.46001906 0.13629240\n",
       "8    [0.51,1.03] 670 0.11166667 -0.70778852 0.18199101\n",
       "9    [1.11,1.48] 622 0.10366667 -0.71438731 0.22512332\n",
       "10   [1.56,2.01] 631 0.10516667 -0.83070481 0.28220782\n",
       "\n",
       "$Gearing_coefficient\n",
       "   Gearing_coefficient   N    Percent         WOE          IV\n",
       "1         [-2.81,-1.4] 599 0.09983333 -0.10154315 0.001002248\n",
       "2         [-1.4,-0.82] 600 0.10000000  0.03513342 0.001126800\n",
       "3        [-0.82,-0.41] 600 0.10000000 -0.07509167 0.001679698\n",
       "4         [-0.41,0.01] 599 0.09983333 -0.05409810 0.001967777\n",
       "5          [0.01,0.42] 599 0.09983333 -0.16017338 0.004422308\n",
       "6          [0.42,0.71] 602 0.10033333  0.03960757 0.004581312\n",
       "7           [0.71,0.9] 599 0.09983333 -0.19023913 0.008015364\n",
       "8           [0.9,1.02] 600 0.10000000  0.16487864 0.010848022\n",
       "9          [1.02,1.09] 600 0.10000000  0.11393961 0.012184102\n",
       "10          [1.09,1.4] 602 0.10033333  0.18530224 0.015791497\n",
       "\n",
       "$Max_gearing_ratio\n",
       "  Max_gearing_ratio    N   Percent         WOE           IV\n",
       "1     [-0.77,-0.77] 3442 0.5736667 -0.02133544 0.0002596934\n",
       "2       [0.51,0.51] 1367 0.2278333  0.11402759 0.0033084973\n",
       "3         [1.8,1.8] 1191 0.1985000 -0.07482960 0.0043984276\n"
      ]
     },
     "metadata": {},
     "output_type": "display_data"
    }
   ],
   "source": [
    "IV$Summary$IV <- round(IV$Summary$IV*100,2)\n",
    "IV$Table"
   ]
  },
  {
   "cell_type": "markdown",
   "metadata": {},
   "source": [
    "From this table we can see the WOE and IV of every combination in each variable."
   ]
  },
  {
   "cell_type": "code",
   "execution_count": 39,
   "metadata": {},
   "outputs": [
    {
     "data": {
      "text/plain": [
       "\n",
       "\n",
       "|   |Variable             |    IV|\n",
       "|:--|:--------------------|-----:|\n",
       "|12 |FICO_Score           | 65.67|\n",
       "|5  |V5                   | 29.21|\n",
       "|15 |Age                  | 28.22|\n",
       "|10 |Business_channel_woe | 25.33|\n",
       "|6  |V6                   | 22.48|\n",
       "|4  |V4                   | 13.68|\n",
       "|1  |V1                   | 13.00|\n",
       "|2  |V2                   |  9.16|\n",
       "|3  |V3                   |  8.77|\n",
       "|7  |V7                   |  8.32|\n",
       "|8  |V8_woe               |  7.82|\n",
       "|11 |Days_late            |  5.31|\n",
       "|13 |Loan_amount          |  4.58|\n",
       "|14 |Monthly_income       |  2.97|\n",
       "|9  |Has_FICO_woe         |  1.66|\n",
       "|16 |Gearing_coefficient  |  1.58|\n",
       "|17 |Max_gearing_ratio    |  0.44|"
      ]
     },
     "metadata": {},
     "output_type": "display_data"
    }
   ],
   "source": [
    "kable(IV$Summary)"
   ]
  },
  {
   "cell_type": "code",
   "execution_count": 40,
   "metadata": {},
   "outputs": [
    {
     "data": {
      "image/png": "[encoded data removed]",
      "text/plain": [
       "plot without title"
      ]
     },
     "metadata": {},
     "output_type": "display_data"
    }
   ],
   "source": [
    "IV$Summary %>% arrange(IV) %>% \n",
    "  mutate(info_value = round(IV, 2), Variable = factor(Variable, levels = Variable)) %>% \n",
    "  ggplot(aes(Variable, IV)) + \n",
    "  geom_col(fill = \"#377eb8\") + \n",
    "  coord_flip() + \n",
    "  geom_text(aes(label = IV), hjust = -.1, size = 5, color = \"#377eb8\") + \n",
    "  theme(panel.grid.major.y = element_blank()) + \n",
    "  theme(plot.margin = unit(c(1, 1, 1, 1), \"cm\")) "
   ]
  },
  {
   "cell_type": "markdown",
   "metadata": {},
   "source": [
    "From the table above, it shows the ranking of predictive power of the variables.    \n",
    "\"FICO_Score\" has a very strong prediction power (IV > 50%), which is suspicious.   \n",
    "\"V5\", \"Age\", \"Business_channel_woe\", \"V6\", \"V4\" and \"V1\" have a medium prediction power (30% < IV < 50%).    \n",
    "\"V2\", \"V3\", \"V7\", \"V8_woe\",\"Days_late\", \"Loan_amount\" and \"Monthly_income\" have weak prediction power.   \n",
    "The variables with IV score lower than 2% have very weak prediction power: \"Has_FICO_woe\", \"Gearing_coefficient\" and \"Max_gearing_ratio\"."
   ]
  },
  {
   "cell_type": "code",
   "execution_count": 36,
   "metadata": {},
   "outputs": [
    {
     "data": {
      "image/png": "[encoded data removed]",
      "text/plain": [
       "plot without title"
      ]
     },
     "metadata": {},
     "output_type": "display_data"
    },
    {
     "data": {
      "image/png": "[encoded data removed]",
      "text/plain": [
       "plot without title"
      ]
     },
     "metadata": {},
     "output_type": "display_data"
    }
   ],
   "source": [
    "MultiPlot(IV, IV$Summary$Variable[1:17])"
   ]
  },
  {
   "cell_type": "markdown",
   "metadata": {},
   "source": [
    "We will keep the top 10 variables for modeling:"
   ]
  },
  {
   "cell_type": "code",
   "execution_count": 139,
   "metadata": {},
   "outputs": [],
   "source": [
    "predictors_selected <- c('ID', 'FICO_Score', 'V5', 'Age', 'Business_channel_woe', 'V6', 'V4', 'V1','V2','V3', 'V7')"
   ]
  },
  {
   "cell_type": "code",
   "execution_count": 62,
   "metadata": {},
   "outputs": [],
   "source": [
    "train_processed <- train[, c('ID', 'FICO_Score', 'V5', 'Age', 'Business_channel_woe', 'V6', 'V4', 'V1','V2','V3', 'V7','Default_45')]"
   ]
  },
  {
   "cell_type": "code",
   "execution_count": 63,
   "metadata": {},
   "outputs": [
    {
     "data": {
      "text/html": [
       "<table>\n",
       "<thead><tr><th scope=col>ID</th><th scope=col>FICO_Score</th><th scope=col>V5</th><th scope=col>Age</th><th scope=col>Business_channel_woe</th><th scope=col>V6</th><th scope=col>V4</th><th scope=col>V1</th><th scope=col>V2</th><th scope=col>V3</th><th scope=col>V7</th><th scope=col>Default_45</th></tr></thead>\n",
       "<tbody>\n",
       "\t<tr><td>250263     </td><td>-0.08325627</td><td> 0.99310611</td><td> 1.7810399 </td><td>-1.3490941 </td><td> 1.5461945 </td><td> 1.2366172 </td><td>-0.8043865 </td><td>-2.0644126 </td><td> 0.5260518 </td><td>-0.789633  </td><td>0          </td></tr>\n",
       "\t<tr><td>249516     </td><td>-0.08325627</td><td>-0.97091270</td><td> 0.9574122 </td><td>-1.3490941 </td><td>-0.6298075 </td><td> 0.5021967 </td><td> 1.0264693 </td><td>-0.4098381 </td><td> 0.2574662 </td><td>-0.789633  </td><td>1          </td></tr>\n",
       "\t<tr><td>249827     </td><td>-0.08325627</td><td> 0.01109671</td><td>-0.3903424 </td><td>-1.3490941 </td><td>-0.6298075 </td><td>-0.9666443 </td><td>-0.8043865 </td><td>-0.4098381 </td><td>-1.0854620 </td><td>-0.789633  </td><td>0          </td></tr>\n",
       "\t<tr><td>250375     </td><td>-0.08325627</td><td>-1.46191740</td><td> 1.4066637 </td><td>-1.3490941 </td><td> 1.5461945 </td><td> 1.2366172 </td><td> 0.1110414 </td><td> 1.2447364 </td><td> 0.5260518 </td><td>-0.789633  </td><td>1          </td></tr>\n",
       "\t<tr><td>250334     </td><td>-0.08325627</td><td>-0.47990799</td><td>-0.3154671 </td><td>-1.3490941 </td><td>-0.6298075 </td><td> 0.5021967 </td><td>-0.8043865 </td><td>-0.4098381 </td><td> 1.6003944 </td><td>-0.789633  </td><td>1          </td></tr>\n",
       "\t<tr><td>250033     </td><td>-0.08325627</td><td>-0.97091270</td><td>-1.4385959 </td><td>-0.4066313 </td><td>-0.6298075 </td><td> 0.5021967 </td><td> 1.0264693 </td><td>-0.4098381 </td><td>-1.6226333 </td><td> 1.296033  </td><td>0          </td></tr>\n",
       "</tbody>\n",
       "</table>\n"
      ],
      "text/latex": [
       "\\begin{tabular}{r|llllllllllll}\n",
       " ID & FICO\\_Score & V5 & Age & Business\\_channel\\_woe & V6 & V4 & V1 & V2 & V3 & V7 & Default\\_45\\\\\n",
       "\\hline\n",
       "\t 250263      & -0.08325627 &  0.99310611 &  1.7810399  & -1.3490941  &  1.5461945  &  1.2366172  & -0.8043865  & -2.0644126  &  0.5260518  & -0.789633   & 0          \\\\\n",
       "\t 249516      & -0.08325627 & -0.97091270 &  0.9574122  & -1.3490941  & -0.6298075  &  0.5021967  &  1.0264693  & -0.4098381  &  0.2574662  & -0.789633   & 1          \\\\\n",
       "\t 249827      & -0.08325627 &  0.01109671 & -0.3903424  & -1.3490941  & -0.6298075  & -0.9666443  & -0.8043865  & -0.4098381  & -1.0854620  & -0.789633   & 0          \\\\\n",
       "\t 250375      & -0.08325627 & -1.46191740 &  1.4066637  & -1.3490941  &  1.5461945  &  1.2366172  &  0.1110414  &  1.2447364  &  0.5260518  & -0.789633   & 1          \\\\\n",
       "\t 250334      & -0.08325627 & -0.47990799 & -0.3154671  & -1.3490941  & -0.6298075  &  0.5021967  & -0.8043865  & -0.4098381  &  1.6003944  & -0.789633   & 1          \\\\\n",
       "\t 250033      & -0.08325627 & -0.97091270 & -1.4385959  & -0.4066313  & -0.6298075  &  0.5021967  &  1.0264693  & -0.4098381  & -1.6226333  &  1.296033   & 0          \\\\\n",
       "\\end{tabular}\n"
      ],
      "text/markdown": [
       "\n",
       "| ID | FICO_Score | V5 | Age | Business_channel_woe | V6 | V4 | V1 | V2 | V3 | V7 | Default_45 |\n",
       "|---|---|---|---|---|---|---|---|---|---|---|---|\n",
       "| 250263      | -0.08325627 |  0.99310611 |  1.7810399  | -1.3490941  |  1.5461945  |  1.2366172  | -0.8043865  | -2.0644126  |  0.5260518  | -0.789633   | 0           |\n",
       "| 249516      | -0.08325627 | -0.97091270 |  0.9574122  | -1.3490941  | -0.6298075  |  0.5021967  |  1.0264693  | -0.4098381  |  0.2574662  | -0.789633   | 1           |\n",
       "| 249827      | -0.08325627 |  0.01109671 | -0.3903424  | -1.3490941  | -0.6298075  | -0.9666443  | -0.8043865  | -0.4098381  | -1.0854620  | -0.789633   | 0           |\n",
       "| 250375      | -0.08325627 | -1.46191740 |  1.4066637  | -1.3490941  |  1.5461945  |  1.2366172  |  0.1110414  |  1.2447364  |  0.5260518  | -0.789633   | 1           |\n",
       "| 250334      | -0.08325627 | -0.47990799 | -0.3154671  | -1.3490941  | -0.6298075  |  0.5021967  | -0.8043865  | -0.4098381  |  1.6003944  | -0.789633   | 1           |\n",
       "| 250033      | -0.08325627 | -0.97091270 | -1.4385959  | -0.4066313  | -0.6298075  |  0.5021967  |  1.0264693  | -0.4098381  | -1.6226333  |  1.296033   | 0           |\n",
       "\n"
      ],
      "text/plain": [
       "  ID     FICO_Score  V5          Age        Business_channel_woe V6        \n",
       "1 250263 -0.08325627  0.99310611  1.7810399 -1.3490941            1.5461945\n",
       "2 249516 -0.08325627 -0.97091270  0.9574122 -1.3490941           -0.6298075\n",
       "3 249827 -0.08325627  0.01109671 -0.3903424 -1.3490941           -0.6298075\n",
       "4 250375 -0.08325627 -1.46191740  1.4066637 -1.3490941            1.5461945\n",
       "5 250334 -0.08325627 -0.47990799 -0.3154671 -1.3490941           -0.6298075\n",
       "6 250033 -0.08325627 -0.97091270 -1.4385959 -0.4066313           -0.6298075\n",
       "  V4         V1         V2         V3         V7        Default_45\n",
       "1  1.2366172 -0.8043865 -2.0644126  0.5260518 -0.789633 0         \n",
       "2  0.5021967  1.0264693 -0.4098381  0.2574662 -0.789633 1         \n",
       "3 -0.9666443 -0.8043865 -0.4098381 -1.0854620 -0.789633 0         \n",
       "4  1.2366172  0.1110414  1.2447364  0.5260518 -0.789633 1         \n",
       "5  0.5021967 -0.8043865 -0.4098381  1.6003944 -0.789633 1         \n",
       "6  0.5021967  1.0264693 -0.4098381 -1.6226333  1.296033 0         "
      ]
     },
     "metadata": {},
     "output_type": "display_data"
    }
   ],
   "source": [
    "head(train_processed)"
   ]
  },
  {
   "cell_type": "code",
   "execution_count": 42,
   "metadata": {},
   "outputs": [],
   "source": [
    "test_processed <- test[ , c('ID', 'FICO_Score', 'V5', 'Age', 'Business_channel_woe', 'V6', 'V4', 'V1','V2','V3', 'V7','Default_45')]"
   ]
  },
  {
   "cell_type": "code",
   "execution_count": 40,
   "metadata": {},
   "outputs": [
    {
     "data": {
      "text/html": [
       "<table>\n",
       "<thead><tr><th scope=col>ID</th><th scope=col>FICO_Score</th><th scope=col>V5</th><th scope=col>Age</th><th scope=col>Business_channel_woe</th><th scope=col>V6</th><th scope=col>V4</th><th scope=col>V1</th><th scope=col>V2</th><th scope=col>V3</th><th scope=col>V7</th><th scope=col>Default_45</th></tr></thead>\n",
       "<tbody>\n",
       "\t<tr><td>250290     </td><td> 1.49818259</td><td> 0.50210141</td><td> 1.1071627 </td><td>-1.3490941 </td><td>-2.80580961</td><td> 0.5021967 </td><td>-0.8043865 </td><td>-1.2371253 </td><td>-0.8168764 </td><td>-0.789633  </td><td>0          </td></tr>\n",
       "\t<tr><td>250249     </td><td>-0.24173064</td><td> 1.48411081</td><td> 1.4066637 </td><td>-1.3490941 </td><td> 1.54619454</td><td> 1.2366172 </td><td> 0.1110414 </td><td>-0.4098381 </td><td> 0.5260518 </td><td>-0.789633  </td><td>0          </td></tr>\n",
       "\t<tr><td>250329     </td><td>-0.08325627</td><td> 0.50210141</td><td>-0.3903424 </td><td>-0.4066313 </td><td>-0.62980753</td><td>-0.9666443 </td><td>-0.8043865 </td><td>-0.4098381 </td><td> 0.5260518 </td><td> 1.296033  </td><td>0          </td></tr>\n",
       "\t<tr><td>250196     </td><td> 0.59094212</td><td> 1.48411081</td><td> 1.2569132 </td><td>-1.3490941 </td><td> 1.54619454</td><td> 1.2366172 </td><td> 0.1110414 </td><td> 0.4174491 </td><td> 0.5260518 </td><td> 1.296033  </td><td>0          </td></tr>\n",
       "\t<tr><td>250358     </td><td>-0.08325627</td><td>-0.47990799</td><td>-0.4652176 </td><td>-0.4066313 </td><td> 0.09552649</td><td>-0.2322238 </td><td>-0.8043865 </td><td>-0.4098381 </td><td> 0.7946375 </td><td>-0.789633  </td><td>0          </td></tr>\n",
       "\t<tr><td>250415     </td><td>-0.08325627</td><td> 0.01109671</td><td>-0.3154671 </td><td>-1.3490941 </td><td>-0.62980753</td><td>-1.7010648 </td><td> 1.0264693 </td><td>-0.4098381 </td><td> 1.3318087 </td><td> 1.296033  </td><td>0          </td></tr>\n",
       "</tbody>\n",
       "</table>\n"
      ],
      "text/latex": [
       "\\begin{tabular}{r|llllllllllll}\n",
       " ID & FICO\\_Score & V5 & Age & Business\\_channel\\_woe & V6 & V4 & V1 & V2 & V3 & V7 & Default\\_45\\\\\n",
       "\\hline\n",
       "\t 250290      &  1.49818259 &  0.50210141 &  1.1071627  & -1.3490941  & -2.80580961 &  0.5021967  & -0.8043865  & -1.2371253  & -0.8168764  & -0.789633   & 0          \\\\\n",
       "\t 250249      & -0.24173064 &  1.48411081 &  1.4066637  & -1.3490941  &  1.54619454 &  1.2366172  &  0.1110414  & -0.4098381  &  0.5260518  & -0.789633   & 0          \\\\\n",
       "\t 250329      & -0.08325627 &  0.50210141 & -0.3903424  & -0.4066313  & -0.62980753 & -0.9666443  & -0.8043865  & -0.4098381  &  0.5260518  &  1.296033   & 0          \\\\\n",
       "\t 250196      &  0.59094212 &  1.48411081 &  1.2569132  & -1.3490941  &  1.54619454 &  1.2366172  &  0.1110414  &  0.4174491  &  0.5260518  &  1.296033   & 0          \\\\\n",
       "\t 250358      & -0.08325627 & -0.47990799 & -0.4652176  & -0.4066313  &  0.09552649 & -0.2322238  & -0.8043865  & -0.4098381  &  0.7946375  & -0.789633   & 0          \\\\\n",
       "\t 250415      & -0.08325627 &  0.01109671 & -0.3154671  & -1.3490941  & -0.62980753 & -1.7010648  &  1.0264693  & -0.4098381  &  1.3318087  &  1.296033   & 0          \\\\\n",
       "\\end{tabular}\n"
      ],
      "text/markdown": [
       "\n",
       "| ID | FICO_Score | V5 | Age | Business_channel_woe | V6 | V4 | V1 | V2 | V3 | V7 | Default_45 |\n",
       "|---|---|---|---|---|---|---|---|---|---|---|---|\n",
       "| 250290      |  1.49818259 |  0.50210141 |  1.1071627  | -1.3490941  | -2.80580961 |  0.5021967  | -0.8043865  | -1.2371253  | -0.8168764  | -0.789633   | 0           |\n",
       "| 250249      | -0.24173064 |  1.48411081 |  1.4066637  | -1.3490941  |  1.54619454 |  1.2366172  |  0.1110414  | -0.4098381  |  0.5260518  | -0.789633   | 0           |\n",
       "| 250329      | -0.08325627 |  0.50210141 | -0.3903424  | -0.4066313  | -0.62980753 | -0.9666443  | -0.8043865  | -0.4098381  |  0.5260518  |  1.296033   | 0           |\n",
       "| 250196      |  0.59094212 |  1.48411081 |  1.2569132  | -1.3490941  |  1.54619454 |  1.2366172  |  0.1110414  |  0.4174491  |  0.5260518  |  1.296033   | 0           |\n",
       "| 250358      | -0.08325627 | -0.47990799 | -0.4652176  | -0.4066313  |  0.09552649 | -0.2322238  | -0.8043865  | -0.4098381  |  0.7946375  | -0.789633   | 0           |\n",
       "| 250415      | -0.08325627 |  0.01109671 | -0.3154671  | -1.3490941  | -0.62980753 | -1.7010648  |  1.0264693  | -0.4098381  |  1.3318087  |  1.296033   | 0           |\n",
       "\n"
      ],
      "text/plain": [
       "  ID     FICO_Score  V5          Age        Business_channel_woe V6         \n",
       "1 250290  1.49818259  0.50210141  1.1071627 -1.3490941           -2.80580961\n",
       "2 250249 -0.24173064  1.48411081  1.4066637 -1.3490941            1.54619454\n",
       "3 250329 -0.08325627  0.50210141 -0.3903424 -0.4066313           -0.62980753\n",
       "4 250196  0.59094212  1.48411081  1.2569132 -1.3490941            1.54619454\n",
       "5 250358 -0.08325627 -0.47990799 -0.4652176 -0.4066313            0.09552649\n",
       "6 250415 -0.08325627  0.01109671 -0.3154671 -1.3490941           -0.62980753\n",
       "  V4         V1         V2         V3         V7        Default_45\n",
       "1  0.5021967 -0.8043865 -1.2371253 -0.8168764 -0.789633 0         \n",
       "2  1.2366172  0.1110414 -0.4098381  0.5260518 -0.789633 0         \n",
       "3 -0.9666443 -0.8043865 -0.4098381  0.5260518  1.296033 0         \n",
       "4  1.2366172  0.1110414  0.4174491  0.5260518  1.296033 0         \n",
       "5 -0.2322238 -0.8043865 -0.4098381  0.7946375 -0.789633 0         \n",
       "6 -1.7010648  1.0264693 -0.4098381  1.3318087  1.296033 0         "
      ]
     },
     "metadata": {},
     "output_type": "display_data"
    }
   ],
   "source": [
    "head(test_processed)"
   ]
  },
  {
   "cell_type": "markdown",
   "metadata": {},
   "source": [
    "### 4. Model Fitting & Interpreting Results"
   ]
  },
  {
   "cell_type": "markdown",
   "metadata": {},
   "source": [
    "### 4.1 Logistic regression"
   ]
  },
  {
   "cell_type": "markdown",
   "metadata": {},
   "source": [
    "#### First, fit logistic regression will variables selected by IV information"
   ]
  },
  {
   "cell_type": "code",
   "execution_count": 43,
   "metadata": {},
   "outputs": [
    {
     "data": {
      "text/plain": [
       "\n",
       "Call:\n",
       "glm(formula = Default_45 ~ ., family = binomial, data = train_processed[, \n",
       "    -1])\n",
       "\n",
       "Deviance Residuals: \n",
       "    Min       1Q   Median       3Q      Max  \n",
       "-2.6530  -0.7418  -0.4907  -0.1425   3.1273  \n",
       "\n",
       "Coefficients:\n",
       "                     Estimate Std. Error z value Pr(>|z|)    \n",
       "(Intercept)          -0.33534    0.08733  -3.840 0.000123 ***\n",
       "FICO_Score           -0.78284    0.05513 -14.199  < 2e-16 ***\n",
       "V5                   -0.42688    0.04960  -8.606  < 2e-16 ***\n",
       "Age                  -0.24647    0.05115  -4.818 1.45e-06 ***\n",
       "Business_channel_woe  0.95690    0.07076  13.524  < 2e-16 ***\n",
       "V6                    0.26000    0.05272   4.932 8.14e-07 ***\n",
       "V4                    0.16999    0.04092   4.155 3.26e-05 ***\n",
       "V1                    0.15714    0.03419   4.596 4.31e-06 ***\n",
       "V2                    0.20829    0.03801   5.479 4.27e-08 ***\n",
       "V3                    0.03011    0.03327   0.905 0.365494    \n",
       "V7                    0.03424    0.03878   0.883 0.377180    \n",
       "---\n",
       "Signif. codes:  0 '***' 0.001 '**' 0.01 '*' 0.05 '.' 0.1 ' ' 1\n",
       "\n",
       "(Dispersion parameter for binomial family taken to be 1)\n",
       "\n",
       "    Null deviance: 6638.2  on 5999  degrees of freedom\n",
       "Residual deviance: 5623.9  on 5989  degrees of freedom\n",
       "AIC: 5645.9\n",
       "\n",
       "Number of Fisher Scoring iterations: 5\n"
      ]
     },
     "metadata": {},
     "output_type": "display_data"
    }
   ],
   "source": [
    "LR_IV <- glm(Default_45 ~ ., data = train_processed[, -1], family = binomial)\n",
    "summary(LR_IV)"
   ]
  },
  {
   "cell_type": "markdown",
   "metadata": {},
   "source": [
    "We can see all the variables selected by IV information above 0.9 are significant.     \n",
    "Then we will retrain the logistic regression model with the significant predictors."
   ]
  },
  {
   "cell_type": "code",
   "execution_count": 44,
   "metadata": {},
   "outputs": [
    {
     "data": {
      "text/plain": [
       "\n",
       "Call:\n",
       "glm(formula = Default_45 ~ FICO_Score + V5 + Age + Business_channel_woe + \n",
       "    V6 + V4 + V1 + V2, family = binomial, data = train_processed[, \n",
       "    -1])\n",
       "\n",
       "Deviance Residuals: \n",
       "    Min       1Q   Median       3Q      Max  \n",
       "-2.6442  -0.7425  -0.4901  -0.1436   3.1105  \n",
       "\n",
       "Coefficients:\n",
       "                     Estimate Std. Error z value Pr(>|z|)    \n",
       "(Intercept)          -0.34571    0.08647  -3.998 6.39e-05 ***\n",
       "FICO_Score           -0.78290    0.05512 -14.203  < 2e-16 ***\n",
       "V5                   -0.42587    0.04955  -8.596  < 2e-16 ***\n",
       "Age                  -0.26308    0.04768  -5.517 3.45e-08 ***\n",
       "Business_channel_woe  0.94769    0.06993  13.552  < 2e-16 ***\n",
       "V6                    0.26583    0.05249   5.064 4.10e-07 ***\n",
       "V4                    0.17349    0.04056   4.277 1.89e-05 ***\n",
       "V1                    0.16398    0.03333   4.920 8.67e-07 ***\n",
       "V2                    0.21009    0.03798   5.531 3.18e-08 ***\n",
       "---\n",
       "Signif. codes:  0 '***' 0.001 '**' 0.01 '*' 0.05 '.' 0.1 ' ' 1\n",
       "\n",
       "(Dispersion parameter for binomial family taken to be 1)\n",
       "\n",
       "    Null deviance: 6638.2  on 5999  degrees of freedom\n",
       "Residual deviance: 5625.5  on 5991  degrees of freedom\n",
       "AIC: 5643.5\n",
       "\n",
       "Number of Fisher Scoring iterations: 5\n"
      ]
     },
     "metadata": {},
     "output_type": "display_data"
    }
   ],
   "source": [
    "lr_2 <- glm(Default_45 ~ FICO_Score + V5 + Age + Business_channel_woe + V6 + V4 + V1 + V2, \n",
    "            data = train_processed[, -1], family = binomial)\n",
    "summary(lr_2)"
   ]
  },
  {
   "cell_type": "markdown",
   "metadata": {},
   "source": [
    "We can see the selected predictors are all siginificant. Then we can make prediction and measure its accuracy with ROC and auc."
   ]
  },
  {
   "cell_type": "code",
   "execution_count": 45,
   "metadata": {},
   "outputs": [],
   "source": [
    "# Make prediction on test data with the retrain lr model\n",
    "test_processed$lr_prob <- predict(lr_2,type='response',newdata= test_processed[, -1])\n",
    "lr_pred <- prediction(test_processed$lr_prob, test_processed$Default_45)\n",
    "lr_perf <- performance(lr_pred,\"tpr\",\"fpr\")"
   ]
  },
  {
   "cell_type": "code",
   "execution_count": 46,
   "metadata": {},
   "outputs": [
    {
     "name": "stderr",
     "output_type": "stream",
     "text": [
      "Setting levels: control = 0, case = 1\n",
      "Setting direction: controls < cases\n"
     ]
    },
    {
     "data": {
      "text/html": [
       "0.77685368206637"
      ],
      "text/latex": [
       "0.77685368206637"
      ],
      "text/markdown": [
       "0.77685368206637"
      ],
      "text/plain": [
       "Area under the curve: 0.7769"
      ]
     },
     "metadata": {},
     "output_type": "display_data"
    },
    {
     "data": {
      "image/png": "[encoded data removed]",
      "text/plain": [
       "plot without title"
      ]
     },
     "metadata": {},
     "output_type": "display_data"
    }
   ],
   "source": [
    "# plot ROC\n",
    "g <- roc(Default_45 ~ lr_prob, data = test_processed)\n",
    "plot(g)\n",
    "auc(g)"
   ]
  },
  {
   "cell_type": "markdown",
   "metadata": {},
   "source": [
    "### 4.2 Random Forest"
   ]
  },
  {
   "cell_type": "code",
   "execution_count": 44,
   "metadata": {},
   "outputs": [
    {
     "name": "stderr",
     "output_type": "stream",
     "text": [
      "Warning message in randomForest.default(m, y, ...):\n",
      "\"The response has five or fewer unique values.  Are you sure you want to do regression?\""
     ]
    },
    {
     "data": {
      "image/png": "[encoded data removed]",
      "text/plain": [
       "Plot with title \"Random Forest: Variable Importance\""
      ]
     },
     "metadata": {},
     "output_type": "display_data"
    }
   ],
   "source": [
    "rf <- randomForest(Default_45 ~ ., data = train_processed[, -1])\n",
    "\n",
    "fit_rf <- predict(rf, newdata = test_processed[, -1], type=\"response\")\n",
    "pred_rf <- prediction(fit_rf, test_processed$Default_45)\n",
    "rf_perf <- performance(pred_rf, \"tpr\", \"fpr\")\n",
    "\n",
    "#plot variable importance\n",
    "varImpPlot(rf, main=\"Random Forest: Variable Importance\")"
   ]
  },
  {
   "cell_type": "markdown",
   "metadata": {},
   "source": [
    "We can see predictor V3 become the 3rd important variable in the random forest model."
   ]
  },
  {
   "cell_type": "code",
   "execution_count": 79,
   "metadata": {},
   "outputs": [
    {
     "name": "stderr",
     "output_type": "stream",
     "text": [
      "Setting levels: control = 0, case = 1\n",
      "Setting direction: controls < cases\n"
     ]
    },
    {
     "data": {
      "text/html": [
       "0.757490603814676"
      ],
      "text/latex": [
       "0.757490603814676"
      ],
      "text/markdown": [
       "0.757490603814676"
      ],
      "text/plain": [
       "Area under the curve: 0.7575"
      ]
     },
     "metadata": {},
     "output_type": "display_data"
    },
    {
     "data": {
      "image/png": "[encoded data removed]",
      "text/plain": [
       "plot without title"
      ]
     },
     "metadata": {},
     "output_type": "display_data"
    }
   ],
   "source": [
    "test_processed$rf_prob <- fit_rf\n",
    "g <- roc(Default_45 ~ rf_prob, data = test_processed)\n",
    "plot(g)\n",
    "auc(g)"
   ]
  },
  {
   "cell_type": "markdown",
   "metadata": {},
   "source": [
    "### 4.3 Recursive partitioning for classification"
   ]
  },
  {
   "cell_type": "code",
   "execution_count": 88,
   "metadata": {},
   "outputs": [
    {
     "name": "stdout",
     "output_type": "stream",
     "text": [
      "\n",
      "Regression tree:\n",
      "rpart(formula = Default_45 ~ ., data = train_processed[, -1])\n",
      "\n",
      "Variables actually used in tree construction:\n",
      "[1] Age                  Business_channel_woe FICO_Score          \n",
      "[4] V5                  \n",
      "\n",
      "Root node error: 1100.1/6000 = 0.18335\n",
      "\n",
      "n= 6000 \n",
      "\n",
      "        CP nsplit rel error  xerror     xstd\n",
      "1 0.059554      0   1.00000 1.00023 0.015571\n",
      "2 0.034083      1   0.94045 0.94638 0.014450\n",
      "3 0.020840      2   0.90636 0.91600 0.014747\n",
      "4 0.014893      3   0.88552 0.89301 0.014743\n",
      "5 0.012391      4   0.87063 0.88634 0.014691\n",
      "6 0.010000      5   0.85824 0.87167 0.014742\n"
     ]
    }
   ],
   "source": [
    "rp <- rpart(Default_45 ~ ., data = train_processed[, -1])\n",
    "printcp(rp)"
   ]
  },
  {
   "cell_type": "markdown",
   "metadata": {},
   "source": [
    "We can see from the information about the method, only Age,  Business_channel_woe, FICO_Score and V5 used.   \n",
    "Then we can plot the tree:"
   ]
  },
  {
   "cell_type": "code",
   "execution_count": 92,
   "metadata": {},
   "outputs": [
    {
     "name": "stderr",
     "output_type": "stream",
     "text": [
      "Warning message:\n",
      "\"Bad 'data' field in model 'call' (expected a data.frame or a matrix).\n",
      "To silence this warning:\n",
      "    Call prp with roundint=FALSE,\n",
      "    or rebuild the rpart model with model=TRUE.\""
     ]
    },
    {
     "data": {
      "image/png": "[encoded data removed]",
      "text/plain": [
       "Plot with title \"Tree:Recursive Partitioning\""
      ]
     },
     "metadata": {},
     "output_type": "display_data"
    }
   ],
   "source": [
    "prp(rp, type=2, extra=1, main=\"Tree:Recursive Partitioning\")"
   ]
  },
  {
   "cell_type": "markdown",
   "metadata": {},
   "source": [
    "We can see from the graph that how the predictor work in this model."
   ]
  },
  {
   "cell_type": "code",
   "execution_count": 95,
   "metadata": {},
   "outputs": [],
   "source": [
    "# make prediction on test data and check the performance\n",
    "test_processed$rp_prob <- predict(rp, newdata = test_processed[, -1])\n",
    "rp_pred <- prediction(test_processed$rp_prob, test_processed$Default_45)\n",
    "rp_perf <- performance(rp_pred,\"tpr\",\"fpr\")"
   ]
  },
  {
   "cell_type": "code",
   "execution_count": 96,
   "metadata": {},
   "outputs": [
    {
     "name": "stderr",
     "output_type": "stream",
     "text": [
      "Setting levels: control = 0, case = 1\n",
      "Setting direction: controls < cases\n"
     ]
    },
    {
     "data": {
      "text/html": [
       "0.72993360490287"
      ],
      "text/latex": [
       "0.72993360490287"
      ],
      "text/markdown": [
       "0.72993360490287"
      ],
      "text/plain": [
       "Area under the curve: 0.7299"
      ]
     },
     "metadata": {},
     "output_type": "display_data"
    },
    {
     "data": {
      "image/png": "[encoded data removed]",
      "text/plain": [
       "plot without title"
      ]
     },
     "metadata": {},
     "output_type": "display_data"
    }
   ],
   "source": [
    "g <- roc(Default_45 ~ rp_prob, data = test_processed)\n",
    "plot(g)\n",
    "auc(g)"
   ]
  },
  {
   "cell_type": "code",
   "execution_count": 106,
   "metadata": {},
   "outputs": [
    {
     "data": {
      "image/png": "[encoded data removed]",
      "text/plain": [
       "Plot with title \"ROCs: Model Performance Comparision\""
      ]
     },
     "metadata": {},
     "output_type": "display_data"
    }
   ],
   "source": [
    " # logistic regression\n",
    "plot(lr_perf, col='blue', lty=1, main='ROCs: Model Performance Comparision')\n",
    "# random forest\n",
    "plot(rf_perf, col='red',lty=2, add=TRUE);\n",
    "# recursive partitioning\n",
    "plot(rp_perf, col='dark green',lty=3, add=TRUE);\n",
    "# legend\n",
    "legend(0.55,0.3,\n",
    "           c('Logistic Regression','Random Forest','Recursive Partitioning'),\n",
    "           col=c('blue','red', 'dark green'),\n",
    "           lwd=3);\n",
    "# random line\n",
    "lines(c(0,1),c(0,1),col = \"gray\", lty = 4 )"
   ]
  },
  {
   "cell_type": "markdown",
   "metadata": {},
   "source": [
    "We can see that among the 3 models, the ROC curve are pretty similar.    \n",
    "But still Logistic Regression got the best accuracy among the three models.   \n",
    "Then we will use the reult of Logistic Regression to make the application scorecard."
   ]
  },
  {
   "cell_type": "markdown",
   "metadata": {},
   "source": [
    "### 5.  Application Scorecard"
   ]
  },
  {
   "cell_type": "markdown",
   "metadata": {},
   "source": [
    "#### 5.1 Calculate scorecard scores for variables based on the results from woebin and glm"
   ]
  },
  {
   "cell_type": "code",
   "execution_count": 127,
   "metadata": {},
   "outputs": [
    {
     "name": "stdout",
     "output_type": "stream",
     "text": [
      "[INFO] creating woe binning ... \n",
      "[INFO] Binning on 6000 rows and 12 columns in 00:00:10 \n"
     ]
    },
    {
     "data": {
      "text/html": [
       "<dl>\n",
       "\t<dt>$basepoints</dt>\n",
       "\t\t<dd><table>\n",
       "<thead><tr><th scope=col>variable</th><th scope=col>bin</th><th scope=col>woe</th><th scope=col>points</th></tr></thead>\n",
       "<tbody>\n",
       "\t<tr><td>basepoints</td><td>NA        </td><td>NA        </td><td>525       </td></tr>\n",
       "</tbody>\n",
       "</table>\n",
       "</dd>\n",
       "\t<dt>$FICO_Score</dt>\n",
       "\t\t<dd><table>\n",
       "<thead><tr><th scope=col>variable</th><th scope=col>bin</th><th scope=col>count</th><th scope=col>count_distr</th><th scope=col>good</th><th scope=col>bad</th><th scope=col>badprob</th><th scope=col>woe</th><th scope=col>bin_iv</th><th scope=col>total_iv</th><th scope=col>breaks</th><th scope=col>is_special_values</th><th scope=col>points</th></tr></thead>\n",
       "<tbody>\n",
       "\t<tr><td>FICO_Score  </td><td>[-Inf,-0.7) </td><td>1065        </td><td>0.17750000  </td><td> 574        </td><td>491         </td><td>0.46103286  </td><td> 0.98646919 </td><td>0.209334424 </td><td>0.6706072   </td><td>-0.7        </td><td>FALSE       </td><td> 22         </td></tr>\n",
       "\t<tr><td>FICO_Score  </td><td>[-0.7,-0.05)</td><td>3400        </td><td>0.56666667  </td><td>2538        </td><td>862         </td><td>0.25352941  </td><td> 0.06277808 </td><td>0.002269317 </td><td>0.6706072   </td><td>-0.05       </td><td>FALSE       </td><td>  1         </td></tr>\n",
       "\t<tr><td>FICO_Score  </td><td>[-0.05,0.3) </td><td> 350        </td><td>0.05833333  </td><td> 300        </td><td> 50         </td><td>0.14285714  </td><td>-0.64910501 </td><td>0.020440035 </td><td>0.6706072   </td><td>0.3         </td><td>FALSE       </td><td>-15         </td></tr>\n",
       "\t<tr><td>FICO_Score  </td><td>[0.3, Inf)  </td><td>1185        </td><td>0.19750000  </td><td>1137        </td><td> 48         </td><td>0.04050633  </td><td>-2.02229303 </td><td>0.438563382 </td><td>0.6706072   </td><td>Inf         </td><td>FALSE       </td><td>-46         </td></tr>\n",
       "</tbody>\n",
       "</table>\n",
       "</dd>\n",
       "\t<dt>$V5</dt>\n",
       "\t\t<dd><table>\n",
       "<thead><tr><th scope=col>variable</th><th scope=col>bin</th><th scope=col>count</th><th scope=col>count_distr</th><th scope=col>good</th><th scope=col>bad</th><th scope=col>badprob</th><th scope=col>woe</th><th scope=col>bin_iv</th><th scope=col>total_iv</th><th scope=col>breaks</th><th scope=col>is_special_values</th><th scope=col>points</th></tr></thead>\n",
       "<tbody>\n",
       "\t<tr><td>V5                           </td><td>[-Inf,-0.4799079948)         </td><td>1896                         </td><td>0.3160000                    </td><td>1184                         </td><td>712                          </td><td>0.3755274                    </td><td> 0.634078551                 </td><td>1.461038e-01                 </td><td>0.2941808                    </td><td>-0.4799079948                </td><td>FALSE                        </td><td> 8                           </td></tr>\n",
       "\t<tr><td>V5                           </td><td>[-0.4799079948,0.01109670624)</td><td>1018                         </td><td>0.1696667                    </td><td> 770                         </td><td>248                          </td><td>0.2436149                    </td><td> 0.009692686                 </td><td>1.597973e-05                 </td><td>0.2941808                    </td><td>0.01109670624                </td><td>FALSE                        </td><td> 0                           </td></tr>\n",
       "\t<tr><td>V5                           </td><td>[0.01109670624,0.9931061083) </td><td>1351                         </td><td>0.2251667                    </td><td>1086                         </td><td>265                          </td><td>0.1961510                    </td><td>-0.267872220                 </td><td>1.502793e-02                 </td><td>0.2941808                    </td><td>0.9931061083                 </td><td>FALSE                        </td><td>-3                           </td></tr>\n",
       "\t<tr><td>V5                           </td><td>[0.9931061083, Inf)          </td><td>1735                         </td><td>0.2891667                    </td><td>1509                         </td><td>226                          </td><td>0.1302594                    </td><td>-0.756013005                 </td><td>1.330330e-01                 </td><td>0.2941808                    </td><td>Inf                          </td><td>FALSE                        </td><td>-9                           </td></tr>\n",
       "</tbody>\n",
       "</table>\n",
       "</dd>\n",
       "\t<dt>$Age</dt>\n",
       "\t\t<dd><table>\n",
       "<thead><tr><th scope=col>variable</th><th scope=col>bin</th><th scope=col>count</th><th scope=col>count_distr</th><th scope=col>good</th><th scope=col>bad</th><th scope=col>badprob</th><th scope=col>woe</th><th scope=col>bin_iv</th><th scope=col>total_iv</th><th scope=col>breaks</th><th scope=col>is_special_values</th><th scope=col>points</th></tr></thead>\n",
       "<tbody>\n",
       "\t<tr><td>Age       </td><td>[-Inf,-1) </td><td>1237      </td><td>0.2061667 </td><td> 775      </td><td>462       </td><td>0.3734842 </td><td> 0.6253563</td><td>0.09257399</td><td>0.2746375 </td><td>-1        </td><td>FALSE     </td><td> 5        </td></tr>\n",
       "\t<tr><td>Age       </td><td>[-1,0)    </td><td>2096      </td><td>0.3493333 </td><td>1486      </td><td>610       </td><td>0.2910305 </td><td> 0.2522702</td><td>0.02364643</td><td>0.2746375 </td><td>0         </td><td>FALSE     </td><td> 2        </td></tr>\n",
       "\t<tr><td>Age       </td><td>[0, Inf)  </td><td>2667      </td><td>0.4445000 </td><td>2288      </td><td>379       </td><td>0.1421072 </td><td>-0.6552427</td><td>0.15841705</td><td>0.2746375 </td><td>Inf       </td><td>FALSE     </td><td>-5        </td></tr>\n",
       "</tbody>\n",
       "</table>\n",
       "</dd>\n",
       "\t<dt>$Business_channel</dt>\n",
       "\t\t<dd><table>\n",
       "<thead><tr><th scope=col>variable</th><th scope=col>bin</th><th scope=col>count</th><th scope=col>count_distr</th><th scope=col>good</th><th scope=col>bad</th><th scope=col>badprob</th><th scope=col>woe</th><th scope=col>bin_iv</th><th scope=col>total_iv</th><th scope=col>breaks</th><th scope=col>is_special_values</th><th scope=col>points</th></tr></thead>\n",
       "<tbody>\n",
       "</tbody>\n",
       "</table>\n",
       "</dd>\n",
       "\t<dt>$V6</dt>\n",
       "\t\t<dd><table>\n",
       "<thead><tr><th scope=col>variable</th><th scope=col>bin</th><th scope=col>count</th><th scope=col>count_distr</th><th scope=col>good</th><th scope=col>bad</th><th scope=col>badprob</th><th scope=col>woe</th><th scope=col>bin_iv</th><th scope=col>total_iv</th><th scope=col>breaks</th><th scope=col>is_special_values</th><th scope=col>points</th></tr></thead>\n",
       "<tbody>\n",
       "\t<tr><td>V6                           </td><td>[-Inf,-0.6298075341)         </td><td> 517                         </td><td>0.08616667                   </td><td> 440                         </td><td> 77                          </td><td>0.1489362                    </td><td>-0.60031485                  </td><td>0.02620837                   </td><td>0.2248461                    </td><td>-0.6298075341                </td><td>FALSE                        </td><td> 5                           </td></tr>\n",
       "\t<tr><td>V6                           </td><td>[-0.6298075341,0.09552649112)</td><td>1908                         </td><td>0.31800000                   </td><td>1467                         </td><td>441                          </td><td>0.2311321                    </td><td>-0.05927545                  </td><td>0.00110016                   </td><td>0.2248461                    </td><td>0.09552649112                </td><td>FALSE                        </td><td> 0                           </td></tr>\n",
       "\t<tr><td>V6                           </td><td>[0.09552649112,1.546194541)  </td><td>2326                         </td><td>0.38766667                   </td><td>1548                         </td><td>778                          </td><td>0.3344798                    </td><td> 0.45466192                  </td><td>0.08906253                   </td><td>0.2248461                    </td><td>1.546194541                  </td><td>FALSE                        </td><td>-3                           </td></tr>\n",
       "\t<tr><td>V6                           </td><td>[1.546194541, Inf)           </td><td>1249                         </td><td>0.20816667                   </td><td>1094                         </td><td>155                          </td><td>0.1240993                    </td><td>-0.81151641                  </td><td>0.10847502                   </td><td>0.2248461                    </td><td>Inf                          </td><td>FALSE                        </td><td> 6                           </td></tr>\n",
       "</tbody>\n",
       "</table>\n",
       "</dd>\n",
       "\t<dt>$V4</dt>\n",
       "\t\t<dd><table>\n",
       "<thead><tr><th scope=col>variable</th><th scope=col>bin</th><th scope=col>count</th><th scope=col>count_distr</th><th scope=col>good</th><th scope=col>bad</th><th scope=col>badprob</th><th scope=col>woe</th><th scope=col>bin_iv</th><th scope=col>total_iv</th><th scope=col>breaks</th><th scope=col>is_special_values</th><th scope=col>points</th></tr></thead>\n",
       "<tbody>\n",
       "\t<tr><td>V4                         </td><td>[-Inf,-0.9666442565)       </td><td> 819                       </td><td>0.1365000                  </td><td> 647                       </td><td>172                        </td><td>0.2100122                  </td><td>-0.1821974                 </td><td>0.004316278                </td><td>0.1367027                  </td><td>-0.9666442565              </td><td>FALSE                      </td><td> 1                         </td></tr>\n",
       "\t<tr><td>V4                         </td><td>[-0.9666442565,0.502196735)</td><td>1764                       </td><td>0.2940000                  </td><td>1298                       </td><td>466                        </td><td>0.2641723                  </td><td> 0.1182602                 </td><td>0.004236126                </td><td>0.1367027                  </td><td>0.502196735                </td><td>FALSE                      </td><td>-1                         </td></tr>\n",
       "\t<tr><td>V4                         </td><td>[0.502196735,1.236617231)  </td><td>2155                       </td><td>0.3591667                  </td><td>1508                       </td><td>647                        </td><td>0.3002320                  </td><td> 0.2964612                 </td><td>0.033914554                </td><td>0.1367027                  </td><td>1.236617231                </td><td>FALSE                      </td><td>-1                         </td></tr>\n",
       "\t<tr><td>V4                         </td><td>[1.236617231, Inf)         </td><td>1262                       </td><td>0.2103333                  </td><td>1096                       </td><td>166                        </td><td>0.1315372                  </td><td>-0.7447802                 </td><td>0.094235711                </td><td>0.1367027                  </td><td>Inf                        </td><td>FALSE                      </td><td> 4                         </td></tr>\n",
       "</tbody>\n",
       "</table>\n",
       "</dd>\n",
       "\t<dt>$V1</dt>\n",
       "\t\t<dd><table>\n",
       "<thead><tr><th scope=col>variable</th><th scope=col>bin</th><th scope=col>count</th><th scope=col>count_distr</th><th scope=col>good</th><th scope=col>bad</th><th scope=col>badprob</th><th scope=col>woe</th><th scope=col>bin_iv</th><th scope=col>total_iv</th><th scope=col>breaks</th><th scope=col>is_special_values</th><th scope=col>points</th></tr></thead>\n",
       "<tbody>\n",
       "\t<tr><td>V1                       </td><td>[-Inf,1.026469325)       </td><td>3749                     </td><td>0.62483333               </td><td>3037                     </td><td>712                      </td><td>0.1899173                </td><td>-0.30789310              </td><td>0.054473428              </td><td>0.1427833                </td><td>1.026469325              </td><td>FALSE                    </td><td> 1                       </td></tr>\n",
       "\t<tr><td>V1                       </td><td>[1.026469325,1.941897243)</td><td>1734                     </td><td>0.28900000               </td><td>1129                     </td><td>605                      </td><td>0.3489043                </td><td> 0.51879535              </td><td>0.087555747              </td><td>0.1427833                </td><td>1.941897243              </td><td>FALSE                    </td><td>-2                       </td></tr>\n",
       "\t<tr><td>V1                       </td><td>[1.941897243, Inf)       </td><td> 517                     </td><td>0.08616667               </td><td> 383                     </td><td>134                      </td><td>0.2591876                </td><td> 0.09245927              </td><td>0.000754077              </td><td>0.1427833                </td><td>Inf                      </td><td>FALSE                    </td><td> 0                       </td></tr>\n",
       "</tbody>\n",
       "</table>\n",
       "</dd>\n",
       "\t<dt>$V2</dt>\n",
       "\t\t<dd><table>\n",
       "<thead><tr><th scope=col>variable</th><th scope=col>bin</th><th scope=col>count</th><th scope=col>count_distr</th><th scope=col>good</th><th scope=col>bad</th><th scope=col>badprob</th><th scope=col>woe</th><th scope=col>bin_iv</th><th scope=col>total_iv</th><th scope=col>breaks</th><th scope=col>is_special_values</th><th scope=col>points</th></tr></thead>\n",
       "<tbody>\n",
       "\t<tr><td>V2                          </td><td>[-Inf,-0.4098380943)        </td><td> 801                        </td><td>0.1335000                   </td><td> 679                        </td><td>122                         </td><td>0.1523096                   </td><td>-0.5739456                  </td><td>0.037411859                 </td><td>0.0916488                   </td><td>-0.4098380943               </td><td>FALSE                       </td><td> 3                          </td></tr>\n",
       "\t<tr><td>V2                          </td><td>[-0.4098380943,0.4174491369)</td><td>2305                        </td><td>0.3841667                   </td><td>1693                        </td><td>612                         </td><td>0.2655098                   </td><td> 0.1251294                  </td><td>0.006207464                 </td><td>0.0916488                   </td><td>0.4174491369                </td><td>FALSE                       </td><td>-1                          </td></tr>\n",
       "\t<tr><td>V2                          </td><td>[0.4174491369,1.244736368)  </td><td>1365                        </td><td>0.2275000                   </td><td>1110                        </td><td>255                         </td><td>0.1868132                   </td><td>-0.3281973                  </td><td>0.022405637                 </td><td>0.0916488                   </td><td>1.244736368                 </td><td>FALSE                       </td><td> 2                          </td></tr>\n",
       "\t<tr><td>V2                          </td><td>[1.244736368, Inf)          </td><td>1529                        </td><td>0.2548333                   </td><td>1067                        </td><td>462                         </td><td>0.3021583                   </td><td> 0.3056131                  </td><td>0.025623842                 </td><td>0.0916488                   </td><td>Inf                         </td><td>FALSE                       </td><td>-2                          </td></tr>\n",
       "</tbody>\n",
       "</table>\n",
       "</dd>\n",
       "</dl>\n"
      ],
      "text/latex": [
       "\\begin{description}\n",
       "\\item[\\$basepoints] \\begin{tabular}{r|llll}\n",
       " variable & bin & woe & points\\\\\n",
       "\\hline\n",
       "\t basepoints & NA         & NA         & 525       \\\\\n",
       "\\end{tabular}\n",
       "\n",
       "\\item[\\$FICO\\_Score] \\begin{tabular}{r|lllllllllllll}\n",
       " variable & bin & count & count\\_distr & good & bad & badprob & woe & bin\\_iv & total\\_iv & breaks & is\\_special\\_values & points\\\\\n",
       "\\hline\n",
       "\t FICO\\_Score   & {[}-Inf,-0.7)  & 1065           & 0.17750000     &  574           & 491            & 0.46103286     &  0.98646919    & 0.209334424    & 0.6706072      & -0.7           & FALSE          &  22           \\\\\n",
       "\t FICO\\_Score   & {[}-0.7,-0.05) & 3400           & 0.56666667     & 2538           & 862            & 0.25352941     &  0.06277808    & 0.002269317    & 0.6706072      & -0.05          & FALSE          &   1           \\\\\n",
       "\t FICO\\_Score   & {[}-0.05,0.3)  &  350           & 0.05833333     &  300           &  50            & 0.14285714     & -0.64910501    & 0.020440035    & 0.6706072      & 0.3            & FALSE          & -15           \\\\\n",
       "\t FICO\\_Score   & {[}0.3, Inf)   & 1185           & 0.19750000     & 1137           &  48            & 0.04050633     & -2.02229303    & 0.438563382    & 0.6706072      & Inf            & FALSE          & -46           \\\\\n",
       "\\end{tabular}\n",
       "\n",
       "\\item[\\$V5] \\begin{tabular}{r|lllllllllllll}\n",
       " variable & bin & count & count\\_distr & good & bad & badprob & woe & bin\\_iv & total\\_iv & breaks & is\\_special\\_values & points\\\\\n",
       "\\hline\n",
       "\t V5                              & {[}-Inf,-0.4799079948)          & 1896                            & 0.3160000                       & 1184                            & 712                             & 0.3755274                       &  0.634078551                    & 1.461038e-01                    & 0.2941808                       & -0.4799079948                   & FALSE                           &  8                             \\\\\n",
       "\t V5                              & {[}-0.4799079948,0.01109670624) & 1018                            & 0.1696667                       &  770                            & 248                             & 0.2436149                       &  0.009692686                    & 1.597973e-05                    & 0.2941808                       & 0.01109670624                   & FALSE                           &  0                             \\\\\n",
       "\t V5                              & {[}0.01109670624,0.9931061083)  & 1351                            & 0.2251667                       & 1086                            & 265                             & 0.1961510                       & -0.267872220                    & 1.502793e-02                    & 0.2941808                       & 0.9931061083                    & FALSE                           & -3                             \\\\\n",
       "\t V5                              & {[}0.9931061083, Inf)           & 1735                            & 0.2891667                       & 1509                            & 226                             & 0.1302594                       & -0.756013005                    & 1.330330e-01                    & 0.2941808                       & Inf                             & FALSE                           & -9                             \\\\\n",
       "\\end{tabular}\n",
       "\n",
       "\\item[\\$Age] \\begin{tabular}{r|lllllllllllll}\n",
       " variable & bin & count & count\\_distr & good & bad & badprob & woe & bin\\_iv & total\\_iv & breaks & is\\_special\\_values & points\\\\\n",
       "\\hline\n",
       "\t Age         & {[}-Inf,-1) & 1237        & 0.2061667   &  775        & 462         & 0.3734842   &  0.6253563  & 0.09257399  & 0.2746375   & -1          & FALSE       &  5         \\\\\n",
       "\t Age         & {[}-1,0)    & 2096        & 0.3493333   & 1486        & 610         & 0.2910305   &  0.2522702  & 0.02364643  & 0.2746375   & 0           & FALSE       &  2         \\\\\n",
       "\t Age         & {[}0, Inf)  & 2667        & 0.4445000   & 2288        & 379         & 0.1421072   & -0.6552427  & 0.15841705  & 0.2746375   & Inf         & FALSE       & -5         \\\\\n",
       "\\end{tabular}\n",
       "\n",
       "\\item[\\$Business\\_channel] \\begin{tabular}{r|lllllllllllll}\n",
       " variable & bin & count & count\\_distr & good & bad & badprob & woe & bin\\_iv & total\\_iv & breaks & is\\_special\\_values & points\\\\\n",
       "\\hline\n",
       "\\end{tabular}\n",
       "\n",
       "\\item[\\$V6] \\begin{tabular}{r|lllllllllllll}\n",
       " variable & bin & count & count\\_distr & good & bad & badprob & woe & bin\\_iv & total\\_iv & breaks & is\\_special\\_values & points\\\\\n",
       "\\hline\n",
       "\t V6                              & {[}-Inf,-0.6298075341)          &  517                            & 0.08616667                      &  440                            &  77                             & 0.1489362                       & -0.60031485                     & 0.02620837                      & 0.2248461                       & -0.6298075341                   & FALSE                           &  5                             \\\\\n",
       "\t V6                              & {[}-0.6298075341,0.09552649112) & 1908                            & 0.31800000                      & 1467                            & 441                             & 0.2311321                       & -0.05927545                     & 0.00110016                      & 0.2248461                       & 0.09552649112                   & FALSE                           &  0                             \\\\\n",
       "\t V6                              & {[}0.09552649112,1.546194541)   & 2326                            & 0.38766667                      & 1548                            & 778                             & 0.3344798                       &  0.45466192                     & 0.08906253                      & 0.2248461                       & 1.546194541                     & FALSE                           & -3                             \\\\\n",
       "\t V6                              & {[}1.546194541, Inf)            & 1249                            & 0.20816667                      & 1094                            & 155                             & 0.1240993                       & -0.81151641                     & 0.10847502                      & 0.2248461                       & Inf                             & FALSE                           &  6                             \\\\\n",
       "\\end{tabular}\n",
       "\n",
       "\\item[\\$V4] \\begin{tabular}{r|lllllllllllll}\n",
       " variable & bin & count & count\\_distr & good & bad & badprob & woe & bin\\_iv & total\\_iv & breaks & is\\_special\\_values & points\\\\\n",
       "\\hline\n",
       "\t V4                            & {[}-Inf,-0.9666442565)        &  819                          & 0.1365000                     &  647                          & 172                           & 0.2100122                     & -0.1821974                    & 0.004316278                   & 0.1367027                     & -0.9666442565                 & FALSE                         &  1                           \\\\\n",
       "\t V4                            & {[}-0.9666442565,0.502196735) & 1764                          & 0.2940000                     & 1298                          & 466                           & 0.2641723                     &  0.1182602                    & 0.004236126                   & 0.1367027                     & 0.502196735                   & FALSE                         & -1                           \\\\\n",
       "\t V4                            & {[}0.502196735,1.236617231)   & 2155                          & 0.3591667                     & 1508                          & 647                           & 0.3002320                     &  0.2964612                    & 0.033914554                   & 0.1367027                     & 1.236617231                   & FALSE                         & -1                           \\\\\n",
       "\t V4                            & {[}1.236617231, Inf)          & 1262                          & 0.2103333                     & 1096                          & 166                           & 0.1315372                     & -0.7447802                    & 0.094235711                   & 0.1367027                     & Inf                           & FALSE                         &  4                           \\\\\n",
       "\\end{tabular}\n",
       "\n",
       "\\item[\\$V1] \\begin{tabular}{r|lllllllllllll}\n",
       " variable & bin & count & count\\_distr & good & bad & badprob & woe & bin\\_iv & total\\_iv & breaks & is\\_special\\_values & points\\\\\n",
       "\\hline\n",
       "\t V1                          & {[}-Inf,1.026469325)        & 3749                        & 0.62483333                  & 3037                        & 712                         & 0.1899173                   & -0.30789310                 & 0.054473428                 & 0.1427833                   & 1.026469325                 & FALSE                       &  1                         \\\\\n",
       "\t V1                          & {[}1.026469325,1.941897243) & 1734                        & 0.28900000                  & 1129                        & 605                         & 0.3489043                   &  0.51879535                 & 0.087555747                 & 0.1427833                   & 1.941897243                 & FALSE                       & -2                         \\\\\n",
       "\t V1                          & {[}1.941897243, Inf)        &  517                        & 0.08616667                  &  383                        & 134                         & 0.2591876                   &  0.09245927                 & 0.000754077                 & 0.1427833                   & Inf                         & FALSE                       &  0                         \\\\\n",
       "\\end{tabular}\n",
       "\n",
       "\\item[\\$V2] \\begin{tabular}{r|lllllllllllll}\n",
       " variable & bin & count & count\\_distr & good & bad & badprob & woe & bin\\_iv & total\\_iv & breaks & is\\_special\\_values & points\\\\\n",
       "\\hline\n",
       "\t V2                             & {[}-Inf,-0.4098380943)         &  801                           & 0.1335000                      &  679                           & 122                            & 0.1523096                      & -0.5739456                     & 0.037411859                    & 0.0916488                      & -0.4098380943                  & FALSE                          &  3                            \\\\\n",
       "\t V2                             & {[}-0.4098380943,0.4174491369) & 2305                           & 0.3841667                      & 1693                           & 612                            & 0.2655098                      &  0.1251294                     & 0.006207464                    & 0.0916488                      & 0.4174491369                   & FALSE                          & -1                            \\\\\n",
       "\t V2                             & {[}0.4174491369,1.244736368)   & 1365                           & 0.2275000                      & 1110                           & 255                            & 0.1868132                      & -0.3281973                     & 0.022405637                    & 0.0916488                      & 1.244736368                    & FALSE                          &  2                            \\\\\n",
       "\t V2                             & {[}1.244736368, Inf)           & 1529                           & 0.2548333                      & 1067                           & 462                            & 0.3021583                      &  0.3056131                     & 0.025623842                    & 0.0916488                      & Inf                            & FALSE                          & -2                            \\\\\n",
       "\\end{tabular}\n",
       "\n",
       "\\end{description}\n"
      ],
      "text/markdown": [
       "$basepoints\n",
       ":   \n",
       "| variable | bin | woe | points |\n",
       "|---|---|---|---|\n",
       "| basepoints | NA         | NA         | 525        |\n",
       "\n",
       "\n",
       "$FICO_Score\n",
       ":   \n",
       "| variable | bin | count | count_distr | good | bad | badprob | woe | bin_iv | total_iv | breaks | is_special_values | points |\n",
       "|---|---|---|---|---|---|---|---|---|---|---|---|---|\n",
       "| FICO_Score   | [-Inf,-0.7)  | 1065         | 0.17750000   |  574         | 491          | 0.46103286   |  0.98646919  | 0.209334424  | 0.6706072    | -0.7         | FALSE        |  22          |\n",
       "| FICO_Score   | [-0.7,-0.05) | 3400         | 0.56666667   | 2538         | 862          | 0.25352941   |  0.06277808  | 0.002269317  | 0.6706072    | -0.05        | FALSE        |   1          |\n",
       "| FICO_Score   | [-0.05,0.3)  |  350         | 0.05833333   |  300         |  50          | 0.14285714   | -0.64910501  | 0.020440035  | 0.6706072    | 0.3          | FALSE        | -15          |\n",
       "| FICO_Score   | [0.3, Inf)   | 1185         | 0.19750000   | 1137         |  48          | 0.04050633   | -2.02229303  | 0.438563382  | 0.6706072    | Inf          | FALSE        | -46          |\n",
       "\n",
       "\n",
       "$V5\n",
       ":   \n",
       "| variable | bin | count | count_distr | good | bad | badprob | woe | bin_iv | total_iv | breaks | is_special_values | points |\n",
       "|---|---|---|---|---|---|---|---|---|---|---|---|---|\n",
       "| V5                            | [-Inf,-0.4799079948)          | 1896                          | 0.3160000                     | 1184                          | 712                           | 0.3755274                     |  0.634078551                  | 1.461038e-01                  | 0.2941808                     | -0.4799079948                 | FALSE                         |  8                            |\n",
       "| V5                            | [-0.4799079948,0.01109670624) | 1018                          | 0.1696667                     |  770                          | 248                           | 0.2436149                     |  0.009692686                  | 1.597973e-05                  | 0.2941808                     | 0.01109670624                 | FALSE                         |  0                            |\n",
       "| V5                            | [0.01109670624,0.9931061083)  | 1351                          | 0.2251667                     | 1086                          | 265                           | 0.1961510                     | -0.267872220                  | 1.502793e-02                  | 0.2941808                     | 0.9931061083                  | FALSE                         | -3                            |\n",
       "| V5                            | [0.9931061083, Inf)           | 1735                          | 0.2891667                     | 1509                          | 226                           | 0.1302594                     | -0.756013005                  | 1.330330e-01                  | 0.2941808                     | Inf                           | FALSE                         | -9                            |\n",
       "\n",
       "\n",
       "$Age\n",
       ":   \n",
       "| variable | bin | count | count_distr | good | bad | badprob | woe | bin_iv | total_iv | breaks | is_special_values | points |\n",
       "|---|---|---|---|---|---|---|---|---|---|---|---|---|\n",
       "| Age        | [-Inf,-1)  | 1237       | 0.2061667  |  775       | 462        | 0.3734842  |  0.6253563 | 0.09257399 | 0.2746375  | -1         | FALSE      |  5         |\n",
       "| Age        | [-1,0)     | 2096       | 0.3493333  | 1486       | 610        | 0.2910305  |  0.2522702 | 0.02364643 | 0.2746375  | 0          | FALSE      |  2         |\n",
       "| Age        | [0, Inf)   | 2667       | 0.4445000  | 2288       | 379        | 0.1421072  | -0.6552427 | 0.15841705 | 0.2746375  | Inf        | FALSE      | -5         |\n",
       "\n",
       "\n",
       "$Business_channel\n",
       ":   \n",
       "| variable | bin | count | count_distr | good | bad | badprob | woe | bin_iv | total_iv | breaks | is_special_values | points |\n",
       "|---|---|---|---|---|---|---|---|---|---|---|---|---|\n",
       "\n",
       "\n",
       "$V6\n",
       ":   \n",
       "| variable | bin | count | count_distr | good | bad | badprob | woe | bin_iv | total_iv | breaks | is_special_values | points |\n",
       "|---|---|---|---|---|---|---|---|---|---|---|---|---|\n",
       "| V6                            | [-Inf,-0.6298075341)          |  517                          | 0.08616667                    |  440                          |  77                           | 0.1489362                     | -0.60031485                   | 0.02620837                    | 0.2248461                     | -0.6298075341                 | FALSE                         |  5                            |\n",
       "| V6                            | [-0.6298075341,0.09552649112) | 1908                          | 0.31800000                    | 1467                          | 441                           | 0.2311321                     | -0.05927545                   | 0.00110016                    | 0.2248461                     | 0.09552649112                 | FALSE                         |  0                            |\n",
       "| V6                            | [0.09552649112,1.546194541)   | 2326                          | 0.38766667                    | 1548                          | 778                           | 0.3344798                     |  0.45466192                   | 0.08906253                    | 0.2248461                     | 1.546194541                   | FALSE                         | -3                            |\n",
       "| V6                            | [1.546194541, Inf)            | 1249                          | 0.20816667                    | 1094                          | 155                           | 0.1240993                     | -0.81151641                   | 0.10847502                    | 0.2248461                     | Inf                           | FALSE                         |  6                            |\n",
       "\n",
       "\n",
       "$V4\n",
       ":   \n",
       "| variable | bin | count | count_distr | good | bad | badprob | woe | bin_iv | total_iv | breaks | is_special_values | points |\n",
       "|---|---|---|---|---|---|---|---|---|---|---|---|---|\n",
       "| V4                          | [-Inf,-0.9666442565)        |  819                        | 0.1365000                   |  647                        | 172                         | 0.2100122                   | -0.1821974                  | 0.004316278                 | 0.1367027                   | -0.9666442565               | FALSE                       |  1                          |\n",
       "| V4                          | [-0.9666442565,0.502196735) | 1764                        | 0.2940000                   | 1298                        | 466                         | 0.2641723                   |  0.1182602                  | 0.004236126                 | 0.1367027                   | 0.502196735                 | FALSE                       | -1                          |\n",
       "| V4                          | [0.502196735,1.236617231)   | 2155                        | 0.3591667                   | 1508                        | 647                         | 0.3002320                   |  0.2964612                  | 0.033914554                 | 0.1367027                   | 1.236617231                 | FALSE                       | -1                          |\n",
       "| V4                          | [1.236617231, Inf)          | 1262                        | 0.2103333                   | 1096                        | 166                         | 0.1315372                   | -0.7447802                  | 0.094235711                 | 0.1367027                   | Inf                         | FALSE                       |  4                          |\n",
       "\n",
       "\n",
       "$V1\n",
       ":   \n",
       "| variable | bin | count | count_distr | good | bad | badprob | woe | bin_iv | total_iv | breaks | is_special_values | points |\n",
       "|---|---|---|---|---|---|---|---|---|---|---|---|---|\n",
       "| V1                        | [-Inf,1.026469325)        | 3749                      | 0.62483333                | 3037                      | 712                       | 0.1899173                 | -0.30789310               | 0.054473428               | 0.1427833                 | 1.026469325               | FALSE                     |  1                        |\n",
       "| V1                        | [1.026469325,1.941897243) | 1734                      | 0.28900000                | 1129                      | 605                       | 0.3489043                 |  0.51879535               | 0.087555747               | 0.1427833                 | 1.941897243               | FALSE                     | -2                        |\n",
       "| V1                        | [1.941897243, Inf)        |  517                      | 0.08616667                |  383                      | 134                       | 0.2591876                 |  0.09245927               | 0.000754077               | 0.1427833                 | Inf                       | FALSE                     |  0                        |\n",
       "\n",
       "\n",
       "$V2\n",
       ":   \n",
       "| variable | bin | count | count_distr | good | bad | badprob | woe | bin_iv | total_iv | breaks | is_special_values | points |\n",
       "|---|---|---|---|---|---|---|---|---|---|---|---|---|\n",
       "| V2                           | [-Inf,-0.4098380943)         |  801                         | 0.1335000                    |  679                         | 122                          | 0.1523096                    | -0.5739456                   | 0.037411859                  | 0.0916488                    | -0.4098380943                | FALSE                        |  3                           |\n",
       "| V2                           | [-0.4098380943,0.4174491369) | 2305                         | 0.3841667                    | 1693                         | 612                          | 0.2655098                    |  0.1251294                   | 0.006207464                  | 0.0916488                    | 0.4174491369                 | FALSE                        | -1                           |\n",
       "| V2                           | [0.4174491369,1.244736368)   | 1365                         | 0.2275000                    | 1110                         | 255                          | 0.1868132                    | -0.3281973                   | 0.022405637                  | 0.0916488                    | 1.244736368                  | FALSE                        |  2                           |\n",
       "| V2                           | [1.244736368, Inf)           | 1529                         | 0.2548333                    | 1067                         | 462                          | 0.3021583                    |  0.3056131                   | 0.025623842                  | 0.0916488                    | Inf                          | FALSE                        | -2                           |\n",
       "\n",
       "\n",
       "\n",
       "\n"
      ],
      "text/plain": [
       "$basepoints\n",
       "     variable bin woe points\n",
       "1: basepoints  NA  NA    525\n",
       "\n",
       "$FICO_Score\n",
       "     variable          bin count count_distr good bad    badprob         woe\n",
       "1: FICO_Score  [-Inf,-0.7)  1065  0.17750000  574 491 0.46103286  0.98646919\n",
       "2: FICO_Score [-0.7,-0.05)  3400  0.56666667 2538 862 0.25352941  0.06277808\n",
       "3: FICO_Score  [-0.05,0.3)   350  0.05833333  300  50 0.14285714 -0.64910501\n",
       "4: FICO_Score   [0.3, Inf)  1185  0.19750000 1137  48 0.04050633 -2.02229303\n",
       "        bin_iv  total_iv breaks is_special_values points\n",
       "1: 0.209334424 0.6706072   -0.7             FALSE     22\n",
       "2: 0.002269317 0.6706072  -0.05             FALSE      1\n",
       "3: 0.020440035 0.6706072    0.3             FALSE    -15\n",
       "4: 0.438563382 0.6706072    Inf             FALSE    -46\n",
       "\n",
       "$V5\n",
       "   variable                           bin count count_distr good bad   badprob\n",
       "1:       V5          [-Inf,-0.4799079948)  1896   0.3160000 1184 712 0.3755274\n",
       "2:       V5 [-0.4799079948,0.01109670624)  1018   0.1696667  770 248 0.2436149\n",
       "3:       V5  [0.01109670624,0.9931061083)  1351   0.2251667 1086 265 0.1961510\n",
       "4:       V5           [0.9931061083, Inf)  1735   0.2891667 1509 226 0.1302594\n",
       "            woe       bin_iv  total_iv        breaks is_special_values points\n",
       "1:  0.634078551 1.461038e-01 0.2941808 -0.4799079948             FALSE      8\n",
       "2:  0.009692686 1.597973e-05 0.2941808 0.01109670624             FALSE      0\n",
       "3: -0.267872220 1.502793e-02 0.2941808  0.9931061083             FALSE     -3\n",
       "4: -0.756013005 1.330330e-01 0.2941808           Inf             FALSE     -9\n",
       "\n",
       "$Age\n",
       "   variable       bin count count_distr good bad   badprob        woe\n",
       "1:      Age [-Inf,-1)  1237   0.2061667  775 462 0.3734842  0.6253563\n",
       "2:      Age    [-1,0)  2096   0.3493333 1486 610 0.2910305  0.2522702\n",
       "3:      Age  [0, Inf)  2667   0.4445000 2288 379 0.1421072 -0.6552427\n",
       "       bin_iv  total_iv breaks is_special_values points\n",
       "1: 0.09257399 0.2746375     -1             FALSE      5\n",
       "2: 0.02364643 0.2746375      0             FALSE      2\n",
       "3: 0.15841705 0.2746375    Inf             FALSE     -5\n",
       "\n",
       "$Business_channel\n",
       "Empty data.table (0 rows and 13 cols): variable,bin,count,count_distr,good,bad...\n",
       "\n",
       "$V6\n",
       "   variable                           bin count count_distr good bad   badprob\n",
       "1:       V6          [-Inf,-0.6298075341)   517  0.08616667  440  77 0.1489362\n",
       "2:       V6 [-0.6298075341,0.09552649112)  1908  0.31800000 1467 441 0.2311321\n",
       "3:       V6   [0.09552649112,1.546194541)  2326  0.38766667 1548 778 0.3344798\n",
       "4:       V6            [1.546194541, Inf)  1249  0.20816667 1094 155 0.1240993\n",
       "           woe     bin_iv  total_iv        breaks is_special_values points\n",
       "1: -0.60031485 0.02620837 0.2248461 -0.6298075341             FALSE      5\n",
       "2: -0.05927545 0.00110016 0.2248461 0.09552649112             FALSE      0\n",
       "3:  0.45466192 0.08906253 0.2248461   1.546194541             FALSE     -3\n",
       "4: -0.81151641 0.10847502 0.2248461           Inf             FALSE      6\n",
       "\n",
       "$V4\n",
       "   variable                         bin count count_distr good bad   badprob\n",
       "1:       V4        [-Inf,-0.9666442565)   819   0.1365000  647 172 0.2100122\n",
       "2:       V4 [-0.9666442565,0.502196735)  1764   0.2940000 1298 466 0.2641723\n",
       "3:       V4   [0.502196735,1.236617231)  2155   0.3591667 1508 647 0.3002320\n",
       "4:       V4          [1.236617231, Inf)  1262   0.2103333 1096 166 0.1315372\n",
       "          woe      bin_iv  total_iv        breaks is_special_values points\n",
       "1: -0.1821974 0.004316278 0.1367027 -0.9666442565             FALSE      1\n",
       "2:  0.1182602 0.004236126 0.1367027   0.502196735             FALSE     -1\n",
       "3:  0.2964612 0.033914554 0.1367027   1.236617231             FALSE     -1\n",
       "4: -0.7447802 0.094235711 0.1367027           Inf             FALSE      4\n",
       "\n",
       "$V1\n",
       "   variable                       bin count count_distr good bad   badprob\n",
       "1:       V1        [-Inf,1.026469325)  3749  0.62483333 3037 712 0.1899173\n",
       "2:       V1 [1.026469325,1.941897243)  1734  0.28900000 1129 605 0.3489043\n",
       "3:       V1        [1.941897243, Inf)   517  0.08616667  383 134 0.2591876\n",
       "           woe      bin_iv  total_iv      breaks is_special_values points\n",
       "1: -0.30789310 0.054473428 0.1427833 1.026469325             FALSE      1\n",
       "2:  0.51879535 0.087555747 0.1427833 1.941897243             FALSE     -2\n",
       "3:  0.09245927 0.000754077 0.1427833         Inf             FALSE      0\n",
       "\n",
       "$V2\n",
       "   variable                          bin count count_distr good bad   badprob\n",
       "1:       V2         [-Inf,-0.4098380943)   801   0.1335000  679 122 0.1523096\n",
       "2:       V2 [-0.4098380943,0.4174491369)  2305   0.3841667 1693 612 0.2655098\n",
       "3:       V2   [0.4174491369,1.244736368)  1365   0.2275000 1110 255 0.1868132\n",
       "4:       V2           [1.244736368, Inf)  1529   0.2548333 1067 462 0.3021583\n",
       "          woe      bin_iv  total_iv        breaks is_special_values points\n",
       "1: -0.5739456 0.037411859 0.0916488 -0.4098380943             FALSE      3\n",
       "2:  0.1251294 0.006207464 0.0916488  0.4174491369             FALSE     -1\n",
       "3: -0.3281973 0.022405637 0.0916488   1.244736368             FALSE      2\n",
       "4:  0.3056131 0.025623842 0.0916488           Inf             FALSE     -2\n"
      ]
     },
     "metadata": {},
     "output_type": "display_data"
    }
   ],
   "source": [
    "# Calculate scorecard scores for variables based on the results from woebin and glm: \n",
    "bins_var <- woebin(train_processed, y = \"Default_45\", no_cores = 20, positive = \"Default_45|1\")\n",
    "my_card <- scorecard(bins_var, lr_2, points0 = 600, odds0 = 1/19, pdo = 20)\n",
    "\n",
    "my_card"
   ]
  },
  {
   "cell_type": "code",
   "execution_count": 128,
   "metadata": {},
   "outputs": [
    {
     "data": {
      "text/html": [
       "<table>\n",
       "<thead><tr><th></th><th scope=col>variable</th><th scope=col>bin</th><th scope=col>woe</th><th scope=col>points</th><th scope=col>bin_iv</th><th scope=col>total_iv</th></tr></thead>\n",
       "<tbody>\n",
       "\t<tr><th scope=row>2</th><td>FICO_Score                         </td><td>From -Inf to -0.7                  </td><td> 0.986                             </td><td> 22                                </td><td>0.209                              </td><td>0.671                              </td></tr>\n",
       "\t<tr><th scope=row>3</th><td>FICO_Score                         </td><td>From -0.7 to -0.05                 </td><td> 0.063                             </td><td>  1                                </td><td>0.002                              </td><td>0.671                              </td></tr>\n",
       "\t<tr><th scope=row>4</th><td>FICO_Score                         </td><td>From -0.05 to 0.3                  </td><td>-0.649                             </td><td>-15                                </td><td>0.020                              </td><td>0.671                              </td></tr>\n",
       "\t<tr><th scope=row>5</th><td>FICO_Score                         </td><td>From 0.3 to  Inf                   </td><td>-2.022                             </td><td>-46                                </td><td>0.439                              </td><td>0.671                              </td></tr>\n",
       "\t<tr><th scope=row>6</th><td>V5                                 </td><td>From -Inf to -0.4799079948         </td><td> 0.634                             </td><td>  8                                </td><td>0.146                              </td><td>0.294                              </td></tr>\n",
       "\t<tr><th scope=row>7</th><td>V5                                 </td><td>From -0.4799079948 to 0.01109670624</td><td> 0.010                             </td><td>  0                                </td><td>0.000                              </td><td>0.294                              </td></tr>\n",
       "</tbody>\n",
       "</table>\n"
      ],
      "text/latex": [
       "\\begin{tabular}{r|llllll}\n",
       "  & variable & bin & woe & points & bin\\_iv & total\\_iv\\\\\n",
       "\\hline\n",
       "\t2 & FICO\\_Score                        & From -Inf to -0.7                   &  0.986                              &  22                                 & 0.209                               & 0.671                              \\\\\n",
       "\t3 & FICO\\_Score                        & From -0.7 to -0.05                  &  0.063                              &   1                                 & 0.002                               & 0.671                              \\\\\n",
       "\t4 & FICO\\_Score                        & From -0.05 to 0.3                   & -0.649                              & -15                                 & 0.020                               & 0.671                              \\\\\n",
       "\t5 & FICO\\_Score                        & From 0.3 to  Inf                    & -2.022                              & -46                                 & 0.439                               & 0.671                              \\\\\n",
       "\t6 & V5                                  & From -Inf to -0.4799079948          &  0.634                              &   8                                 & 0.146                               & 0.294                              \\\\\n",
       "\t7 & V5                                  & From -0.4799079948 to 0.01109670624 &  0.010                              &   0                                 & 0.000                               & 0.294                              \\\\\n",
       "\\end{tabular}\n"
      ],
      "text/markdown": [
       "\n",
       "| <!--/--> | variable | bin | woe | points | bin_iv | total_iv |\n",
       "|---|---|---|---|---|---|---|\n",
       "| 2 | FICO_Score                          | From -Inf to -0.7                   |  0.986                              |  22                                 | 0.209                               | 0.671                               |\n",
       "| 3 | FICO_Score                          | From -0.7 to -0.05                  |  0.063                              |   1                                 | 0.002                               | 0.671                               |\n",
       "| 4 | FICO_Score                          | From -0.05 to 0.3                   | -0.649                              | -15                                 | 0.020                               | 0.671                               |\n",
       "| 5 | FICO_Score                          | From 0.3 to  Inf                    | -2.022                              | -46                                 | 0.439                               | 0.671                               |\n",
       "| 6 | V5                                  | From -Inf to -0.4799079948          |  0.634                              |   8                                 | 0.146                               | 0.294                               |\n",
       "| 7 | V5                                  | From -0.4799079948 to 0.01109670624 |  0.010                              |   0                                 | 0.000                               | 0.294                               |\n",
       "\n"
      ],
      "text/plain": [
       "  variable   bin                                 woe    points bin_iv total_iv\n",
       "2 FICO_Score From -Inf to -0.7                    0.986  22    0.209  0.671   \n",
       "3 FICO_Score From -0.7 to -0.05                   0.063   1    0.002  0.671   \n",
       "4 FICO_Score From -0.05 to 0.3                   -0.649 -15    0.020  0.671   \n",
       "5 FICO_Score From 0.3 to  Inf                    -2.022 -46    0.439  0.671   \n",
       "6 V5         From -Inf to -0.4799079948           0.634   8    0.146  0.294   \n",
       "7 V5         From -0.4799079948 to 0.01109670624  0.010   0    0.000  0.294   "
      ]
     },
     "metadata": {},
     "output_type": "display_data"
    }
   ],
   "source": [
    "do.call(\"bind_rows\", my_card) %>% \n",
    "  mutate_if(is.numeric, function(x) {round(x, 3)}) %>% \n",
    "  mutate(bin = bin %>% \n",
    "           str_replace_all(\"\\\\[\", \"From \") %>% \n",
    "           str_replace_all(\"\\\\,\", \" to \") %>% \n",
    "           str_replace_all(\"\\\\)\", \"\")) -> iv_for_predictors_point\n",
    "\n",
    "iv_for_predictors_point <- iv_for_predictors_point[-1, c(\"variable\", \"bin\", \"woe\", \"points\", \"bin_iv\", \"total_iv\")]\n",
    "head(iv_for_predictors_point)"
   ]
  },
  {
   "cell_type": "code",
   "execution_count": 129,
   "metadata": {},
   "outputs": [
    {
     "data": {
      "text/plain": [
       "\n",
       "\n",
       "|   |Predictor  |Group                               |    WOE| Scorecard| Bin IV| Total IV|\n",
       "|:--|:----------|:-----------------------------------|------:|---------:|------:|--------:|\n",
       "|2  |FICO_Score |From -Inf to -0.7                   |  0.986|        22|  0.209|    0.671|\n",
       "|3  |FICO_Score |From -0.7 to -0.05                  |  0.063|         1|  0.002|    0.671|\n",
       "|4  |FICO_Score |From -0.05 to 0.3                   | -0.649|       -15|  0.020|    0.671|\n",
       "|5  |FICO_Score |From 0.3 to  Inf                    | -2.022|       -46|  0.439|    0.671|\n",
       "|6  |V5         |From -Inf to -0.4799079948          |  0.634|         8|  0.146|    0.294|\n",
       "|7  |V5         |From -0.4799079948 to 0.01109670624 |  0.010|         0|  0.000|    0.294|\n",
       "|8  |V5         |From 0.01109670624 to 0.9931061083  | -0.268|        -3|  0.015|    0.294|\n",
       "|9  |V5         |From 0.9931061083 to  Inf           | -0.756|        -9|  0.133|    0.294|\n",
       "|10 |Age        |From -Inf to -1                     |  0.625|         5|  0.093|    0.275|\n",
       "|11 |Age        |From -1 to 0                        |  0.252|         2|  0.024|    0.275|\n",
       "|12 |Age        |From 0 to  Inf                      | -0.655|        -5|  0.158|    0.275|\n",
       "|13 |V6         |From -Inf to -0.6298075341          | -0.600|         5|  0.026|    0.225|\n",
       "|14 |V6         |From -0.6298075341 to 0.09552649112 | -0.059|         0|  0.001|    0.225|\n",
       "|15 |V6         |From 0.09552649112 to 1.546194541   |  0.455|        -3|  0.089|    0.225|\n",
       "|16 |V6         |From 1.546194541 to  Inf            | -0.812|         6|  0.108|    0.225|\n",
       "|17 |V4         |From -Inf to -0.9666442565          | -0.182|         1|  0.004|    0.137|\n",
       "|18 |V4         |From -0.9666442565 to 0.502196735   |  0.118|        -1|  0.004|    0.137|\n",
       "|19 |V4         |From 0.502196735 to 1.236617231     |  0.296|        -1|  0.034|    0.137|\n",
       "|20 |V4         |From 1.236617231 to  Inf            | -0.745|         4|  0.094|    0.137|\n",
       "|21 |V1         |From -Inf to 1.026469325            | -0.308|         1|  0.054|    0.143|\n",
       "|22 |V1         |From 1.026469325 to 1.941897243     |  0.519|        -2|  0.088|    0.143|\n",
       "|23 |V1         |From 1.941897243 to  Inf            |  0.092|         0|  0.001|    0.143|\n",
       "|24 |V2         |From -Inf to -0.4098380943          | -0.574|         3|  0.037|    0.092|\n",
       "|25 |V2         |From -0.4098380943 to 0.4174491369  |  0.125|        -1|  0.006|    0.092|\n",
       "|26 |V2         |From 0.4174491369 to 1.244736368    | -0.328|         2|  0.022|    0.092|\n",
       "|27 |V2         |From 1.244736368 to  Inf            |  0.306|        -2|  0.026|    0.092|"
      ]
     },
     "metadata": {},
     "output_type": "display_data"
    }
   ],
   "source": [
    "iv_for_predictors_point %>% \n",
    "  knitr::kable(col.names = c(\"Predictor\", \"Group\", \"WOE\", \"Scorecard\", \"Bin IV\", \"Total IV\"))"
   ]
  },
  {
   "cell_type": "markdown",
   "metadata": {},
   "source": [
    "#### 5.2 Check scorecard point for all observations"
   ]
  },
  {
   "cell_type": "markdown",
   "metadata": {},
   "source": [
    "#### train data"
   ]
  },
  {
   "cell_type": "code",
   "execution_count": 130,
   "metadata": {},
   "outputs": [
    {
     "data": {
      "text/plain": [
       "\n",
       "\n",
       "|Default_45 | min| max| median| mean|    n|\n",
       "|:----------|---:|---:|------:|----:|----:|\n",
       "|Default    | 468| 570|    537|  536| 1451|\n",
       "|NonDefault | 468| 568|    523|  517| 4549|"
      ]
     },
     "metadata": {},
     "output_type": "display_data"
    }
   ],
   "source": [
    "# Scorecard point for all observations from train data set: \n",
    "my_points_train <- scorecard_ply(train_processed, my_card, only_total_score = FALSE, print_step = 0) %>% as.data.frame()\n",
    "\n",
    "# Some statistics scorecard by group: \n",
    "df_scored_train <- train_processed %>% \n",
    "  mutate(SCORE = my_points_train$score) %>% \n",
    "  mutate(Default_45 = case_when(Default_45 == 1 ~ \"Default\", TRUE ~ \"NonDefault\")) \n",
    "\n",
    "df_scored_train %>% \n",
    "  group_by(Default_45) %>% \n",
    "  summarise_each(funs(min, max, median, mean, n()), SCORE) %>% \n",
    "  mutate_if(is.numeric, function(x) {round(x, 0)}) %>% \n",
    "  knitr::kable(caption = \"Scorecad Points by Group for Train Data\")"
   ]
  },
  {
   "cell_type": "code",
   "execution_count": 133,
   "metadata": {},
   "outputs": [
    {
     "data": {
      "image/png": "[encoded data removed]",
      "text/plain": [
       "plot without title"
      ]
     },
     "metadata": {},
     "output_type": "display_data"
    }
   ],
   "source": [
    "df_scored_train %>% \n",
    "     group_by(Default_45) %>% \n",
    "     summarise(tb = mean(SCORE)) %>% \n",
    "     ungroup() -> mean_score_train\n",
    "\n",
    "df_scored_train  %>% \n",
    "  ggplot(aes(SCORE, color = Default_45, fill = Default_45)) + \n",
    "  geom_density(alpha = 0.3) + \n",
    "  geom_vline(aes(xintercept = 536), linetype = \"dashed\", color = \"red\") + \n",
    "  geom_vline(aes(xintercept = 517), linetype = \"dashed\", color = \"blue\") + \n",
    "  geom_text(aes(x = (530), y = 0.025, label = 536 %>% round(0)), color = \"red\", size = 4) + \n",
    "  geom_text(aes(x = 515, y = 0.025, label = 517 %>% round(0)), color = \"blue\", size = 4) + \n",
    "  theme(legend.title = element_blank()) + \n",
    "  theme(legend.position = c(0.2, 0.8)) + \n",
    "  labs(x = NULL, y = NULL, title = \"Scorecard Distribution by two Credit Groups for Train Data\")"
   ]
  },
  {
   "cell_type": "markdown",
   "metadata": {},
   "source": [
    "####  Test data"
   ]
  },
  {
   "cell_type": "code",
   "execution_count": 145,
   "metadata": {},
   "outputs": [
    {
     "name": "stdout",
     "output_type": "stream",
     "text": [
      "[INFO] creating woe binning ... \n",
      "[INFO] Binning on 4000 rows and 13 columns in 00:00:10 \n"
     ]
    },
    {
     "data": {
      "text/plain": [
       "\n",
       "\n",
       "|Default_45 | min| max| median| mean|    n|\n",
       "|:----------|---:|---:|------:|----:|----:|\n",
       "|Default    | 464| 572|    539|  538|  913|\n",
       "|NonDefault | 456| 573|    522|  518| 3087|"
      ]
     },
     "metadata": {},
     "output_type": "display_data"
    }
   ],
   "source": [
    "bins_var <- woebin(test_processed, y = \"Default_45\", no_cores = 20, positive = \"Default_45|1\")\n",
    "my_card_t <- scorecard(bins_var, lr_2, points0 = 600, odds0 = 1/19, pdo = 20)\n",
    "\n",
    "# Scorecard Points for test data set: \n",
    "my_points_test <- scorecard_ply(test_processed, my_card_t, print_step = 0, \n",
    "                                only_total_score = FALSE) %>% as.data.frame()\n",
    "\n",
    "\n",
    "df_scored_test <- test_processed %>% \n",
    "  mutate(SCORE = my_points_test$score) %>% \n",
    "  mutate(Default_45 = case_when(Default_45 == 1 ~ \"Default\", TRUE ~ \"NonDefault\")) \n",
    "\n",
    "df_scored_test %>% \n",
    "  group_by(Default_45) %>% \n",
    "  summarise_each(funs(min, max, median, mean, n()), SCORE) %>% \n",
    "  mutate_if(is.numeric, function(x) {round(x, 0)}) %>% \n",
    "  knitr::kable(caption = \" Scorecad Points by Group for Test Data\")"
   ]
  },
  {
   "cell_type": "code",
   "execution_count": 148,
   "metadata": {},
   "outputs": [
    {
     "data": {
      "image/png": "[encoded data removed]",
      "text/plain": [
       "plot without title"
      ]
     },
     "metadata": {},
     "output_type": "display_data"
    }
   ],
   "source": [
    "df_scored_test %>% \n",
    "  group_by(Default_45) %>% \n",
    "  summarise(tb = mean(SCORE)) %>% \n",
    "  ungroup() -> mean_score_test\n",
    "\n",
    "df_scored_test %>% \n",
    "  ggplot(aes(SCORE, color = Default_45, fill = Default_45)) + \n",
    "  geom_density(alpha = 0.3) + \n",
    "  geom_vline(aes(xintercept = 538), linetype = \"dashed\", color = \"red\") + \n",
    "  geom_vline(aes(xintercept = 518), linetype = \"dashed\", color = \"blue\") + \n",
    "  geom_text(aes(x = 535, y = 0.025, label = 538 %>% round(0)), color = \"red\", size = 4) + \n",
    "  geom_text(aes(x = 515, y = 0.025, label = 518 %>% round(0)), color = \"blue\", size = 4) + \n",
    "  theme(legend.title = element_blank()) + \n",
    "  theme(legend.position = c(0.2, 0.8)) + \n",
    "  labs(x = NULL, y = NULL, title = \"Scorecard Distribution by two Credit Groups for Test Data\")"
   ]
  },
  {
   "cell_type": "markdown",
   "metadata": {},
   "source": [
    "The means between train and test data of the Default and NoDefualt are very similar."
   ]
  },
  {
   "cell_type": "markdown",
   "metadata": {},
   "source": [
    "#### 5.3 Finalize scorecard"
   ]
  },
  {
   "cell_type": "code",
   "execution_count": 134,
   "metadata": {},
   "outputs": [],
   "source": [
    "row.names(iv_for_predictors_point) <- NULL"
   ]
  },
  {
   "cell_type": "code",
   "execution_count": 135,
   "metadata": {},
   "outputs": [
    {
     "data": {
      "text/html": [
       "<table>\n",
       "<thead><tr><th scope=col>Characteristic</th><th scope=col>Attribute</th><th scope=col>Scorecard Points</th></tr></thead>\n",
       "<tbody>\n",
       "\t<tr><td>FICO_Score                         </td><td>From -Inf to -0.7                  </td><td> 22                                </td></tr>\n",
       "\t<tr><td>FICO_Score                         </td><td>From -0.7 to -0.05                 </td><td>  1                                </td></tr>\n",
       "\t<tr><td>FICO_Score                         </td><td>From -0.05 to 0.3                  </td><td>-15                                </td></tr>\n",
       "\t<tr><td>FICO_Score                         </td><td>From 0.3 to  Inf                   </td><td>-46                                </td></tr>\n",
       "\t<tr><td>V5                                 </td><td>From -Inf to -0.4799079948         </td><td>  8                                </td></tr>\n",
       "\t<tr><td>V5                                 </td><td>From -0.4799079948 to 0.01109670624</td><td>  0                                </td></tr>\n",
       "\t<tr><td>V5                                 </td><td>From 0.01109670624 to 0.9931061083 </td><td> -3                                </td></tr>\n",
       "\t<tr><td>V5                                 </td><td>From 0.9931061083 to  Inf          </td><td> -9                                </td></tr>\n",
       "\t<tr><td>Age                                </td><td>From -Inf to -1                    </td><td>  5                                </td></tr>\n",
       "\t<tr><td>Age                                </td><td>From -1 to 0                       </td><td>  2                                </td></tr>\n",
       "\t<tr><td>Age                                </td><td>From 0 to  Inf                     </td><td> -5                                </td></tr>\n",
       "\t<tr><td>V6                                 </td><td>From -Inf to -0.6298075341         </td><td>  5                                </td></tr>\n",
       "\t<tr><td>V6                                 </td><td>From -0.6298075341 to 0.09552649112</td><td>  0                                </td></tr>\n",
       "\t<tr><td>V6                                 </td><td>From 0.09552649112 to 1.546194541  </td><td> -3                                </td></tr>\n",
       "\t<tr><td>V6                                 </td><td>From 1.546194541 to  Inf           </td><td>  6                                </td></tr>\n",
       "\t<tr><td>V4                                 </td><td>From -Inf to -0.9666442565         </td><td>  1                                </td></tr>\n",
       "\t<tr><td>V4                                 </td><td>From -0.9666442565 to 0.502196735  </td><td> -1                                </td></tr>\n",
       "\t<tr><td>V4                                 </td><td>From 0.502196735 to 1.236617231    </td><td> -1                                </td></tr>\n",
       "\t<tr><td>V4                                 </td><td>From 1.236617231 to  Inf           </td><td>  4                                </td></tr>\n",
       "\t<tr><td>V1                                 </td><td>From -Inf to 1.026469325           </td><td>  1                                </td></tr>\n",
       "\t<tr><td>V1                                 </td><td>From 1.026469325 to 1.941897243    </td><td> -2                                </td></tr>\n",
       "\t<tr><td>V1                                 </td><td>From 1.941897243 to  Inf           </td><td>  0                                </td></tr>\n",
       "\t<tr><td>V2                                 </td><td>From -Inf to -0.4098380943         </td><td>  3                                </td></tr>\n",
       "\t<tr><td>V2                                 </td><td>From -0.4098380943 to 0.4174491369 </td><td> -1                                </td></tr>\n",
       "\t<tr><td>V2                                 </td><td>From 0.4174491369 to 1.244736368   </td><td>  2                                </td></tr>\n",
       "\t<tr><td>V2                                 </td><td>From 1.244736368 to  Inf           </td><td> -2                                </td></tr>\n",
       "</tbody>\n",
       "</table>\n"
      ],
      "text/latex": [
       "\\begin{tabular}{r|lll}\n",
       " Characteristic & Attribute & Scorecard Points\\\\\n",
       "\\hline\n",
       "\t FICO\\_Score                        & From -Inf to -0.7                   &  22                                \\\\\n",
       "\t FICO\\_Score                        & From -0.7 to -0.05                  &   1                                \\\\\n",
       "\t FICO\\_Score                        & From -0.05 to 0.3                   & -15                                \\\\\n",
       "\t FICO\\_Score                        & From 0.3 to  Inf                    & -46                                \\\\\n",
       "\t V5                                  & From -Inf to -0.4799079948          &   8                                \\\\\n",
       "\t V5                                  & From -0.4799079948 to 0.01109670624 &   0                                \\\\\n",
       "\t V5                                  & From 0.01109670624 to 0.9931061083  &  -3                                \\\\\n",
       "\t V5                                  & From 0.9931061083 to  Inf           &  -9                                \\\\\n",
       "\t Age                                 & From -Inf to -1                     &   5                                \\\\\n",
       "\t Age                                 & From -1 to 0                        &   2                                \\\\\n",
       "\t Age                                 & From 0 to  Inf                      &  -5                                \\\\\n",
       "\t V6                                  & From -Inf to -0.6298075341          &   5                                \\\\\n",
       "\t V6                                  & From -0.6298075341 to 0.09552649112 &   0                                \\\\\n",
       "\t V6                                  & From 0.09552649112 to 1.546194541   &  -3                                \\\\\n",
       "\t V6                                  & From 1.546194541 to  Inf            &   6                                \\\\\n",
       "\t V4                                  & From -Inf to -0.9666442565          &   1                                \\\\\n",
       "\t V4                                  & From -0.9666442565 to 0.502196735   &  -1                                \\\\\n",
       "\t V4                                  & From 0.502196735 to 1.236617231     &  -1                                \\\\\n",
       "\t V4                                  & From 1.236617231 to  Inf            &   4                                \\\\\n",
       "\t V1                                  & From -Inf to 1.026469325            &   1                                \\\\\n",
       "\t V1                                  & From 1.026469325 to 1.941897243     &  -2                                \\\\\n",
       "\t V1                                  & From 1.941897243 to  Inf            &   0                                \\\\\n",
       "\t V2                                  & From -Inf to -0.4098380943          &   3                                \\\\\n",
       "\t V2                                  & From -0.4098380943 to 0.4174491369  &  -1                                \\\\\n",
       "\t V2                                  & From 0.4174491369 to 1.244736368    &   2                                \\\\\n",
       "\t V2                                  & From 1.244736368 to  Inf            &  -2                                \\\\\n",
       "\\end{tabular}\n"
      ],
      "text/markdown": [
       "\n",
       "| Characteristic | Attribute | Scorecard Points |\n",
       "|---|---|---|\n",
       "| FICO_Score                          | From -Inf to -0.7                   |  22                                 |\n",
       "| FICO_Score                          | From -0.7 to -0.05                  |   1                                 |\n",
       "| FICO_Score                          | From -0.05 to 0.3                   | -15                                 |\n",
       "| FICO_Score                          | From 0.3 to  Inf                    | -46                                 |\n",
       "| V5                                  | From -Inf to -0.4799079948          |   8                                 |\n",
       "| V5                                  | From -0.4799079948 to 0.01109670624 |   0                                 |\n",
       "| V5                                  | From 0.01109670624 to 0.9931061083  |  -3                                 |\n",
       "| V5                                  | From 0.9931061083 to  Inf           |  -9                                 |\n",
       "| Age                                 | From -Inf to -1                     |   5                                 |\n",
       "| Age                                 | From -1 to 0                        |   2                                 |\n",
       "| Age                                 | From 0 to  Inf                      |  -5                                 |\n",
       "| V6                                  | From -Inf to -0.6298075341          |   5                                 |\n",
       "| V6                                  | From -0.6298075341 to 0.09552649112 |   0                                 |\n",
       "| V6                                  | From 0.09552649112 to 1.546194541   |  -3                                 |\n",
       "| V6                                  | From 1.546194541 to  Inf            |   6                                 |\n",
       "| V4                                  | From -Inf to -0.9666442565          |   1                                 |\n",
       "| V4                                  | From -0.9666442565 to 0.502196735   |  -1                                 |\n",
       "| V4                                  | From 0.502196735 to 1.236617231     |  -1                                 |\n",
       "| V4                                  | From 1.236617231 to  Inf            |   4                                 |\n",
       "| V1                                  | From -Inf to 1.026469325            |   1                                 |\n",
       "| V1                                  | From 1.026469325 to 1.941897243     |  -2                                 |\n",
       "| V1                                  | From 1.941897243 to  Inf            |   0                                 |\n",
       "| V2                                  | From -Inf to -0.4098380943          |   3                                 |\n",
       "| V2                                  | From -0.4098380943 to 0.4174491369  |  -1                                 |\n",
       "| V2                                  | From 0.4174491369 to 1.244736368    |   2                                 |\n",
       "| V2                                  | From 1.244736368 to  Inf            |  -2                                 |\n",
       "\n"
      ],
      "text/plain": [
       "   Characteristic Attribute                           Scorecard Points\n",
       "1  FICO_Score     From -Inf to -0.7                    22             \n",
       "2  FICO_Score     From -0.7 to -0.05                    1             \n",
       "3  FICO_Score     From -0.05 to 0.3                   -15             \n",
       "4  FICO_Score     From 0.3 to  Inf                    -46             \n",
       "5  V5             From -Inf to -0.4799079948            8             \n",
       "6  V5             From -0.4799079948 to 0.01109670624   0             \n",
       "7  V5             From 0.01109670624 to 0.9931061083   -3             \n",
       "8  V5             From 0.9931061083 to  Inf            -9             \n",
       "9  Age            From -Inf to -1                       5             \n",
       "10 Age            From -1 to 0                          2             \n",
       "11 Age            From 0 to  Inf                       -5             \n",
       "12 V6             From -Inf to -0.6298075341            5             \n",
       "13 V6             From -0.6298075341 to 0.09552649112   0             \n",
       "14 V6             From 0.09552649112 to 1.546194541    -3             \n",
       "15 V6             From 1.546194541 to  Inf              6             \n",
       "16 V4             From -Inf to -0.9666442565            1             \n",
       "17 V4             From -0.9666442565 to 0.502196735    -1             \n",
       "18 V4             From 0.502196735 to 1.236617231      -1             \n",
       "19 V4             From 1.236617231 to  Inf              4             \n",
       "20 V1             From -Inf to 1.026469325              1             \n",
       "21 V1             From 1.026469325 to 1.941897243      -2             \n",
       "22 V1             From 1.941897243 to  Inf              0             \n",
       "23 V2             From -Inf to -0.4098380943            3             \n",
       "24 V2             From -0.4098380943 to 0.4174491369   -1             \n",
       "25 V2             From 0.4174491369 to 1.244736368      2             \n",
       "26 V2             From 1.244736368 to  Inf             -2             "
      ]
     },
     "metadata": {},
     "output_type": "display_data"
    }
   ],
   "source": [
    "iv_for_predictors_point <- iv_for_predictors_point[, c(\"variable\", \"bin\", \"points\")]\n",
    "\n",
    "names(iv_for_predictors_point)[1] <- \"Characteristic\"\n",
    "names(iv_for_predictors_point)[2] <- \"Attribute\"\n",
    "names(iv_for_predictors_point)[3] <- \"Scorecard Points\"\n",
    "\n",
    "\n",
    "iv_for_predictors_point"
   ]
  },
  {
   "cell_type": "markdown",
   "metadata": {},
   "source": [
    "#### 5.4 Evaluate probabilities of default (PD)"
   ]
  },
  {
   "cell_type": "code",
   "execution_count": 149,
   "metadata": {},
   "outputs": [
    {
     "data": {
      "text/plain": [
       "\n",
       "\n",
       "|Default_45 |    min|    max| median|   mean|    n|\n",
       "|:----------|------:|------:|------:|------:|----:|\n",
       "|Default    | 0.0172| 0.9087| 0.3429| 0.3672|  913|\n",
       "|NonDefault | 0.0043| 0.8607| 0.1628| 0.1952| 3087|"
      ]
     },
     "metadata": {},
     "output_type": "display_data"
    }
   ],
   "source": [
    "# Cteate a data frame of PD: \n",
    "test_processed %>% \n",
    "  mutate(prob_default = lr_prob, \n",
    "         Default_45 = case_when(Default_45 == 1 ~ \"Default\", TRUE ~ \"NonDefault\")) -> prob_default_df \n",
    "\n",
    "# Show some statistics: \n",
    "\n",
    "prob_default_df %>% \n",
    "  group_by(Default_45) %>% \n",
    "  summarise_each(funs(min, max, median, mean, n()), prob_default) %>% \n",
    "  mutate_if(is.numeric, function(x) {round(x, 4)}) %>% \n",
    "  knitr::kable(caption = \"Probabilities of Default by Group for Test Data\")"
   ]
  },
  {
   "cell_type": "code",
   "execution_count": 153,
   "metadata": {},
   "outputs": [
    {
     "data": {
      "image/png": "[encoded data removed]",
      "text/plain": [
       "plot without title"
      ]
     },
     "metadata": {},
     "output_type": "display_data"
    }
   ],
   "source": [
    "prob_default_df %>% \n",
    "  group_by(Default_45) %>% \n",
    "  summarise(tb = mean(prob_default)) %>% \n",
    "  ungroup() -> mean_prob_test\n",
    "\n",
    "prob_default_df %>% \n",
    "  ggplot(aes(prob_default, color = Default_45, fill = Default_45)) + \n",
    "  geom_density(alpha = 0.3) + \n",
    "  geom_vline(aes(xintercept = 0.367), linetype = \"dashed\", color = \"red\") + \n",
    "  geom_vline(aes(xintercept = 0.195), linetype = \"dashed\", color = \"blue\") + \n",
    "  geom_text(aes(x = 0.32, y = 3.2, label = 0.367 %>% round(4)), color = \"red\", size = 4) + \n",
    "  geom_text(aes(x = 0.14, y = 3.2, label = 0.195 %>% round(4)), color = \"blue\", size = 4) + \n",
    "  theme(legend.title = element_blank()) + \n",
    "  theme(legend.position = c(0.88, 0.8)) + \n",
    "  theme(plot.margin = unit(c(1, 1, 1, 1), \"cm\")) + \n",
    "  labs(x = NULL, y = NULL, title = \"PD Distribution by two Credit Groups for Test Data\")"
   ]
  },
  {
   "cell_type": "code",
   "execution_count": null,
   "metadata": {},
   "outputs": [],
   "source": []
  },
  {
   "cell_type": "markdown",
   "metadata": {},
   "source": [
    "### 6.LGD"
   ]
  },
  {
   "cell_type": "markdown",
   "metadata": {},
   "source": [
    "#### Read in data"
   ]
  },
  {
   "cell_type": "code",
   "execution_count": 180,
   "metadata": {},
   "outputs": [
    {
     "data": {
      "text/html": [
       "<table>\n",
       "<thead><tr><th scope=col>LTV</th><th scope=col>Recovery_rate</th><th scope=col>lgd_time</th><th scope=col>y_logistic</th><th scope=col>lnrr</th><th scope=col>Y_probit</th><th scope=col>purpose1</th><th scope=col>event</th></tr></thead>\n",
       "<tbody>\n",
       "\t<tr><td>0.21407810  </td><td>0.6980155   </td><td>0.30198448  </td><td>-0.8378657  </td><td>-0.359513940</td><td>-0.5187014  </td><td>0           </td><td>1           </td></tr>\n",
       "\t<tr><td>0.21407810  </td><td>0.7800841   </td><td>0.21991590  </td><td>-1.2661566  </td><td>-0.248353538</td><td>-0.7724773  </td><td>0           </td><td>1           </td></tr>\n",
       "\t<tr><td>0.21407810  </td><td>0.7022869   </td><td>0.29771308  </td><td>-0.8582118  </td><td>-0.353413236</td><td>-0.5309894  </td><td>0           </td><td>1           </td></tr>\n",
       "\t<tr><td>0.21407810  </td><td>0.7539889   </td><td>0.24601110  </td><td>-1.1200010  </td><td>-0.282377634</td><td>-0.6870961  </td><td>0           </td><td>1           </td></tr>\n",
       "\t<tr><td>0.21407810  </td><td>0.8028126   </td><td>0.19718739  </td><td>-1.4039668  </td><td>-0.219633958</td><td>-0.8517105  </td><td>0           </td><td>1           </td></tr>\n",
       "\t<tr><td>0.02738354  </td><td>0.9921424   </td><td>0.00785762  </td><td>-4.8383828  </td><td>-0.007888654</td><td>-2.4154625  </td><td>0           </td><td>1           </td></tr>\n",
       "</tbody>\n",
       "</table>\n"
      ],
      "text/latex": [
       "\\begin{tabular}{r|llllllll}\n",
       " LTV & Recovery\\_rate & lgd\\_time & y\\_logistic & lnrr & Y\\_probit & purpose1 & event\\\\\n",
       "\\hline\n",
       "\t 0.21407810   & 0.6980155    & 0.30198448   & -0.8378657   & -0.359513940 & -0.5187014   & 0            & 1           \\\\\n",
       "\t 0.21407810   & 0.7800841    & 0.21991590   & -1.2661566   & -0.248353538 & -0.7724773   & 0            & 1           \\\\\n",
       "\t 0.21407810   & 0.7022869    & 0.29771308   & -0.8582118   & -0.353413236 & -0.5309894   & 0            & 1           \\\\\n",
       "\t 0.21407810   & 0.7539889    & 0.24601110   & -1.1200010   & -0.282377634 & -0.6870961   & 0            & 1           \\\\\n",
       "\t 0.21407810   & 0.8028126    & 0.19718739   & -1.4039668   & -0.219633958 & -0.8517105   & 0            & 1           \\\\\n",
       "\t 0.02738354   & 0.9921424    & 0.00785762   & -4.8383828   & -0.007888654 & -2.4154625   & 0            & 1           \\\\\n",
       "\\end{tabular}\n"
      ],
      "text/markdown": [
       "\n",
       "| LTV | Recovery_rate | lgd_time | y_logistic | lnrr | Y_probit | purpose1 | event |\n",
       "|---|---|---|---|---|---|---|---|\n",
       "| 0.21407810   | 0.6980155    | 0.30198448   | -0.8378657   | -0.359513940 | -0.5187014   | 0            | 1            |\n",
       "| 0.21407810   | 0.7800841    | 0.21991590   | -1.2661566   | -0.248353538 | -0.7724773   | 0            | 1            |\n",
       "| 0.21407810   | 0.7022869    | 0.29771308   | -0.8582118   | -0.353413236 | -0.5309894   | 0            | 1            |\n",
       "| 0.21407810   | 0.7539889    | 0.24601110   | -1.1200010   | -0.282377634 | -0.6870961   | 0            | 1            |\n",
       "| 0.21407810   | 0.8028126    | 0.19718739   | -1.4039668   | -0.219633958 | -0.8517105   | 0            | 1            |\n",
       "| 0.02738354   | 0.9921424    | 0.00785762   | -4.8383828   | -0.007888654 | -2.4154625   | 0            | 1            |\n",
       "\n"
      ],
      "text/plain": [
       "  LTV        Recovery_rate lgd_time   y_logistic lnrr         Y_probit  \n",
       "1 0.21407810 0.6980155     0.30198448 -0.8378657 -0.359513940 -0.5187014\n",
       "2 0.21407810 0.7800841     0.21991590 -1.2661566 -0.248353538 -0.7724773\n",
       "3 0.21407810 0.7022869     0.29771308 -0.8582118 -0.353413236 -0.5309894\n",
       "4 0.21407810 0.7539889     0.24601110 -1.1200010 -0.282377634 -0.6870961\n",
       "5 0.21407810 0.8028126     0.19718739 -1.4039668 -0.219633958 -0.8517105\n",
       "6 0.02738354 0.9921424     0.00785762 -4.8383828 -0.007888654 -2.4154625\n",
       "  purpose1 event\n",
       "1 0        1    \n",
       "2 0        1    \n",
       "3 0        1    \n",
       "4 0        1    \n",
       "5 0        1    \n",
       "6 0        1    "
      ]
     },
     "metadata": {},
     "output_type": "display_data"
    }
   ],
   "source": [
    "lgd1 <- read.csv(\"lgd.csv\", header=TRUE)\n",
    "head(lgd1)"
   ]
  },
  {
   "cell_type": "code",
   "execution_count": 186,
   "metadata": {},
   "outputs": [
    {
     "data": {
      "text/html": [
       "<ol class=list-inline>\n",
       "\t<li>2545</li>\n",
       "\t<li>8</li>\n",
       "</ol>\n"
      ],
      "text/latex": [
       "\\begin{enumerate*}\n",
       "\\item 2545\n",
       "\\item 8\n",
       "\\end{enumerate*}\n"
      ],
      "text/markdown": [
       "1. 2545\n",
       "2. 8\n",
       "\n",
       "\n"
      ],
      "text/plain": [
       "[1] 2545    8"
      ]
     },
     "metadata": {},
     "output_type": "display_data"
    }
   ],
   "source": [
    "dim(lgd1)"
   ]
  },
  {
   "cell_type": "markdown",
   "metadata": {},
   "source": [
    "#### look into data sturcture and summary"
   ]
  },
  {
   "cell_type": "code",
   "execution_count": 181,
   "metadata": {},
   "outputs": [
    {
     "name": "stdout",
     "output_type": "stream",
     "text": [
      "'data.frame':\t2545 obs. of  8 variables:\n",
      " $ LTV          : num  0.214 0.214 0.214 0.214 0.214 ...\n",
      " $ Recovery_rate: num  0.698 0.78 0.702 0.754 0.803 ...\n",
      " $ lgd_time     : num  0.302 0.22 0.298 0.246 0.197 ...\n",
      " $ y_logistic   : num  -0.838 -1.266 -0.858 -1.12 -1.404 ...\n",
      " $ lnrr         : num  -0.36 -0.248 -0.353 -0.282 -0.22 ...\n",
      " $ Y_probit     : num  -0.519 -0.772 -0.531 -0.687 -0.852 ...\n",
      " $ purpose1     : int  0 0 0 0 0 0 0 0 0 0 ...\n",
      " $ event        : int  1 1 1 1 1 1 0 1 1 0 ...\n"
     ]
    }
   ],
   "source": [
    "str(lgd1)"
   ]
  },
  {
   "cell_type": "code",
   "execution_count": 182,
   "metadata": {},
   "outputs": [
    {
     "data": {
      "text/plain": [
       "      LTV           Recovery_rate        lgd_time         y_logistic      \n",
       " Min.   :0.001359   Min.   :0.00001   Min.   :0.00001   Min.   :-11.5129  \n",
       " 1st Qu.:0.399180   1st Qu.:0.60215   1st Qu.:0.00001   1st Qu.:-11.5129  \n",
       " Median :0.659417   Median :0.96793   Median :0.03207   Median : -3.4074  \n",
       " Mean   :0.676556   Mean   :0.77187   Mean   :0.22813   Mean   : -3.9413  \n",
       " 3rd Qu.:0.923548   3rd Qu.:0.99999   3rd Qu.:0.39785   3rd Qu.: -0.4144  \n",
       " Max.   :1.984065   Max.   :0.99999   Max.   :0.99999   Max.   : 11.5129  \n",
       "      lnrr              Y_probit          purpose1           event       \n",
       " Min.   :-11.51292   Min.   :-4.2649   Min.   :0.00000   Min.   :0.0000  \n",
       " 1st Qu.: -0.50726   1st Qu.:-4.2649   1st Qu.:0.00000   1st Qu.:0.0000  \n",
       " Median : -0.03259   Median :-1.8513   Median :0.00000   Median :1.0000  \n",
       " Mean   : -0.99665   Mean   :-1.6508   Mean   :0.07269   Mean   :0.7139  \n",
       " 3rd Qu.:  0.00000   3rd Qu.:-0.2589   3rd Qu.:0.00000   3rd Qu.:1.0000  \n",
       " Max.   :  0.00000   Max.   : 4.2649   Max.   :1.00000   Max.   :1.0000  "
      ]
     },
     "metadata": {},
     "output_type": "display_data"
    }
   ],
   "source": [
    "summary(lgd1)"
   ]
  },
  {
   "cell_type": "code",
   "execution_count": 194,
   "metadata": {},
   "outputs": [
    {
     "data": {
      "text/plain": [
       "\n",
       "        0         1 \n",
       "0.3151298 0.6848702 "
      ]
     },
     "metadata": {},
     "output_type": "display_data"
    }
   ],
   "source": [
    "# check by percentage\n",
    "table(lgd1$event) / nrow(lgd1)"
   ]
  },
  {
   "cell_type": "markdown",
   "metadata": {},
   "source": [
    "#### check msiing values and outliners"
   ]
  },
  {
   "cell_type": "code",
   "execution_count": 184,
   "metadata": {},
   "outputs": [
    {
     "data": {
      "text/html": [
       "0"
      ],
      "text/latex": [
       "0"
      ],
      "text/markdown": [
       "0"
      ],
      "text/plain": [
       "[1] 0"
      ]
     },
     "metadata": {},
     "output_type": "display_data"
    }
   ],
   "source": [
    "sum(is.na(lgd1))"
   ]
  },
  {
   "cell_type": "code",
   "execution_count": 185,
   "metadata": {},
   "outputs": [
    {
     "data": {
      "image/png": "[encoded data removed]",
      "text/plain": [
       "plot without title"
      ]
     },
     "metadata": {},
     "output_type": "display_data"
    }
   ],
   "source": [
    "boxplot(lgd1)"
   ]
  },
  {
   "cell_type": "code",
   "execution_count": 187,
   "metadata": {},
   "outputs": [
    {
     "data": {
      "text/html": [
       "<ol class=list-inline>\n",
       "\t<li>2396</li>\n",
       "\t<li>8</li>\n",
       "</ol>\n"
      ],
      "text/latex": [
       "\\begin{enumerate*}\n",
       "\\item 2396\n",
       "\\item 8\n",
       "\\end{enumerate*}\n"
      ],
      "text/markdown": [
       "1. 2396\n",
       "2. 8\n",
       "\n",
       "\n"
      ],
      "text/plain": [
       "[1] 2396    8"
      ]
     },
     "metadata": {},
     "output_type": "display_data"
    }
   ],
   "source": [
    "# remove outliners\n",
    "lgd1<-lgd1[lgd1$lnrr>-6,]\n",
    "dim(lgd1)"
   ]
  },
  {
   "cell_type": "code",
   "execution_count": 188,
   "metadata": {},
   "outputs": [
    {
     "data": {
      "text/html": [
       "<ol class=list-inline>\n",
       "\t<li>2234</li>\n",
       "\t<li>8</li>\n",
       "</ol>\n"
      ],
      "text/latex": [
       "\\begin{enumerate*}\n",
       "\\item 2234\n",
       "\\item 8\n",
       "\\end{enumerate*}\n"
      ],
      "text/markdown": [
       "1. 2234\n",
       "2. 8\n",
       "\n",
       "\n"
      ],
      "text/plain": [
       "[1] 2234    8"
      ]
     },
     "metadata": {},
     "output_type": "display_data"
    }
   ],
   "source": [
    "lgd1<-lgd1[!lgd1$purpose1==1,]\n",
    "dim(lgd1)"
   ]
  },
  {
   "cell_type": "markdown",
   "metadata": {},
   "source": [
    "#### split data into train and test"
   ]
  },
  {
   "cell_type": "code",
   "execution_count": 191,
   "metadata": {},
   "outputs": [],
   "source": [
    "splitlgd1<-createDataPartition(lgd1$event,p=0.5,list = FALSE)\n",
    "train<-lgd1[splitlgd1,]\n",
    "test<-lgd1[-splitlgd1,]"
   ]
  },
  {
   "cell_type": "code",
   "execution_count": 192,
   "metadata": {},
   "outputs": [
    {
     "data": {
      "text/html": [
       "<table>\n",
       "<thead><tr><th scope=col>event</th><th scope=col>count</th><th scope=col>percentage</th></tr></thead>\n",
       "<tbody>\n",
       "\t<tr><td>0   </td><td>363 </td><td>0.32</td></tr>\n",
       "\t<tr><td>1   </td><td>754 </td><td>0.68</td></tr>\n",
       "</tbody>\n",
       "</table>\n"
      ],
      "text/latex": [
       "\\begin{tabular}{r|lll}\n",
       " event & count & percentage\\\\\n",
       "\\hline\n",
       "\t 0    & 363  & 0.32\\\\\n",
       "\t 1    & 754  & 0.68\\\\\n",
       "\\end{tabular}\n"
      ],
      "text/markdown": [
       "\n",
       "| event | count | percentage |\n",
       "|---|---|---|\n",
       "| 0    | 363  | 0.32 |\n",
       "| 1    | 754  | 0.68 |\n",
       "\n"
      ],
      "text/plain": [
       "  event count percentage\n",
       "1 0     363   0.32      \n",
       "2 1     754   0.68      "
      ]
     },
     "metadata": {},
     "output_type": "display_data"
    }
   ],
   "source": [
    "# train\n",
    "ddply(train, \"event\", summarise, count = length(event), \n",
    "    percentage = round(length(event)/nrow(train), 2))"
   ]
  },
  {
   "cell_type": "code",
   "execution_count": 193,
   "metadata": {},
   "outputs": [
    {
     "data": {
      "text/html": [
       "<table>\n",
       "<thead><tr><th scope=col>event</th><th scope=col>count</th><th scope=col>percentage</th></tr></thead>\n",
       "<tbody>\n",
       "\t<tr><td>0   </td><td>341 </td><td>0.31</td></tr>\n",
       "\t<tr><td>1   </td><td>776 </td><td>0.69</td></tr>\n",
       "</tbody>\n",
       "</table>\n"
      ],
      "text/latex": [
       "\\begin{tabular}{r|lll}\n",
       " event & count & percentage\\\\\n",
       "\\hline\n",
       "\t 0    & 341  & 0.31\\\\\n",
       "\t 1    & 776  & 0.69\\\\\n",
       "\\end{tabular}\n"
      ],
      "text/markdown": [
       "\n",
       "| event | count | percentage |\n",
       "|---|---|---|\n",
       "| 0    | 341  | 0.31 |\n",
       "| 1    | 776  | 0.69 |\n",
       "\n"
      ],
      "text/plain": [
       "  event count percentage\n",
       "1 0     341   0.31      \n",
       "2 1     776   0.69      "
      ]
     },
     "metadata": {},
     "output_type": "display_data"
    }
   ],
   "source": [
    "# test\n",
    "ddply(test, \"event\", summarise, count = length(event), \n",
    "    percentage = round(length(event)/nrow(test), 2))"
   ]
  },
  {
   "cell_type": "code",
   "execution_count": 189,
   "metadata": {},
   "outputs": [
    {
     "data": {
      "image/png": "[encoded data removed]",
      "text/plain": [
       "plot without title"
      ]
     },
     "metadata": {},
     "output_type": "display_data"
    }
   ],
   "source": [
    "boxplot(lgd1)"
   ]
  },
  {
   "cell_type": "markdown",
   "metadata": {},
   "source": [
    "#### Logistic Regression"
   ]
  },
  {
   "cell_type": "code",
   "execution_count": 195,
   "metadata": {},
   "outputs": [
    {
     "name": "stderr",
     "output_type": "stream",
     "text": [
      "Warning message:\n",
      "\"glm.fit: algorithm did not converge\"Warning message:\n",
      "\"glm.fit: fitted probabilities numerically 0 or 1 occurred\""
     ]
    },
    {
     "data": {
      "text/plain": [
       "\n",
       "Call:\n",
       "glm(formula = event ~ ., family = binomial(link = \"logit\"), data = train)\n",
       "\n",
       "Deviance Residuals: \n",
       "       Min          1Q      Median          3Q         Max  \n",
       "-6.366e-06  -2.703e-06   2.100e-08   2.100e-08   7.310e-05  \n",
       "\n",
       "Coefficients: (2 not defined because of singularities)\n",
       "                Estimate Std. Error z value Pr(>|z|)\n",
       "(Intercept)      190.959 324826.452   0.001    1.000\n",
       "LTV               -2.461  33733.738   0.000    1.000\n",
       "Recovery_rate   -325.215 488736.800  -0.001    0.999\n",
       "lgd_time              NA         NA      NA       NA\n",
       "y_logistic        82.460  43006.009   0.002    0.998\n",
       "lnrr              -8.262  46332.315   0.000    1.000\n",
       "Y_probit        -248.309 152172.451  -0.002    0.999\n",
       "purpose1              NA         NA      NA       NA\n",
       "\n",
       "(Dispersion parameter for binomial family taken to be 1)\n",
       "\n",
       "    Null deviance: 1.4087e+03  on 1116  degrees of freedom\n",
       "Residual deviance: 1.4908e-08  on 1111  degrees of freedom\n",
       "AIC: 12\n",
       "\n",
       "Number of Fisher Scoring iterations: 25\n"
      ]
     },
     "metadata": {},
     "output_type": "display_data"
    }
   ],
   "source": [
    "train$event<-as.factor(train$event)\n",
    "model_bin<-glm(event ~ ., data=train,family = binomial(link = \"logit\"))\n",
    "summary(model_bin)"
   ]
  },
  {
   "cell_type": "code",
   "execution_count": 196,
   "metadata": {},
   "outputs": [
    {
     "data": {
      "text/plain": [
       "Confusion Matrix and Statistics\n",
       "\n",
       "          Reference\n",
       "Prediction   0   1\n",
       "         0 363   0\n",
       "         1   0 754\n",
       "                                     \n",
       "               Accuracy : 1          \n",
       "                 95% CI : (0.9967, 1)\n",
       "    No Information Rate : 0.675      \n",
       "    P-Value [Acc > NIR] : < 2.2e-16  \n",
       "                                     \n",
       "                  Kappa : 1          \n",
       "                                     \n",
       " Mcnemar's Test P-Value : NA         \n",
       "                                     \n",
       "            Sensitivity : 1.000      \n",
       "            Specificity : 1.000      \n",
       "         Pos Pred Value : 1.000      \n",
       "         Neg Pred Value : 1.000      \n",
       "             Prevalence : 0.325      \n",
       "         Detection Rate : 0.325      \n",
       "   Detection Prevalence : 0.325      \n",
       "      Balanced Accuracy : 1.000      \n",
       "                                     \n",
       "       'Positive' Class : 0          \n",
       "                                     "
      ]
     },
     "metadata": {},
     "output_type": "display_data"
    }
   ],
   "source": [
    "pred_train_bin<-ifelse(model_bin$fitted.values>0.5,1,0)\n",
    "confusionMatrix(as.factor(train$event),as.factor(pred_train_bin))"
   ]
  },
  {
   "cell_type": "code",
   "execution_count": 197,
   "metadata": {},
   "outputs": [
    {
     "data": {
      "text/html": [
       "<ol>\n",
       "\t<li>1</li>\n",
       "</ol>\n"
      ],
      "text/latex": [
       "\\begin{enumerate}\n",
       "\\item 1\n",
       "\\end{enumerate}\n"
      ],
      "text/markdown": [
       "1. 1\n",
       "\n",
       "\n"
      ],
      "text/plain": [
       "[[1]]\n",
       "[1] 1\n"
      ]
     },
     "metadata": {},
     "output_type": "display_data"
    }
   ],
   "source": [
    "pr<-prediction(as.numeric(pred_train_bin),as.numeric(train$event))\n",
    "auc<-performance(pr,measure = \"auc\")\n",
    "auc<-auc@y.values\n",
    "auc"
   ]
  },
  {
   "cell_type": "code",
   "execution_count": 198,
   "metadata": {},
   "outputs": [
    {
     "data": {
      "image/png": "[encoded data removed]",
      "text/plain": [
       "plot without title"
      ]
     },
     "metadata": {},
     "output_type": "display_data"
    }
   ],
   "source": [
    "prf<-performance(pr,measure = \"tpr\",x.measure = \"fpr\")\n",
    "plot(prf)"
   ]
  },
  {
   "cell_type": "markdown",
   "metadata": {},
   "source": [
    "#### Naiv Bayes"
   ]
  },
  {
   "cell_type": "code",
   "execution_count": 205,
   "metadata": {},
   "outputs": [
    {
     "data": {
      "text/plain": [
       "\n",
       "================================== Naive Bayes ================================== \n",
       " \n",
       " Call: \n",
       "naive_bayes.formula(formula = event ~ ., data = train, metric = metric)\n",
       "\n",
       "--------------------------------------------------------------------------------- \n",
       " \n",
       "Laplace smoothing: 0\n",
       "\n",
       "--------------------------------------------------------------------------------- \n",
       " \n",
       " A priori probabilities: \n",
       "\n",
       "        0         1 \n",
       "0.3249776 0.6750224 \n",
       "\n",
       "--------------------------------------------------------------------------------- \n",
       " \n",
       " Tables: \n",
       "\n",
       "--------------------------------------------------------------------------------- \n",
       " ::: LTV (Gaussian) \n",
       "--------------------------------------------------------------------------------- \n",
       "      \n",
       "LTV            0         1\n",
       "  mean 0.5041639 0.7362971\n",
       "  sd   0.2792366 0.3538688\n",
       "\n",
       "--------------------------------------------------------------------------------- \n",
       " ::: Recovery_rate (Gaussian) \n",
       "--------------------------------------------------------------------------------- \n",
       "             \n",
       "Recovery_rate        0        1\n",
       "         mean 0.999990 0.742057\n",
       "         sd   0.000000 0.302953\n",
       "\n",
       "--------------------------------------------------------------------------------- \n",
       " ::: lgd_time (Gaussian) \n",
       "--------------------------------------------------------------------------------- \n",
       "        \n",
       "lgd_time        0        1\n",
       "    mean 0.000010 0.257943\n",
       "    sd   0.000000 0.302953\n",
       "\n",
       "--------------------------------------------------------------------------------- \n",
       " ::: y_logistic (Gaussian) \n",
       "--------------------------------------------------------------------------------- \n",
       "          \n",
       "y_logistic          0          1\n",
       "      mean -11.512915  -2.006196\n",
       "      sd     0.000000   2.598513\n",
       "\n",
       "--------------------------------------------------------------------------------- \n",
       " ::: lnrr (Gaussian) \n",
       "--------------------------------------------------------------------------------- \n",
       "      \n",
       "lnrr            0          1\n",
       "  mean  0.0000000 -0.5263105\n",
       "  sd    0.0000000  0.9611302\n",
       "\n",
       "---------------------------------------------------------------------------------\n",
       "\n",
       "# ... and 2 more tables\n",
       "\n",
       "---------------------------------------------------------------------------------\n"
      ]
     },
     "metadata": {},
     "output_type": "display_data"
    }
   ],
   "source": [
    "metric<-\"Accuracy\"\n",
    "model_naive<-naive_bayes(event ~ ., data=train,metric=metric)\n",
    "model_naive"
   ]
  },
  {
   "cell_type": "code",
   "execution_count": 206,
   "metadata": {},
   "outputs": [
    {
     "name": "stderr",
     "output_type": "stream",
     "text": [
      "Warning message:\n",
      "\"predict.naive_bayes(): more features in the newdata are provided as there are probability tables in the object. Calculation is performed based on features to be found in the tables.\""
     ]
    },
    {
     "data": {
      "text/plain": [
       "Confusion Matrix and Statistics\n",
       "\n",
       "          Reference\n",
       "Prediction   0   1\n",
       "         0 363   0\n",
       "         1  29 725\n",
       "                                          \n",
       "               Accuracy : 0.974           \n",
       "                 95% CI : (0.9629, 0.9825)\n",
       "    No Information Rate : 0.6491          \n",
       "    P-Value [Acc > NIR] : < 2.2e-16       \n",
       "                                          \n",
       "                  Kappa : 0.942           \n",
       "                                          \n",
       " Mcnemar's Test P-Value : 1.999e-07       \n",
       "                                          \n",
       "            Sensitivity : 0.9260          \n",
       "            Specificity : 1.0000          \n",
       "         Pos Pred Value : 1.0000          \n",
       "         Neg Pred Value : 0.9615          \n",
       "             Prevalence : 0.3509          \n",
       "         Detection Rate : 0.3250          \n",
       "   Detection Prevalence : 0.3250          \n",
       "      Balanced Accuracy : 0.9630          \n",
       "                                          \n",
       "       'Positive' Class : 0               \n",
       "                                          "
      ]
     },
     "metadata": {},
     "output_type": "display_data"
    }
   ],
   "source": [
    "pred_train_naive<-predict(model_naive,train)\n",
    "confusionMatrix(as.factor(train$event),as.factor(pred_train_naive))"
   ]
  },
  {
   "cell_type": "code",
   "execution_count": 207,
   "metadata": {},
   "outputs": [
    {
     "data": {
      "text/html": [
       "<ol>\n",
       "\t<li>0.980769230769231</li>\n",
       "</ol>\n"
      ],
      "text/latex": [
       "\\begin{enumerate}\n",
       "\\item 0.980769230769231\n",
       "\\end{enumerate}\n"
      ],
      "text/markdown": [
       "1. 0.980769230769231\n",
       "\n",
       "\n"
      ],
      "text/plain": [
       "[[1]]\n",
       "[1] 0.9807692\n"
      ]
     },
     "metadata": {},
     "output_type": "display_data"
    }
   ],
   "source": [
    "pr<-prediction(as.numeric(pred_train_naive),as.numeric(train$event))\n",
    "auc<-performance(pr,measure = \"auc\")\n",
    "auc<-auc@y.values\n",
    "auc"
   ]
  },
  {
   "cell_type": "code",
   "execution_count": 208,
   "metadata": {},
   "outputs": [
    {
     "data": {
      "image/png": "[encoded data removed]",
      "text/plain": [
       "plot without title"
      ]
     },
     "metadata": {},
     "output_type": "display_data"
    }
   ],
   "source": [
    "prf<-performance(pr,measure = \"tpr\",x.measure = \"fpr\")\n",
    "plot(prf)"
   ]
  },
  {
   "cell_type": "markdown",
   "metadata": {},
   "source": [
    "#### Random Forest"
   ]
  },
  {
   "cell_type": "code",
   "execution_count": 211,
   "metadata": {},
   "outputs": [
    {
     "data": {
      "text/plain": [
       "\n",
       "Call:\n",
       " randomForest(formula = event ~ ., data = train, mtry = 3, ntree = 500) \n",
       "               Type of random forest: classification\n",
       "                     Number of trees: 500\n",
       "No. of variables tried at each split: 3\n",
       "\n",
       "        OOB estimate of  error rate: 0%\n",
       "Confusion matrix:\n",
       "    0   1 class.error\n",
       "0 363   0           0\n",
       "1   0 754           0"
      ]
     },
     "metadata": {},
     "output_type": "display_data"
    }
   ],
   "source": [
    "model_rforest<-randomForest(event ~ ., data=train,mtry=3,ntree=500)\n",
    "model_rforest"
   ]
  },
  {
   "cell_type": "code",
   "execution_count": 212,
   "metadata": {},
   "outputs": [
    {
     "data": {
      "text/plain": [
       "Confusion Matrix and Statistics\n",
       "\n",
       "          Reference\n",
       "Prediction   0   1\n",
       "         0 363   0\n",
       "         1   0 754\n",
       "                                     \n",
       "               Accuracy : 1          \n",
       "                 95% CI : (0.9967, 1)\n",
       "    No Information Rate : 0.675      \n",
       "    P-Value [Acc > NIR] : < 2.2e-16  \n",
       "                                     \n",
       "                  Kappa : 1          \n",
       "                                     \n",
       " Mcnemar's Test P-Value : NA         \n",
       "                                     \n",
       "            Sensitivity : 1.000      \n",
       "            Specificity : 1.000      \n",
       "         Pos Pred Value : 1.000      \n",
       "         Neg Pred Value : 1.000      \n",
       "             Prevalence : 0.325      \n",
       "         Detection Rate : 0.325      \n",
       "   Detection Prevalence : 0.325      \n",
       "      Balanced Accuracy : 1.000      \n",
       "                                     \n",
       "       'Positive' Class : 0          \n",
       "                                     "
      ]
     },
     "metadata": {},
     "output_type": "display_data"
    }
   ],
   "source": [
    "pred_train_rf<-predict(model_rforest,train)\n",
    "confusionMatrix(as.factor(train$event),as.factor(pred_train_rf))"
   ]
  },
  {
   "cell_type": "code",
   "execution_count": 213,
   "metadata": {},
   "outputs": [
    {
     "data": {
      "text/html": [
       "<ol>\n",
       "\t<li>1</li>\n",
       "</ol>\n"
      ],
      "text/latex": [
       "\\begin{enumerate}\n",
       "\\item 1\n",
       "\\end{enumerate}\n"
      ],
      "text/markdown": [
       "1. 1\n",
       "\n",
       "\n"
      ],
      "text/plain": [
       "[[1]]\n",
       "[1] 1\n"
      ]
     },
     "metadata": {},
     "output_type": "display_data"
    }
   ],
   "source": [
    "pr<-prediction(as.numeric(pred_train_rf),as.numeric(train$event))\n",
    "auc<-performance(pr,measure = \"auc\")\n",
    "auc<-auc@y.values\n",
    "auc"
   ]
  },
  {
   "cell_type": "code",
   "execution_count": 214,
   "metadata": {},
   "outputs": [
    {
     "data": {
      "image/png": "[encoded data removed]",
      "text/plain": [
       "plot without title"
      ]
     },
     "metadata": {},
     "output_type": "display_data"
    }
   ],
   "source": [
    "prf<-performance(pr,measure = \"tpr\",x.measure = \"fpr\")\n",
    "plot(prf)"
   ]
  },
  {
   "cell_type": "markdown",
   "metadata": {},
   "source": [
    "#### shuffle the data and split into train and test"
   ]
  },
  {
   "cell_type": "code",
   "execution_count": 217,
   "metadata": {},
   "outputs": [
    {
     "data": {
      "text/html": [
       "<ol class=list-inline>\n",
       "\t<li>1564</li>\n",
       "\t<li>8</li>\n",
       "</ol>\n"
      ],
      "text/latex": [
       "\\begin{enumerate*}\n",
       "\\item 1564\n",
       "\\item 8\n",
       "\\end{enumerate*}\n"
      ],
      "text/markdown": [
       "1. 1564\n",
       "2. 8\n",
       "\n",
       "\n"
      ],
      "text/plain": [
       "[1] 1564    8"
      ]
     },
     "metadata": {},
     "output_type": "display_data"
    }
   ],
   "source": [
    "set.seed(356)\n",
    "splitlgd1<-createDataPartition(lgd1$event,p=0.7,list = FALSE)\n",
    "train<-lgd1[splitlgd1,]\n",
    "test<-lgd1[-splitlgd1,]\n",
    "dim(train)"
   ]
  },
  {
   "cell_type": "code",
   "execution_count": 218,
   "metadata": {},
   "outputs": [
    {
     "data": {
      "text/html": [
       "<ol class=list-inline>\n",
       "\t<li>402</li>\n",
       "\t<li>8</li>\n",
       "</ol>\n"
      ],
      "text/latex": [
       "\\begin{enumerate*}\n",
       "\\item 402\n",
       "\\item 8\n",
       "\\end{enumerate*}\n"
      ],
      "text/markdown": [
       "1. 402\n",
       "2. 8\n",
       "\n",
       "\n"
      ],
      "text/plain": [
       "[1] 402   8"
      ]
     },
     "metadata": {},
     "output_type": "display_data"
    }
   ],
   "source": [
    "splittest<-createDataPartition(test$event,p=0.6,list = FALSE)\n",
    "test1<-test[splittest,]\n",
    "test2<-test[-splittest,]\n",
    "dim(test1)"
   ]
  },
  {
   "cell_type": "markdown",
   "metadata": {},
   "source": [
    "#### Bulid the model"
   ]
  },
  {
   "cell_type": "code",
   "execution_count": 219,
   "metadata": {},
   "outputs": [
    {
     "name": "stderr",
     "output_type": "stream",
     "text": [
      "Warning message in randomForest.default(m, y, ...):\n",
      "\"The response has five or fewer unique values.  Are you sure you want to do regression?\""
     ]
    },
    {
     "data": {
      "text/plain": [
       "\n",
       "Call:\n",
       " randomForest(formula = event ~ ., data = train, mtry = 5, ntree = 300) \n",
       "               Type of random forest: regression\n",
       "                     Number of trees: 300\n",
       "No. of variables tried at each split: 5\n",
       "\n",
       "          Mean of squared residuals: 0.0006526025\n",
       "                    % Var explained: 99.7"
      ]
     },
     "metadata": {},
     "output_type": "display_data"
    }
   ],
   "source": [
    "model_rforest1<-randomForest(event ~ ., data=train,mtry=5,ntree=300)\n",
    "model_rforest1"
   ]
  },
  {
   "cell_type": "code",
   "execution_count": 220,
   "metadata": {},
   "outputs": [
    {
     "data": {
      "text/plain": [
       "Confusion Matrix and Statistics\n",
       "\n",
       "          Reference\n",
       "Prediction    0    1\n",
       "         0  498    0\n",
       "         1    0 1066\n",
       "                                     \n",
       "               Accuracy : 1          \n",
       "                 95% CI : (0.9976, 1)\n",
       "    No Information Rate : 0.6816     \n",
       "    P-Value [Acc > NIR] : < 2.2e-16  \n",
       "                                     \n",
       "                  Kappa : 1          \n",
       "                                     \n",
       " Mcnemar's Test P-Value : NA         \n",
       "                                     \n",
       "            Sensitivity : 1.0000     \n",
       "            Specificity : 1.0000     \n",
       "         Pos Pred Value : 1.0000     \n",
       "         Neg Pred Value : 1.0000     \n",
       "             Prevalence : 0.3184     \n",
       "         Detection Rate : 0.3184     \n",
       "   Detection Prevalence : 0.3184     \n",
       "      Balanced Accuracy : 1.0000     \n",
       "                                     \n",
       "       'Positive' Class : 0          \n",
       "                                     "
      ]
     },
     "metadata": {},
     "output_type": "display_data"
    }
   ],
   "source": [
    "pred<-predict(model_rforest1,train,type=\"response\")\n",
    "pred_train<-ifelse(pred>0.5,1,0)\n",
    "confusionMatrix(as.factor(train$event),as.factor(pred_train))"
   ]
  },
  {
   "cell_type": "code",
   "execution_count": 221,
   "metadata": {},
   "outputs": [
    {
     "data": {
      "text/html": [
       "<ol>\n",
       "\t<li>1</li>\n",
       "</ol>\n"
      ],
      "text/latex": [
       "\\begin{enumerate}\n",
       "\\item 1\n",
       "\\end{enumerate}\n"
      ],
      "text/markdown": [
       "1. 1\n",
       "\n",
       "\n"
      ],
      "text/plain": [
       "[[1]]\n",
       "[1] 1\n"
      ]
     },
     "metadata": {},
     "output_type": "display_data"
    }
   ],
   "source": [
    "pr<-prediction(as.numeric(pred_train),as.numeric(train$event))\n",
    "auc<-performance(pr,measure = \"auc\")\n",
    "auc<-auc@y.values\n",
    "auc"
   ]
  },
  {
   "cell_type": "code",
   "execution_count": 222,
   "metadata": {},
   "outputs": [
    {
     "data": {
      "image/png": "[encoded data removed]",
      "text/plain": [
       "plot without title"
      ]
     },
     "metadata": {},
     "output_type": "display_data"
    }
   ],
   "source": [
    "prf<-performance(pr,measure = \"tpr\",x.measure = \"fpr\")\n",
    "plot(prf)"
   ]
  },
  {
   "cell_type": "code",
   "execution_count": 223,
   "metadata": {},
   "outputs": [
    {
     "data": {
      "text/plain": [
       "Confusion Matrix and Statistics\n",
       "\n",
       "          Reference\n",
       "Prediction   0   1\n",
       "         0 132   0\n",
       "         1   0 270\n",
       "                                     \n",
       "               Accuracy : 1          \n",
       "                 95% CI : (0.9909, 1)\n",
       "    No Information Rate : 0.6716     \n",
       "    P-Value [Acc > NIR] : < 2.2e-16  \n",
       "                                     \n",
       "                  Kappa : 1          \n",
       "                                     \n",
       " Mcnemar's Test P-Value : NA         \n",
       "                                     \n",
       "            Sensitivity : 1.0000     \n",
       "            Specificity : 1.0000     \n",
       "         Pos Pred Value : 1.0000     \n",
       "         Neg Pred Value : 1.0000     \n",
       "             Prevalence : 0.3284     \n",
       "         Detection Rate : 0.3284     \n",
       "   Detection Prevalence : 0.3284     \n",
       "      Balanced Accuracy : 1.0000     \n",
       "                                     \n",
       "       'Positive' Class : 0          \n",
       "                                     "
      ]
     },
     "metadata": {},
     "output_type": "display_data"
    }
   ],
   "source": [
    "pred<-predict(model_rforest1,test1,type=\"response\")\n",
    "pred_test1<-ifelse(pred>0.5,1,0)\n",
    "library(caret)\n",
    "confusionMatrix(as.factor(test1$event),as.factor(pred_test1))"
   ]
  },
  {
   "cell_type": "code",
   "execution_count": 224,
   "metadata": {},
   "outputs": [
    {
     "data": {
      "text/html": [
       "<ol>\n",
       "\t<li>1</li>\n",
       "</ol>\n"
      ],
      "text/latex": [
       "\\begin{enumerate}\n",
       "\\item 1\n",
       "\\end{enumerate}\n"
      ],
      "text/markdown": [
       "1. 1\n",
       "\n",
       "\n"
      ],
      "text/plain": [
       "[[1]]\n",
       "[1] 1\n"
      ]
     },
     "metadata": {},
     "output_type": "display_data"
    }
   ],
   "source": [
    "pr<-prediction(as.numeric(pred_test1),as.numeric(test1$event))\n",
    "auc<-performance(pr,measure = \"auc\")\n",
    "auc<-auc@y.values\n",
    "auc"
   ]
  },
  {
   "cell_type": "code",
   "execution_count": 225,
   "metadata": {},
   "outputs": [
    {
     "data": {
      "image/png": "[encoded data removed]",
      "text/plain": [
       "plot without title"
      ]
     },
     "metadata": {},
     "output_type": "display_data"
    }
   ],
   "source": [
    "prf<-performance(pr,measure = \"tpr\",x.measure = \"fpr\")\n",
    "plot(prf)"
   ]
  },
  {
   "cell_type": "code",
   "execution_count": 226,
   "metadata": {},
   "outputs": [
    {
     "data": {
      "text/plain": [
       "Confusion Matrix and Statistics\n",
       "\n",
       "          Reference\n",
       "Prediction   0   1\n",
       "         0  74   0\n",
       "         1   0 194\n",
       "                                     \n",
       "               Accuracy : 1          \n",
       "                 95% CI : (0.9863, 1)\n",
       "    No Information Rate : 0.7239     \n",
       "    P-Value [Acc > NIR] : < 2.2e-16  \n",
       "                                     \n",
       "                  Kappa : 1          \n",
       "                                     \n",
       " Mcnemar's Test P-Value : NA         \n",
       "                                     \n",
       "            Sensitivity : 1.0000     \n",
       "            Specificity : 1.0000     \n",
       "         Pos Pred Value : 1.0000     \n",
       "         Neg Pred Value : 1.0000     \n",
       "             Prevalence : 0.2761     \n",
       "         Detection Rate : 0.2761     \n",
       "   Detection Prevalence : 0.2761     \n",
       "      Balanced Accuracy : 1.0000     \n",
       "                                     \n",
       "       'Positive' Class : 0          \n",
       "                                     "
      ]
     },
     "metadata": {},
     "output_type": "display_data"
    }
   ],
   "source": [
    "pred<-predict(model_rforest1,test2,type=\"response\")\n",
    "pred_test2<-ifelse(pred>0.5,1,0)\n",
    "library(caret)\n",
    "confusionMatrix(as.factor(test2$event),as.factor(pred_test2))"
   ]
  },
  {
   "cell_type": "code",
   "execution_count": 227,
   "metadata": {},
   "outputs": [
    {
     "data": {
      "text/html": [
       "<ol>\n",
       "\t<li>1</li>\n",
       "</ol>\n"
      ],
      "text/latex": [
       "\\begin{enumerate}\n",
       "\\item 1\n",
       "\\end{enumerate}\n"
      ],
      "text/markdown": [
       "1. 1\n",
       "\n",
       "\n"
      ],
      "text/plain": [
       "[[1]]\n",
       "[1] 1\n"
      ]
     },
     "metadata": {},
     "output_type": "display_data"
    }
   ],
   "source": [
    "pr<-prediction(as.numeric(pred_test2),as.numeric(test2$event))\n",
    "auc<-performance(pr,measure = \"auc\")\n",
    "auc<-auc@y.values\n",
    "auc"
   ]
  },
  {
   "cell_type": "code",
   "execution_count": 228,
   "metadata": {},
   "outputs": [
    {
     "data": {
      "image/png": "[encoded data removed]",
      "text/plain": [
       "plot without title"
      ]
     },
     "metadata": {},
     "output_type": "display_data"
    }
   ],
   "source": [
    "prf<-performance(pr,measure = \"tpr\",x.measure = \"fpr\")\n",
    "plot(prf)"
   ]
  },
  {
   "cell_type": "code",
   "execution_count": null,
   "metadata": {},
   "outputs": [],
   "source": []
  },
  {
   "cell_type": "code",
   "execution_count": null,
   "metadata": {},
   "outputs": [],
   "source": []
  }
 ],
 "metadata": {
  "kernelspec": {
   "display_name": "R",
   "language": "R",
   "name": "ir"
  },
  "language_info": {
   "codemirror_mode": "r",
   "file_extension": ".r",
   "mimetype": "text/x-r-source",
   "name": "R",
   "pygments_lexer": "r",
   "version": "3.6.1"
  }
 },
 "nbformat": 4,
 "nbformat_minor": 2
}
